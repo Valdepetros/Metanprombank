{
 "cells": [
  {
   "cell_type": "markdown",
   "metadata": {},
   "source": [
    "https://public.tableau.com/app/profile/vladimir.petrov6121/viz/MetanpromDASH/sheet2?publish=yes"
   ]
  },
  {
   "cell_type": "markdown",
   "metadata": {},
   "source": [
    "<div style=\"background: #B0E0E6; padding: 5px; border: 1px solid SteelBlue; border-radius: 5px;\">\n",
    "\n",
    "***Аналитическое исследование банка «Метанпромбанк»***\n",
    "    \n",
    "Наша задача , провести аналитическое исследование , выявить как клиенты пользуются нашими услугами , \n",
    "а так же составить портрет клиентов, которые склонны уходить из банка.\n",
    "\n",
    "**Цель исследования:**\n",
    "    \n",
    "1) Изучить данные \n",
    "    \n",
    "2) Провести предобработку данных\n",
    "    \n",
    "3) Исследовать данные в целом , выявить закономерности\n",
    "\n",
    "4) Сегментировать пользователей на основе данных о количестве потребляемых продуктов,\n",
    "    \n",
    "5) Проверить гиппотезы    \n",
    "\n",
    "6) Сделать промежуточные и общий выводы \n",
    "    \n",
    "7) Дать рекомендации , основываясь на результатах исследования\n",
    "    \n",
    "    \n",
    "**Описание данных:**\n",
    "\n",
    "Датасет содержит данные о клиентах банка «Метанпром». Банк располагается в Ярославле и областных городах: Ростов Великий \n",
    "и Рыбинск.\n",
    "\n",
    "файл 'bank_dataset.csv'\n",
    "\n",
    "Колонки:\n",
    "\n",
    "- `userid` — идентификатор пользователя\n",
    "\n",
    "- `score` — баллы кредитного скоринга\n",
    "\n",
    "- `City` — город\n",
    "\n",
    "- `Gender` — пол\n",
    "\n",
    "- `Age` — возраст\n",
    "\n",
    "- `Objects` — количество объектов в собственности\n",
    "\n",
    "- `Balance` — баланс на счёте\n",
    "\n",
    "- `Products` — количество продуктов, которыми пользуется клиент\n",
    "\n",
    "- `CreditCard` — есть ли кредитная карта\n",
    "\n",
    "- `Loyalty` — активный клиент\n",
    "\n",
    "- `estimated_salary` — заработная плата клиента\n",
    "\n",
    "- `Churn` — ушёл или нет\n",
    "\n",
    "    \n"
   ]
  },
  {
   "cell_type": "markdown",
   "metadata": {},
   "source": [
    "<div style=\"background: #B0E0E6; padding: 5px; border: 1px solid SteelBlue; border-radius: 5px;\">\n",
    "\n",
    "## Изучение данных "
   ]
  },
  {
   "cell_type": "code",
   "execution_count": 1,
   "metadata": {},
   "outputs": [],
   "source": [
    "import pandas as pd \n",
    "import numpy as np\n",
    "import seaborn as sns\n",
    "import datetime as dt\n",
    "from scipy import stats as st\n",
    "import math as mth\n",
    "import plotly.express as px\n",
    "import matplotlib.pyplot as plt\n",
    "from matplotlib import pyplot as plt\n",
    "from plotly import graph_objects as go\n",
    "import warnings\n",
    "import os\n",
    "warnings.filterwarnings('ignore')"
   ]
  },
  {
   "cell_type": "code",
   "execution_count": 2,
   "metadata": {},
   "outputs": [],
   "source": [
    "path = 'bank_dataset.csv'\n",
    "if os.path.exists(path):\n",
    "    path = 'bank_dataset.csv'\n",
    "else:\n",
    "    path = '/datasets/bank_dataset.csv'\n",
    "    \n",
    "df = pd.read_csv(path)"
   ]
  },
  {
   "cell_type": "code",
   "execution_count": 3,
   "metadata": {},
   "outputs": [
    {
     "data": {
      "text/html": [
       "<div>\n",
       "<style scoped>\n",
       "    .dataframe tbody tr th:only-of-type {\n",
       "        vertical-align: middle;\n",
       "    }\n",
       "\n",
       "    .dataframe tbody tr th {\n",
       "        vertical-align: top;\n",
       "    }\n",
       "\n",
       "    .dataframe thead th {\n",
       "        text-align: right;\n",
       "    }\n",
       "</style>\n",
       "<table border=\"1\" class=\"dataframe\">\n",
       "  <thead>\n",
       "    <tr style=\"text-align: right;\">\n",
       "      <th></th>\n",
       "      <th>userid</th>\n",
       "      <th>score</th>\n",
       "      <th>City</th>\n",
       "      <th>Gender</th>\n",
       "      <th>Age</th>\n",
       "      <th>Objects</th>\n",
       "      <th>Balance</th>\n",
       "      <th>Products</th>\n",
       "      <th>CreditCard</th>\n",
       "      <th>Loyalty</th>\n",
       "      <th>estimated_salary</th>\n",
       "      <th>Churn</th>\n",
       "    </tr>\n",
       "  </thead>\n",
       "  <tbody>\n",
       "    <tr>\n",
       "      <th>0</th>\n",
       "      <td>15677338</td>\n",
       "      <td>619</td>\n",
       "      <td>Ярославль</td>\n",
       "      <td>Ж</td>\n",
       "      <td>42</td>\n",
       "      <td>2</td>\n",
       "      <td>NaN</td>\n",
       "      <td>1</td>\n",
       "      <td>1</td>\n",
       "      <td>1</td>\n",
       "      <td>101348.88</td>\n",
       "      <td>1</td>\n",
       "    </tr>\n",
       "    <tr>\n",
       "      <th>1</th>\n",
       "      <td>15690047</td>\n",
       "      <td>608</td>\n",
       "      <td>Рыбинск</td>\n",
       "      <td>Ж</td>\n",
       "      <td>41</td>\n",
       "      <td>1</td>\n",
       "      <td>83807.86</td>\n",
       "      <td>1</td>\n",
       "      <td>0</td>\n",
       "      <td>1</td>\n",
       "      <td>112542.58</td>\n",
       "      <td>0</td>\n",
       "    </tr>\n",
       "    <tr>\n",
       "      <th>2</th>\n",
       "      <td>15662040</td>\n",
       "      <td>502</td>\n",
       "      <td>Ярославль</td>\n",
       "      <td>Ж</td>\n",
       "      <td>42</td>\n",
       "      <td>8</td>\n",
       "      <td>159660.80</td>\n",
       "      <td>3</td>\n",
       "      <td>1</td>\n",
       "      <td>0</td>\n",
       "      <td>113931.57</td>\n",
       "      <td>1</td>\n",
       "    </tr>\n",
       "    <tr>\n",
       "      <th>3</th>\n",
       "      <td>15744090</td>\n",
       "      <td>699</td>\n",
       "      <td>Ярославль</td>\n",
       "      <td>Ж</td>\n",
       "      <td>39</td>\n",
       "      <td>1</td>\n",
       "      <td>NaN</td>\n",
       "      <td>2</td>\n",
       "      <td>0</td>\n",
       "      <td>0</td>\n",
       "      <td>93826.63</td>\n",
       "      <td>0</td>\n",
       "    </tr>\n",
       "    <tr>\n",
       "      <th>4</th>\n",
       "      <td>15780624</td>\n",
       "      <td>850</td>\n",
       "      <td>Рыбинск</td>\n",
       "      <td>Ж</td>\n",
       "      <td>43</td>\n",
       "      <td>2</td>\n",
       "      <td>125510.82</td>\n",
       "      <td>1</td>\n",
       "      <td>1</td>\n",
       "      <td>1</td>\n",
       "      <td>79084.10</td>\n",
       "      <td>0</td>\n",
       "    </tr>\n",
       "    <tr>\n",
       "      <th>...</th>\n",
       "      <td>...</td>\n",
       "      <td>...</td>\n",
       "      <td>...</td>\n",
       "      <td>...</td>\n",
       "      <td>...</td>\n",
       "      <td>...</td>\n",
       "      <td>...</td>\n",
       "      <td>...</td>\n",
       "      <td>...</td>\n",
       "      <td>...</td>\n",
       "      <td>...</td>\n",
       "      <td>...</td>\n",
       "    </tr>\n",
       "    <tr>\n",
       "      <th>9995</th>\n",
       "      <td>15648965</td>\n",
       "      <td>771</td>\n",
       "      <td>Ярославль</td>\n",
       "      <td>М</td>\n",
       "      <td>39</td>\n",
       "      <td>5</td>\n",
       "      <td>NaN</td>\n",
       "      <td>2</td>\n",
       "      <td>1</td>\n",
       "      <td>0</td>\n",
       "      <td>96270.64</td>\n",
       "      <td>0</td>\n",
       "    </tr>\n",
       "    <tr>\n",
       "      <th>9996</th>\n",
       "      <td>15612628</td>\n",
       "      <td>516</td>\n",
       "      <td>Ярославль</td>\n",
       "      <td>М</td>\n",
       "      <td>35</td>\n",
       "      <td>10</td>\n",
       "      <td>57369.61</td>\n",
       "      <td>1</td>\n",
       "      <td>1</td>\n",
       "      <td>1</td>\n",
       "      <td>101699.77</td>\n",
       "      <td>0</td>\n",
       "    </tr>\n",
       "    <tr>\n",
       "      <th>9997</th>\n",
       "      <td>15627268</td>\n",
       "      <td>709</td>\n",
       "      <td>Ярославль</td>\n",
       "      <td>Ж</td>\n",
       "      <td>36</td>\n",
       "      <td>7</td>\n",
       "      <td>NaN</td>\n",
       "      <td>1</td>\n",
       "      <td>0</td>\n",
       "      <td>1</td>\n",
       "      <td>42085.58</td>\n",
       "      <td>1</td>\n",
       "    </tr>\n",
       "    <tr>\n",
       "      <th>9998</th>\n",
       "      <td>15725091</td>\n",
       "      <td>772</td>\n",
       "      <td>Ростов Великий</td>\n",
       "      <td>М</td>\n",
       "      <td>42</td>\n",
       "      <td>3</td>\n",
       "      <td>75075.31</td>\n",
       "      <td>2</td>\n",
       "      <td>1</td>\n",
       "      <td>0</td>\n",
       "      <td>92888.52</td>\n",
       "      <td>1</td>\n",
       "    </tr>\n",
       "    <tr>\n",
       "      <th>9999</th>\n",
       "      <td>15671055</td>\n",
       "      <td>792</td>\n",
       "      <td>Ярославль</td>\n",
       "      <td>Ж</td>\n",
       "      <td>28</td>\n",
       "      <td>4</td>\n",
       "      <td>130142.79</td>\n",
       "      <td>1</td>\n",
       "      <td>1</td>\n",
       "      <td>0</td>\n",
       "      <td>38190.78</td>\n",
       "      <td>0</td>\n",
       "    </tr>\n",
       "  </tbody>\n",
       "</table>\n",
       "<p>10000 rows × 12 columns</p>\n",
       "</div>"
      ],
      "text/plain": [
       "        userid  score            City Gender  Age  Objects    Balance  \\\n",
       "0     15677338    619       Ярославль      Ж   42        2        NaN   \n",
       "1     15690047    608         Рыбинск      Ж   41        1   83807.86   \n",
       "2     15662040    502       Ярославль      Ж   42        8  159660.80   \n",
       "3     15744090    699       Ярославль      Ж   39        1        NaN   \n",
       "4     15780624    850         Рыбинск      Ж   43        2  125510.82   \n",
       "...        ...    ...             ...    ...  ...      ...        ...   \n",
       "9995  15648965    771       Ярославль      М   39        5        NaN   \n",
       "9996  15612628    516       Ярославль      М   35       10   57369.61   \n",
       "9997  15627268    709       Ярославль      Ж   36        7        NaN   \n",
       "9998  15725091    772  Ростов Великий      М   42        3   75075.31   \n",
       "9999  15671055    792       Ярославль      Ж   28        4  130142.79   \n",
       "\n",
       "      Products  CreditCard  Loyalty  estimated_salary  Churn  \n",
       "0            1           1        1         101348.88      1  \n",
       "1            1           0        1         112542.58      0  \n",
       "2            3           1        0         113931.57      1  \n",
       "3            2           0        0          93826.63      0  \n",
       "4            1           1        1          79084.10      0  \n",
       "...        ...         ...      ...               ...    ...  \n",
       "9995         2           1        0          96270.64      0  \n",
       "9996         1           1        1         101699.77      0  \n",
       "9997         1           0        1          42085.58      1  \n",
       "9998         2           1        0          92888.52      1  \n",
       "9999         1           1        0          38190.78      0  \n",
       "\n",
       "[10000 rows x 12 columns]"
      ]
     },
     "execution_count": 3,
     "metadata": {},
     "output_type": "execute_result"
    }
   ],
   "source": [
    "df"
   ]
  },
  {
   "cell_type": "code",
   "execution_count": 4,
   "metadata": {},
   "outputs": [
    {
     "name": "stdout",
     "output_type": "stream",
     "text": [
      "<class 'pandas.core.frame.DataFrame'>\n",
      "RangeIndex: 10000 entries, 0 to 9999\n",
      "Data columns (total 12 columns):\n",
      " #   Column            Non-Null Count  Dtype  \n",
      "---  ------            --------------  -----  \n",
      " 0   userid            10000 non-null  int64  \n",
      " 1   score             10000 non-null  int64  \n",
      " 2   City              10000 non-null  object \n",
      " 3   Gender            10000 non-null  object \n",
      " 4   Age               10000 non-null  int64  \n",
      " 5   Objects           10000 non-null  int64  \n",
      " 6   Balance           6383 non-null   float64\n",
      " 7   Products          10000 non-null  int64  \n",
      " 8   CreditCard        10000 non-null  int64  \n",
      " 9   Loyalty           10000 non-null  int64  \n",
      " 10  estimated_salary  10000 non-null  float64\n",
      " 11  Churn             10000 non-null  int64  \n",
      "dtypes: float64(2), int64(8), object(2)\n",
      "memory usage: 937.6+ KB\n"
     ]
    }
   ],
   "source": [
    "df.info()"
   ]
  },
  {
   "cell_type": "code",
   "execution_count": 5,
   "metadata": {},
   "outputs": [
    {
     "data": {
      "text/html": [
       "<div>\n",
       "<style scoped>\n",
       "    .dataframe tbody tr th:only-of-type {\n",
       "        vertical-align: middle;\n",
       "    }\n",
       "\n",
       "    .dataframe tbody tr th {\n",
       "        vertical-align: top;\n",
       "    }\n",
       "\n",
       "    .dataframe thead th {\n",
       "        text-align: right;\n",
       "    }\n",
       "</style>\n",
       "<table border=\"1\" class=\"dataframe\">\n",
       "  <thead>\n",
       "    <tr style=\"text-align: right;\">\n",
       "      <th></th>\n",
       "      <th>userid</th>\n",
       "      <th>score</th>\n",
       "      <th>Age</th>\n",
       "      <th>Objects</th>\n",
       "      <th>Balance</th>\n",
       "      <th>Products</th>\n",
       "      <th>CreditCard</th>\n",
       "      <th>Loyalty</th>\n",
       "      <th>estimated_salary</th>\n",
       "      <th>Churn</th>\n",
       "    </tr>\n",
       "  </thead>\n",
       "  <tbody>\n",
       "    <tr>\n",
       "      <th>count</th>\n",
       "      <td>10000.0</td>\n",
       "      <td>10000.0</td>\n",
       "      <td>10000.0</td>\n",
       "      <td>10000.0</td>\n",
       "      <td>6383.0</td>\n",
       "      <td>10000.0</td>\n",
       "      <td>10000.0</td>\n",
       "      <td>10000.0</td>\n",
       "      <td>10000.0</td>\n",
       "      <td>10000.0</td>\n",
       "    </tr>\n",
       "    <tr>\n",
       "      <th>mean</th>\n",
       "      <td>15733677.0</td>\n",
       "      <td>651.0</td>\n",
       "      <td>39.0</td>\n",
       "      <td>5.0</td>\n",
       "      <td>119827.0</td>\n",
       "      <td>2.0</td>\n",
       "      <td>1.0</td>\n",
       "      <td>1.0</td>\n",
       "      <td>100090.0</td>\n",
       "      <td>0.0</td>\n",
       "    </tr>\n",
       "    <tr>\n",
       "      <th>std</th>\n",
       "      <td>71936.0</td>\n",
       "      <td>97.0</td>\n",
       "      <td>10.0</td>\n",
       "      <td>3.0</td>\n",
       "      <td>30095.0</td>\n",
       "      <td>1.0</td>\n",
       "      <td>0.0</td>\n",
       "      <td>0.0</td>\n",
       "      <td>57510.0</td>\n",
       "      <td>0.0</td>\n",
       "    </tr>\n",
       "    <tr>\n",
       "      <th>min</th>\n",
       "      <td>15608437.0</td>\n",
       "      <td>350.0</td>\n",
       "      <td>18.0</td>\n",
       "      <td>0.0</td>\n",
       "      <td>3769.0</td>\n",
       "      <td>1.0</td>\n",
       "      <td>0.0</td>\n",
       "      <td>0.0</td>\n",
       "      <td>12.0</td>\n",
       "      <td>0.0</td>\n",
       "    </tr>\n",
       "    <tr>\n",
       "      <th>25%</th>\n",
       "      <td>15671264.0</td>\n",
       "      <td>584.0</td>\n",
       "      <td>32.0</td>\n",
       "      <td>3.0</td>\n",
       "      <td>100182.0</td>\n",
       "      <td>1.0</td>\n",
       "      <td>0.0</td>\n",
       "      <td>0.0</td>\n",
       "      <td>51002.0</td>\n",
       "      <td>0.0</td>\n",
       "    </tr>\n",
       "    <tr>\n",
       "      <th>50%</th>\n",
       "      <td>15733474.0</td>\n",
       "      <td>652.0</td>\n",
       "      <td>37.0</td>\n",
       "      <td>5.0</td>\n",
       "      <td>119840.0</td>\n",
       "      <td>1.0</td>\n",
       "      <td>1.0</td>\n",
       "      <td>1.0</td>\n",
       "      <td>100194.0</td>\n",
       "      <td>0.0</td>\n",
       "    </tr>\n",
       "    <tr>\n",
       "      <th>75%</th>\n",
       "      <td>15795970.0</td>\n",
       "      <td>718.0</td>\n",
       "      <td>44.0</td>\n",
       "      <td>7.0</td>\n",
       "      <td>139512.0</td>\n",
       "      <td>2.0</td>\n",
       "      <td>1.0</td>\n",
       "      <td>1.0</td>\n",
       "      <td>149388.0</td>\n",
       "      <td>0.0</td>\n",
       "    </tr>\n",
       "    <tr>\n",
       "      <th>max</th>\n",
       "      <td>15858426.0</td>\n",
       "      <td>850.0</td>\n",
       "      <td>92.0</td>\n",
       "      <td>10.0</td>\n",
       "      <td>250898.0</td>\n",
       "      <td>4.0</td>\n",
       "      <td>1.0</td>\n",
       "      <td>1.0</td>\n",
       "      <td>199992.0</td>\n",
       "      <td>1.0</td>\n",
       "    </tr>\n",
       "  </tbody>\n",
       "</table>\n",
       "</div>"
      ],
      "text/plain": [
       "           userid    score      Age  Objects   Balance  Products  CreditCard  \\\n",
       "count     10000.0  10000.0  10000.0  10000.0    6383.0   10000.0     10000.0   \n",
       "mean   15733677.0    651.0     39.0      5.0  119827.0       2.0         1.0   \n",
       "std       71936.0     97.0     10.0      3.0   30095.0       1.0         0.0   \n",
       "min    15608437.0    350.0     18.0      0.0    3769.0       1.0         0.0   \n",
       "25%    15671264.0    584.0     32.0      3.0  100182.0       1.0         0.0   \n",
       "50%    15733474.0    652.0     37.0      5.0  119840.0       1.0         1.0   \n",
       "75%    15795970.0    718.0     44.0      7.0  139512.0       2.0         1.0   \n",
       "max    15858426.0    850.0     92.0     10.0  250898.0       4.0         1.0   \n",
       "\n",
       "       Loyalty  estimated_salary    Churn  \n",
       "count  10000.0           10000.0  10000.0  \n",
       "mean       1.0          100090.0      0.0  \n",
       "std        0.0           57510.0      0.0  \n",
       "min        0.0              12.0      0.0  \n",
       "25%        0.0           51002.0      0.0  \n",
       "50%        1.0          100194.0      0.0  \n",
       "75%        1.0          149388.0      0.0  \n",
       "max        1.0          199992.0      1.0  "
      ]
     },
     "execution_count": 5,
     "metadata": {},
     "output_type": "execute_result"
    }
   ],
   "source": [
    "df.describe().round()"
   ]
  },
  {
   "cell_type": "code",
   "execution_count": 6,
   "metadata": {},
   "outputs": [
    {
     "data": {
      "text/plain": [
       "0"
      ]
     },
     "execution_count": 6,
     "metadata": {},
     "output_type": "execute_result"
    }
   ],
   "source": [
    "df.duplicated().sum()"
   ]
  },
  {
   "cell_type": "code",
   "execution_count": 7,
   "metadata": {},
   "outputs": [
    {
     "data": {
      "text/plain": [
       "userid                 0\n",
       "score                  0\n",
       "City                   0\n",
       "Gender                 0\n",
       "Age                    0\n",
       "Objects                0\n",
       "Balance             3617\n",
       "Products               0\n",
       "CreditCard             0\n",
       "Loyalty                0\n",
       "estimated_salary       0\n",
       "Churn                  0\n",
       "dtype: int64"
      ]
     },
     "execution_count": 7,
     "metadata": {},
     "output_type": "execute_result"
    }
   ],
   "source": [
    "df.isna().sum()"
   ]
  },
  {
   "cell_type": "markdown",
   "metadata": {},
   "source": [
    "<div style=\"background: #B0E0E6; padding: 5px; border: 1px solid SteelBlue; border-radius: 5px;\">\n",
    "    \n",
    "Перед нами датасет 'bank_dataset.csv'. Датасет имеет 10000 строк и и 12 колонок. В дальнейшем названия колонок надо поменять а также привести к единому регистру. При первичном анализе были выявлены пропущенные значения в колонке balance. Дубликаты не были обнаружены. Также столбцы надо привести к соответствующему типу данных. "
   ]
  },
  {
   "cell_type": "markdown",
   "metadata": {},
   "source": [
    "<div style=\"background: #B0E0E6; padding: 5px; border: 1px solid SteelBlue; border-radius: 5px;\">\n",
    "\n",
    "## Предобработка данных "
   ]
  },
  {
   "cell_type": "markdown",
   "metadata": {},
   "source": [
    "<div style=\"background: #B0E0E6; padding: 5px; border: 1px solid SteelBlue; border-radius: 5px;\">\n",
    "\n",
    "**Преобразование названий колонок**"
   ]
  },
  {
   "cell_type": "code",
   "execution_count": 8,
   "metadata": {},
   "outputs": [
    {
     "data": {
      "text/html": [
       "<div>\n",
       "<style scoped>\n",
       "    .dataframe tbody tr th:only-of-type {\n",
       "        vertical-align: middle;\n",
       "    }\n",
       "\n",
       "    .dataframe tbody tr th {\n",
       "        vertical-align: top;\n",
       "    }\n",
       "\n",
       "    .dataframe thead th {\n",
       "        text-align: right;\n",
       "    }\n",
       "</style>\n",
       "<table border=\"1\" class=\"dataframe\">\n",
       "  <thead>\n",
       "    <tr style=\"text-align: right;\">\n",
       "      <th></th>\n",
       "      <th>user_id</th>\n",
       "      <th>score</th>\n",
       "      <th>city</th>\n",
       "      <th>gender</th>\n",
       "      <th>age</th>\n",
       "      <th>objects</th>\n",
       "      <th>balance</th>\n",
       "      <th>products</th>\n",
       "      <th>credit_card</th>\n",
       "      <th>loyalty</th>\n",
       "      <th>salary</th>\n",
       "      <th>churn</th>\n",
       "    </tr>\n",
       "  </thead>\n",
       "  <tbody>\n",
       "    <tr>\n",
       "      <th>0</th>\n",
       "      <td>15677338</td>\n",
       "      <td>619</td>\n",
       "      <td>Ярославль</td>\n",
       "      <td>Ж</td>\n",
       "      <td>42</td>\n",
       "      <td>2</td>\n",
       "      <td>NaN</td>\n",
       "      <td>1</td>\n",
       "      <td>1</td>\n",
       "      <td>1</td>\n",
       "      <td>101348.88</td>\n",
       "      <td>1</td>\n",
       "    </tr>\n",
       "    <tr>\n",
       "      <th>1</th>\n",
       "      <td>15690047</td>\n",
       "      <td>608</td>\n",
       "      <td>Рыбинск</td>\n",
       "      <td>Ж</td>\n",
       "      <td>41</td>\n",
       "      <td>1</td>\n",
       "      <td>83807.86</td>\n",
       "      <td>1</td>\n",
       "      <td>0</td>\n",
       "      <td>1</td>\n",
       "      <td>112542.58</td>\n",
       "      <td>0</td>\n",
       "    </tr>\n",
       "    <tr>\n",
       "      <th>2</th>\n",
       "      <td>15662040</td>\n",
       "      <td>502</td>\n",
       "      <td>Ярославль</td>\n",
       "      <td>Ж</td>\n",
       "      <td>42</td>\n",
       "      <td>8</td>\n",
       "      <td>159660.80</td>\n",
       "      <td>3</td>\n",
       "      <td>1</td>\n",
       "      <td>0</td>\n",
       "      <td>113931.57</td>\n",
       "      <td>1</td>\n",
       "    </tr>\n",
       "    <tr>\n",
       "      <th>3</th>\n",
       "      <td>15744090</td>\n",
       "      <td>699</td>\n",
       "      <td>Ярославль</td>\n",
       "      <td>Ж</td>\n",
       "      <td>39</td>\n",
       "      <td>1</td>\n",
       "      <td>NaN</td>\n",
       "      <td>2</td>\n",
       "      <td>0</td>\n",
       "      <td>0</td>\n",
       "      <td>93826.63</td>\n",
       "      <td>0</td>\n",
       "    </tr>\n",
       "    <tr>\n",
       "      <th>4</th>\n",
       "      <td>15780624</td>\n",
       "      <td>850</td>\n",
       "      <td>Рыбинск</td>\n",
       "      <td>Ж</td>\n",
       "      <td>43</td>\n",
       "      <td>2</td>\n",
       "      <td>125510.82</td>\n",
       "      <td>1</td>\n",
       "      <td>1</td>\n",
       "      <td>1</td>\n",
       "      <td>79084.10</td>\n",
       "      <td>0</td>\n",
       "    </tr>\n",
       "  </tbody>\n",
       "</table>\n",
       "</div>"
      ],
      "text/plain": [
       "    user_id  score       city gender  age  objects    balance  products  \\\n",
       "0  15677338    619  Ярославль      Ж   42        2        NaN         1   \n",
       "1  15690047    608    Рыбинск      Ж   41        1   83807.86         1   \n",
       "2  15662040    502  Ярославль      Ж   42        8  159660.80         3   \n",
       "3  15744090    699  Ярославль      Ж   39        1        NaN         2   \n",
       "4  15780624    850    Рыбинск      Ж   43        2  125510.82         1   \n",
       "\n",
       "   credit_card  loyalty     salary  churn  \n",
       "0            1        1  101348.88      1  \n",
       "1            0        1  112542.58      0  \n",
       "2            1        0  113931.57      1  \n",
       "3            0        0   93826.63      0  \n",
       "4            1        1   79084.10      0  "
      ]
     },
     "metadata": {},
     "output_type": "display_data"
    }
   ],
   "source": [
    "df.columns = df.columns.str.lower()\n",
    "df.columns = ['user_id', 'score', 'city', 'gender', 'age', 'objects', 'balance', 'products', 'credit_card', 'loyalty', 'salary', 'churn']\n",
    "display(df.head())"
   ]
  },
  {
   "cell_type": "markdown",
   "metadata": {},
   "source": [
    "<div style=\"background: #B0E0E6; padding: 5px; border: 1px solid SteelBlue; border-radius: 5px;\">\n",
    "\n",
    "**Изменение типа данных**"
   ]
  },
  {
   "cell_type": "code",
   "execution_count": 9,
   "metadata": {},
   "outputs": [],
   "source": [
    "df['credit_card'] = df['credit_card'].astype('bool')\n",
    "df['loyalty'] = df['loyalty'].astype('bool')\n",
    "df['churn'] = df['churn'].astype('bool')"
   ]
  },
  {
   "cell_type": "code",
   "execution_count": 10,
   "metadata": {},
   "outputs": [
    {
     "name": "stdout",
     "output_type": "stream",
     "text": [
      "<class 'pandas.core.frame.DataFrame'>\n",
      "RangeIndex: 10000 entries, 0 to 9999\n",
      "Data columns (total 12 columns):\n",
      " #   Column       Non-Null Count  Dtype  \n",
      "---  ------       --------------  -----  \n",
      " 0   user_id      10000 non-null  int64  \n",
      " 1   score        10000 non-null  int64  \n",
      " 2   city         10000 non-null  object \n",
      " 3   gender       10000 non-null  object \n",
      " 4   age          10000 non-null  int64  \n",
      " 5   objects      10000 non-null  int64  \n",
      " 6   balance      6383 non-null   float64\n",
      " 7   products     10000 non-null  int64  \n",
      " 8   credit_card  10000 non-null  bool   \n",
      " 9   loyalty      10000 non-null  bool   \n",
      " 10  salary       10000 non-null  float64\n",
      " 11  churn        10000 non-null  bool   \n",
      "dtypes: bool(3), float64(2), int64(5), object(2)\n",
      "memory usage: 732.5+ KB\n"
     ]
    }
   ],
   "source": [
    "df.info()"
   ]
  },
  {
   "cell_type": "markdown",
   "metadata": {},
   "source": [
    "<div style=\"background: #B0E0E6; padding: 5px; border: 1px solid SteelBlue; border-radius: 5px;\">\n",
    "\n",
    "**Обработка пропущенных значений**"
   ]
  },
  {
   "cell_type": "code",
   "execution_count": 11,
   "metadata": {},
   "outputs": [
    {
     "data": {
      "text/plain": [
       "user_id           0\n",
       "score             0\n",
       "city              0\n",
       "gender            0\n",
       "age               0\n",
       "objects           0\n",
       "balance        3617\n",
       "products          0\n",
       "credit_card       0\n",
       "loyalty           0\n",
       "salary            0\n",
       "churn             0\n",
       "dtype: int64"
      ]
     },
     "execution_count": 11,
     "metadata": {},
     "output_type": "execute_result"
    }
   ],
   "source": [
    "df.isna().sum()"
   ]
  },
  {
   "cell_type": "code",
   "execution_count": 12,
   "metadata": {},
   "outputs": [],
   "source": [
    "isna = df.query('balance.isna()')\n",
    "isna = isna.round()"
   ]
  },
  {
   "cell_type": "code",
   "execution_count": 13,
   "metadata": {
    "scrolled": false
   },
   "outputs": [
    {
     "data": {
      "image/png": "[encoded data removed]",
      "text/plain": [
       "<Figure size 432x288 with 1 Axes>"
      ]
     },
     "metadata": {
      "needs_background": "light"
     },
     "output_type": "display_data"
    },
    {
     "data": {
      "image/png": "[encoded data removed]",
      "text/plain": [
       "<Figure size 432x288 with 1 Axes>"
      ]
     },
     "metadata": {
      "needs_background": "light"
     },
     "output_type": "display_data"
    },
    {
     "data": {
      "image/png": "[encoded data removed]",
      "text/plain": [
       "<Figure size 432x288 with 1 Axes>"
      ]
     },
     "metadata": {
      "needs_background": "light"
     },
     "output_type": "display_data"
    },
    {
     "data": {
      "image/png": "[encoded data removed]",
      "text/plain": [
       "<Figure size 432x288 with 1 Axes>"
      ]
     },
     "metadata": {
      "needs_background": "light"
     },
     "output_type": "display_data"
    }
   ],
   "source": [
    "for column in ['age','objects', 'salary', 'score' ]:\n",
    "    isna.plot(y = column, kind = 'hist', bins = 30, grid = True)\n",
    "    plt.ylabel('Количество клиентов')"
   ]
  },
  {
   "cell_type": "code",
   "execution_count": 14,
   "metadata": {
    "scrolled": false
   },
   "outputs": [
    {
     "name": "stdout",
     "output_type": "stream",
     "text": [
      "city\n",
      "Ярославль    0.67\n",
      "Рыбинск      0.33\n",
      "Name: city, dtype: float64\n",
      "\n",
      "products\n",
      "2    0.72\n",
      "1    0.25\n",
      "3    0.03\n",
      "4    0.00\n",
      "Name: products, dtype: float64\n",
      "\n",
      "credit_card\n",
      "True     0.72\n",
      "False    0.28\n",
      "Name: credit_card, dtype: float64\n",
      "\n",
      "loyalty\n",
      "True     0.52\n",
      "False    0.48\n",
      "Name: loyalty, dtype: float64\n",
      "\n",
      "churn\n",
      "False    0.86\n",
      "True     0.14\n",
      "Name: churn, dtype: float64\n",
      "\n"
     ]
    }
   ],
   "source": [
    "for column in ['city','products','credit_card','loyalty', 'churn']:\n",
    "    print(column)\n",
    "    print(round(isna[column].value_counts(normalize=True),2))\n",
    "    print()    "
   ]
  },
  {
   "cell_type": "markdown",
   "metadata": {},
   "source": [
    "<div style=\"background: #B0E0E6; padding: 5px; border: 1px solid SteelBlue; border-radius: 5px;\">\n",
    "\n",
    "По данным мы видим что пропущенные значения чаще всего попадаются у клиентов :\n",
    "    \n",
    "1) Из Ярославля и Рыбинска \n",
    "\n",
    "2) Которые имеют 2 продукта\n",
    "\n",
    "3) У которых есть кредитная карта \n",
    "\n",
    "4) У действующих клиентов банка \n",
    "\n",
    "Также можно заметить что особой взаимосвязи между пропущенными значениями и данными в целом нету. Их количество достаточно велико (36%) , удалив их либо заменив каким либо числом мы создадим выбросы. Поэтому оставим без изменений. "
   ]
  },
  {
   "cell_type": "markdown",
   "metadata": {},
   "source": [
    "<div style=\"background: #B0E0E6; padding: 5px; border: 1px solid SteelBlue; border-radius: 5px;\">\n",
    "\n",
    "**Выявление выбросов**"
   ]
  },
  {
   "cell_type": "code",
   "execution_count": 15,
   "metadata": {},
   "outputs": [
    {
     "data": {
      "image/png": "[encoded data removed]",
      "text/plain": [
       "<Figure size 432x288 with 1 Axes>"
      ]
     },
     "metadata": {
      "needs_background": "light"
     },
     "output_type": "display_data"
    },
    {
     "data": {
      "image/png": "[encoded data removed]",
      "text/plain": [
       "<Figure size 432x288 with 1 Axes>"
      ]
     },
     "metadata": {
      "needs_background": "light"
     },
     "output_type": "display_data"
    },
    {
     "data": {
      "image/png": "[encoded data removed]",
      "text/plain": [
       "<Figure size 432x288 with 1 Axes>"
      ]
     },
     "metadata": {
      "needs_background": "light"
     },
     "output_type": "display_data"
    }
   ],
   "source": [
    "for column in ['age', 'balance' , 'score' ]:\n",
    "    plt.figure()\n",
    "    sns.boxplot(x=column, data=df)\n",
    "    plt.show();"
   ]
  },
  {
   "cell_type": "markdown",
   "metadata": {},
   "source": [
    "<div style=\"background: #B0E0E6; padding: 5px; border: 1px solid SteelBlue; border-radius: 5px;\">\n",
    "\n",
    "По графикам мы видим что аномалиями являются клиенты старше 62 лет , клиенты с заработной платой до 40000 и \n",
    "свыше 200000 , а также клиенты с рейтингом ниже 380"
   ]
  },
  {
   "cell_type": "code",
   "execution_count": 16,
   "metadata": {},
   "outputs": [
    {
     "name": "stdout",
     "output_type": "stream",
     "text": [
      "Количество клиентов старше 62 лет: 359\n",
      "3.59 %\n"
     ]
    }
   ],
   "source": [
    "print('Количество клиентов старше 62 лет:', len(df.query('age > 62')))\n",
    "print(round(len(df.query('age > 62'))/len(df)*100, 2) , '%')"
   ]
  },
  {
   "cell_type": "code",
   "execution_count": 17,
   "metadata": {
    "scrolled": true
   },
   "outputs": [
    {
     "name": "stdout",
     "output_type": "stream",
     "text": [
      "Количество клиентов с аномальным балансом: 63\n",
      "0.63 %\n"
     ]
    }
   ],
   "source": [
    "print('Количество клиентов с аномальным балансом:', len(df.query('balance > 200000 or balance < 40000')))\n",
    "print(len(df.query('balance > 200000 or balance < 40000'))/len(df)*100 , '%')"
   ]
  },
  {
   "cell_type": "code",
   "execution_count": 18,
   "metadata": {},
   "outputs": [
    {
     "name": "stdout",
     "output_type": "stream",
     "text": [
      "Количество клиентов с аномальным рейтингом: 14\n",
      "0.14 %\n"
     ]
    }
   ],
   "source": [
    "print('Количество клиентов с аномальным рейтингом:', len(df.query('380 > score')))\n",
    "print(round(len(df.query('380 > score'))/len(df)*100 , 2) ,'%')"
   ]
  },
  {
   "cell_type": "markdown",
   "metadata": {},
   "source": [
    "<div style=\"background: #B0E0E6; padding: 5px; border: 1px solid SteelBlue; border-radius: 5px;\">\n",
    "\n",
    "В сумме количество выбросов не превышает 5 процентов "
   ]
  },
  {
   "cell_type": "code",
   "execution_count": 19,
   "metadata": {},
   "outputs": [],
   "source": [
    "anomal = df.query('balance > 200000 or balance < 40000')\n",
    "df.drop(anomal.index, axis=0, inplace=True)"
   ]
  },
  {
   "cell_type": "code",
   "execution_count": 20,
   "metadata": {},
   "outputs": [],
   "source": [
    "df = df.query('age <= 62')\n",
    "df = df.query('score > 380')"
   ]
  },
  {
   "cell_type": "code",
   "execution_count": 21,
   "metadata": {},
   "outputs": [
    {
     "name": "stdout",
     "output_type": "stream",
     "text": [
      "<class 'pandas.core.frame.DataFrame'>\n",
      "Int64Index: 9567 entries, 0 to 9999\n",
      "Data columns (total 12 columns):\n",
      " #   Column       Non-Null Count  Dtype  \n",
      "---  ------       --------------  -----  \n",
      " 0   user_id      9567 non-null   int64  \n",
      " 1   score        9567 non-null   int64  \n",
      " 2   city         9567 non-null   object \n",
      " 3   gender       9567 non-null   object \n",
      " 4   age          9567 non-null   int64  \n",
      " 5   objects      9567 non-null   int64  \n",
      " 6   balance      6088 non-null   float64\n",
      " 7   products     9567 non-null   int64  \n",
      " 8   credit_card  9567 non-null   bool   \n",
      " 9   loyalty      9567 non-null   bool   \n",
      " 10  salary       9567 non-null   float64\n",
      " 11  churn        9567 non-null   bool   \n",
      "dtypes: bool(3), float64(2), int64(5), object(2)\n",
      "memory usage: 775.5+ KB\n"
     ]
    }
   ],
   "source": [
    "df.info()"
   ]
  },
  {
   "cell_type": "markdown",
   "metadata": {},
   "source": [
    "<div style=\"background: #B0E0E6; padding: 5px; border: 1px solid SteelBlue; border-radius: 5px;\">\n",
    "    \n",
    "В ходе предобработки данных было проделаны следующие действия:\n",
    "    \n",
    "* Изменены названия столбцов , а также приведены к одному регистру\n",
    "\n",
    "* Изменены типы данных \n",
    "\n",
    "* Выявлены  пропущенные значения. Выло выявлено 36% пропущенных значений. Особой взаимосвязи между данными и пропущенными значениями не было выявлено , поэтому принято решение не удалять и не изменять их , дабы не исказить данные.\n",
    "\n",
    "* Дубликатов не было выявлено.\n",
    "\n",
    "* Также в датасете произвели анализ на выбросы. Аномальные значения были удалены так как составляли  меньше 5% от всего обьема \n",
    "датасета."
   ]
  },
  {
   "cell_type": "markdown",
   "metadata": {},
   "source": [
    "<div style=\"background: #B0E0E6; padding: 5px; border: 1px solid SteelBlue; border-radius: 5px;\">\n",
    "\n",
    "## Исследовательский анализ данных "
   ]
  },
  {
   "cell_type": "markdown",
   "metadata": {},
   "source": [
    "<div style=\"background: #B0E0E6; padding: 5px; border: 1px solid SteelBlue; border-radius: 5px;\">\n",
    "    \n",
    "**Общая картина**"
   ]
  },
  {
   "cell_type": "code",
   "execution_count": 22,
   "metadata": {},
   "outputs": [
    {
     "data": {
      "text/html": [
       "<div>\n",
       "<style scoped>\n",
       "    .dataframe tbody tr th:only-of-type {\n",
       "        vertical-align: middle;\n",
       "    }\n",
       "\n",
       "    .dataframe tbody tr th {\n",
       "        vertical-align: top;\n",
       "    }\n",
       "\n",
       "    .dataframe thead th {\n",
       "        text-align: right;\n",
       "    }\n",
       "</style>\n",
       "<table border=\"1\" class=\"dataframe\">\n",
       "  <thead>\n",
       "    <tr style=\"text-align: right;\">\n",
       "      <th></th>\n",
       "      <th>score</th>\n",
       "      <th>age</th>\n",
       "      <th>objects</th>\n",
       "      <th>balance</th>\n",
       "      <th>products</th>\n",
       "      <th>salary</th>\n",
       "    </tr>\n",
       "  </thead>\n",
       "  <tbody>\n",
       "    <tr>\n",
       "      <th>count</th>\n",
       "      <td>9567.000000</td>\n",
       "      <td>9567.000000</td>\n",
       "      <td>9567.000000</td>\n",
       "      <td>6088.000000</td>\n",
       "      <td>9567.000000</td>\n",
       "      <td>9567.000000</td>\n",
       "    </tr>\n",
       "    <tr>\n",
       "      <th>mean</th>\n",
       "      <td>650.725619</td>\n",
       "      <td>37.783004</td>\n",
       "      <td>5.018919</td>\n",
       "      <td>119725.315496</td>\n",
       "      <td>1.532246</td>\n",
       "      <td>100040.404027</td>\n",
       "    </tr>\n",
       "    <tr>\n",
       "      <th>std</th>\n",
       "      <td>96.166476</td>\n",
       "      <td>8.801262</td>\n",
       "      <td>2.888614</td>\n",
       "      <td>28885.643963</td>\n",
       "      <td>0.581062</td>\n",
       "      <td>57531.353112</td>\n",
       "    </tr>\n",
       "    <tr>\n",
       "      <th>min</th>\n",
       "      <td>382.000000</td>\n",
       "      <td>18.000000</td>\n",
       "      <td>0.000000</td>\n",
       "      <td>40105.510000</td>\n",
       "      <td>1.000000</td>\n",
       "      <td>11.580000</td>\n",
       "    </tr>\n",
       "    <tr>\n",
       "      <th>25%</th>\n",
       "      <td>584.000000</td>\n",
       "      <td>32.000000</td>\n",
       "      <td>3.000000</td>\n",
       "      <td>100354.145000</td>\n",
       "      <td>1.000000</td>\n",
       "      <td>50907.565000</td>\n",
       "    </tr>\n",
       "    <tr>\n",
       "      <th>50%</th>\n",
       "      <td>652.000000</td>\n",
       "      <td>37.000000</td>\n",
       "      <td>5.000000</td>\n",
       "      <td>119776.245000</td>\n",
       "      <td>1.000000</td>\n",
       "      <td>100127.710000</td>\n",
       "    </tr>\n",
       "    <tr>\n",
       "      <th>75%</th>\n",
       "      <td>718.000000</td>\n",
       "      <td>43.000000</td>\n",
       "      <td>7.500000</td>\n",
       "      <td>139186.295000</td>\n",
       "      <td>2.000000</td>\n",
       "      <td>149376.125000</td>\n",
       "    </tr>\n",
       "    <tr>\n",
       "      <th>max</th>\n",
       "      <td>850.000000</td>\n",
       "      <td>62.000000</td>\n",
       "      <td>10.000000</td>\n",
       "      <td>199689.490000</td>\n",
       "      <td>4.000000</td>\n",
       "      <td>199992.480000</td>\n",
       "    </tr>\n",
       "  </tbody>\n",
       "</table>\n",
       "</div>"
      ],
      "text/plain": [
       "             score          age      objects        balance     products  \\\n",
       "count  9567.000000  9567.000000  9567.000000    6088.000000  9567.000000   \n",
       "mean    650.725619    37.783004     5.018919  119725.315496     1.532246   \n",
       "std      96.166476     8.801262     2.888614   28885.643963     0.581062   \n",
       "min     382.000000    18.000000     0.000000   40105.510000     1.000000   \n",
       "25%     584.000000    32.000000     3.000000  100354.145000     1.000000   \n",
       "50%     652.000000    37.000000     5.000000  119776.245000     1.000000   \n",
       "75%     718.000000    43.000000     7.500000  139186.295000     2.000000   \n",
       "max     850.000000    62.000000    10.000000  199689.490000     4.000000   \n",
       "\n",
       "              salary  \n",
       "count    9567.000000  \n",
       "mean   100040.404027  \n",
       "std     57531.353112  \n",
       "min        11.580000  \n",
       "25%     50907.565000  \n",
       "50%    100127.710000  \n",
       "75%    149376.125000  \n",
       "max    199992.480000  "
      ]
     },
     "metadata": {},
     "output_type": "display_data"
    }
   ],
   "source": [
    "display(df.drop(['user_id'], axis=1).describe())"
   ]
  },
  {
   "cell_type": "markdown",
   "metadata": {},
   "source": [
    "<div style=\"background: #B0E0E6; padding: 5px; border: 1px solid SteelBlue; border-radius: 5px;\">\n",
    "\n",
    "Если смотреть на данные в целом то можно отметить следующией факторы (с учетом поправки на отсутствие выбросов) :\n",
    "    \n",
    "* Баллы кредитного скоринга варьируются от 382 до 850. Средний рейтинг составляет 650 \n",
    "    \n",
    "* Возраст - минимальный 18 лет , максимальный 62 года. Средний возраст клиента банка составляет 37 лет.\n",
    "    \n",
    "* 11000 p. - минимальная заработаная плата у клиента , максимальная - 200000 р.\n",
    "    \n",
    "* В среднем у клиента 5 обьектов собственности \n",
    "    \n",
    "* Клиенты имеют от одного до четырех продуктов банка. \n",
    "    \n",
    " "
   ]
  },
  {
   "cell_type": "markdown",
   "metadata": {},
   "source": [
    "<div style=\"background: #B0E0E6; padding: 5px; border: 1px solid SteelBlue; border-radius: 5px;\">\n",
    "    \n",
    "**Гендерное распределенеие клиентов**"
   ]
  },
  {
   "cell_type": "code",
   "execution_count": 23,
   "metadata": {},
   "outputs": [
    {
     "data": {
      "image/png": "[encoded data removed]",
      "text/plain": [
       "<Figure size 576x396 with 1 Axes>"
      ]
     },
     "metadata": {},
     "output_type": "display_data"
    },
    {
     "data": {
      "text/plain": [
       "gender\n",
       "Ж    4335\n",
       "М    5232\n",
       "Name: user_id, dtype: int64"
      ]
     },
     "metadata": {},
     "output_type": "display_data"
    }
   ],
   "source": [
    "gender_id = df.groupby('gender')['user_id'].agg('count')\n",
    "with plt.style.context('seaborn'):\n",
    "    gender_id.plot(kind='pie' , autopct='%1.1f%%')\n",
    "plt.title('Количество мужчин и женщин , клиентов компании')\n",
    "plt.xticks(rotation=0)\n",
    "plt.xlabel('Категории')\n",
    "plt.ylabel('Количество')\n",
    "plt.show()\n",
    "display(gender_id)"
   ]
  },
  {
   "cell_type": "markdown",
   "metadata": {},
   "source": [
    "<div style=\"background: #B0E0E6; padding: 5px; border: 1px solid SteelBlue; border-radius: 5px;\">\n",
    "\n",
    "По распределению мы видим что мужчин не намного , но больше чем женщин. 5232 мужчин и 4335 женщин."
   ]
  },
  {
   "cell_type": "markdown",
   "metadata": {},
   "source": [
    "<div style=\"background: #B0E0E6; padding: 5px; border: 1px solid SteelBlue; border-radius: 5px;\">\n",
    "    \n",
    "**Распределение клиентов по возрасту**"
   ]
  },
  {
   "cell_type": "code",
   "execution_count": 24,
   "metadata": {},
   "outputs": [
    {
     "data": {
      "image/png": "[encoded data removed]",
      "text/plain": [
       "<Figure size 1440x720 with 1 Axes>"
      ]
     },
     "metadata": {
      "needs_background": "light"
     },
     "output_type": "display_data"
    }
   ],
   "source": [
    "age_id = df.groupby('age')['user_id'].agg('count')\n",
    "plt.figure(figsize=(20, 10))\n",
    "sns.countplot(x='age', data=df)\n",
    "plt.xticks(rotation=0)\n",
    "plt.title('Распределение клиентов по возрасту')\n",
    "plt.xlabel(\"Возраст\")\n",
    "plt.show()"
   ]
  },
  {
   "cell_type": "markdown",
   "metadata": {},
   "source": [
    "<div style=\"background: #B0E0E6; padding: 5px; border: 1px solid SteelBlue; border-radius: 5px;\">\n",
    "    \n",
    "По распределению можно заметить что большинство клиентов имеют возраст в среднем от 31 года до 40 лет"
   ]
  },
  {
   "cell_type": "markdown",
   "metadata": {},
   "source": [
    "<div style=\"background: #B0E0E6; padding: 5px; border: 1px solid SteelBlue; border-radius: 5px;\">\n",
    "    \n",
    "**Распределение клиентов по городам**"
   ]
  },
  {
   "cell_type": "code",
   "execution_count": 25,
   "metadata": {},
   "outputs": [
    {
     "data": {
      "image/png": "[encoded data removed]",
      "text/plain": [
       "<Figure size 720x720 with 1 Axes>"
      ]
     },
     "metadata": {
      "needs_background": "light"
     },
     "output_type": "display_data"
    },
    {
     "data": {
      "text/plain": [
       "city\n",
       "Ростов Великий    2407\n",
       "Рыбинск           2361\n",
       "Ярославль         4799\n",
       "Name: user_id, dtype: int64"
      ]
     },
     "execution_count": 25,
     "metadata": {},
     "output_type": "execute_result"
    }
   ],
   "source": [
    "city_id = df.groupby('city')['user_id'].agg('count')\n",
    "plt.figure(figsize=(10, 10))\n",
    "sns.countplot(x='city', data=df)\n",
    "plt.xticks(rotation=0)\n",
    "plt.title('Распределение клиентов по городам')\n",
    "plt.xlabel(\"Город\")\n",
    "plt.show()\n",
    "city_id"
   ]
  },
  {
   "cell_type": "markdown",
   "metadata": {},
   "source": [
    "<div style=\"background: #B0E0E6; padding: 5px; border: 1px solid SteelBlue; border-radius: 5px;\">\n",
    "\n",
    "По данным мы видим что большинство клиентов банка находятся в Ярославле (4799) , далее жители Ростова Великого (2407) и Рыбинска (2361)"
   ]
  },
  {
   "cell_type": "markdown",
   "metadata": {},
   "source": [
    "<div style=\"background: #B0E0E6; padding: 5px; border: 1px solid SteelBlue; border-radius: 5px;\">\n",
    "    \n",
    "**Распределение клиентов по наличию кредитной карты**"
   ]
  },
  {
   "cell_type": "code",
   "execution_count": 26,
   "metadata": {},
   "outputs": [
    {
     "data": {
      "image/png": "[encoded data removed]",
      "text/plain": [
       "<Figure size 576x396 with 1 Axes>"
      ]
     },
     "metadata": {},
     "output_type": "display_data"
    },
    {
     "data": {
      "text/plain": [
       "credit_card\n",
       "False    2814\n",
       "True     6753\n",
       "Name: user_id, dtype: int64"
      ]
     },
     "metadata": {},
     "output_type": "display_data"
    }
   ],
   "source": [
    "card_id = df.groupby('credit_card')['user_id'].agg('count')\n",
    "with plt.style.context('seaborn'):\n",
    "    card_id.plot(kind='pie' , autopct='%1.1f%%')\n",
    "plt.title('Рапределение клиентов у которых есть либо нет кредитной карты')\n",
    "plt.xticks(rotation=0)\n",
    "plt.ylabel('Количество')\n",
    "plt.show()\n",
    "display(card_id)"
   ]
  },
  {
   "cell_type": "markdown",
   "metadata": {},
   "source": [
    "<div style=\"background: #B0E0E6; padding: 5px; border: 1px solid SteelBlue; border-radius: 5px;\">\n",
    "    \n",
    "6753 (70.6%) клиентов банка имеют кредитные карты банка , 2814 (29.4%) - не имеют"
   ]
  },
  {
   "cell_type": "markdown",
   "metadata": {},
   "source": [
    "<div style=\"background: #B0E0E6; padding: 5px; border: 1px solid SteelBlue; border-radius: 5px;\">\n",
    "    \n",
    "**Распределение клиентов по количеству продуктов**"
   ]
  },
  {
   "cell_type": "code",
   "execution_count": 27,
   "metadata": {},
   "outputs": [
    {
     "data": {
      "image/png": "[encoded data removed]",
      "text/plain": [
       "<Figure size 576x396 with 1 Axes>"
      ]
     },
     "metadata": {},
     "output_type": "display_data"
    },
    {
     "data": {
      "text/plain": [
       "products\n",
       "1    4841\n",
       "2    4418\n",
       "3     250\n",
       "4      58\n",
       "Name: user_id, dtype: int64"
      ]
     },
     "metadata": {},
     "output_type": "display_data"
    }
   ],
   "source": [
    "product_id = df.groupby('products')['user_id'].agg('count')\n",
    "with plt.style.context('seaborn'):\n",
    "    product_id.plot(kind='bar')\n",
    "plt.title('Распределение клиентов по количеству продуктов')\n",
    "plt.xticks(rotation=0)\n",
    "plt.xlabel('Количество продуктов банка')\n",
    "plt.ylabel('Количество')\n",
    "plt.show()\n",
    "display(product_id)"
   ]
  },
  {
   "cell_type": "markdown",
   "metadata": {},
   "source": [
    "<div style=\"background: #B0E0E6; padding: 5px; border: 1px solid SteelBlue; border-radius: 5px;\">\n",
    "    \n",
    "Подавляющее большинство клиентов банка имеют только один либо два продукта. "
   ]
  },
  {
   "cell_type": "markdown",
   "metadata": {},
   "source": [
    "<div style=\"background: #B0E0E6; padding: 5px; border: 1px solid SteelBlue; border-radius: 5px;\">\n",
    "    \n",
    "**Ушедшие и оставшиеся клиенты банка**"
   ]
  },
  {
   "cell_type": "code",
   "execution_count": 28,
   "metadata": {},
   "outputs": [
    {
     "data": {
      "image/png": "[encoded data removed]",
      "text/plain": [
       "<Figure size 576x396 with 1 Axes>"
      ]
     },
     "metadata": {},
     "output_type": "display_data"
    },
    {
     "data": {
      "text/plain": [
       "churn\n",
       "False    7646\n",
       "True     1921\n",
       "Name: user_id, dtype: int64"
      ]
     },
     "metadata": {},
     "output_type": "display_data"
    }
   ],
   "source": [
    "churn_id = df.groupby('churn')['user_id'].agg('count')\n",
    "with plt.style.context('seaborn'):\n",
    "    churn_id.plot(kind='pie' , autopct='%1.1f%%')\n",
    "plt.title('Ушедшие и оставшиеся клиенты')\n",
    "plt.xticks(rotation=0)\n",
    "plt.ylabel('Количество')\n",
    "plt.show()\n",
    "display(churn_id)"
   ]
  },
  {
   "cell_type": "markdown",
   "metadata": {},
   "source": [
    "<div style=\"background: #B0E0E6; padding: 5px; border: 1px solid SteelBlue; border-radius: 5px;\">\n",
    "    \n",
    "Только 20% от всех клиентов банка ушли , 80% остались. "
   ]
  },
  {
   "cell_type": "markdown",
   "metadata": {},
   "source": [
    "<div style=\"background: #B0E0E6; padding: 5px; border: 1px solid SteelBlue; border-radius: 5px;\">\n",
    "    \n",
    "**Распрделение клиентов по обьектам в собственности**"
   ]
  },
  {
   "cell_type": "code",
   "execution_count": 29,
   "metadata": {
    "scrolled": false
   },
   "outputs": [
    {
     "data": {
      "image/png": "[encoded data removed]",
      "text/plain": [
       "<Figure size 1440x720 with 1 Axes>"
      ]
     },
     "metadata": {
      "needs_background": "light"
     },
     "output_type": "display_data"
    }
   ],
   "source": [
    "objects_id = df.groupby('objects')['user_id'].agg('count')\n",
    "plt.figure(figsize=(20, 10))\n",
    "sns.countplot(x='objects', data=df)\n",
    "plt.xticks(rotation=0)\n",
    "plt.title('Распределение клиентов по обьектам в собственности')\n",
    "plt.xlabel(\"Количество обьектов\")\n",
    "plt.ylabel('Количество')\n",
    "plt.show()"
   ]
  },
  {
   "cell_type": "markdown",
   "metadata": {},
   "source": [
    "<div style=\"background: #B0E0E6; padding: 5px; border: 1px solid SteelBlue; border-radius: 5px;\">\n",
    "    \n",
    "**Распределение клиентов по  рейтингу , балансу и заработной плате и возрасту**"
   ]
  },
  {
   "cell_type": "code",
   "execution_count": 51,
   "metadata": {},
   "outputs": [],
   "source": [
    "num_col = ['score', 'age', 'balance', 'salary']\n",
    "location_num = [221, 222, 223, 224]"
   ]
  },
  {
   "cell_type": "code",
   "execution_count": 52,
   "metadata": {},
   "outputs": [
    {
     "data": {
      "image/png": "[encoded data removed]",
      "text/plain": [
       "<Figure size 864x432 with 4 Axes>"
      ]
     },
     "metadata": {
      "needs_background": "light"
     },
     "output_type": "display_data"
    }
   ],
   "source": [
    "plt.figure(figsize=(12, 6))\n",
    "for col, number in zip(num_col, location_num):\n",
    "    plt.subplot(number)\n",
    "    sns.histplot(df, x=col, bins=30)\n",
    "    plt.ylabel('Количество клиентов', fontsize=10, labelpad=12)\n",
    "plt.tight_layout()\n",
    "plt.show();"
   ]
  },
  {
   "cell_type": "markdown",
   "metadata": {},
   "source": [
    "<div style=\"background: #B0E0E6; padding: 5px; border: 1px solid SteelBlue; border-radius: 5px;\">\n",
    "    \n",
    "* Большинство клиентов имеют рейтинг от 600 до 700. Однако присутствует достаточно большой кластер пользователей с \n",
    "рейтингом 850.\n",
    "    \n",
    "* Остаток на счету в районе 100-150 т. рублей. \n",
    " \n",
    "* Средний возраст 30 - 40 лет."
   ]
  },
  {
   "cell_type": "markdown",
   "metadata": {},
   "source": [
    "<div style=\"background: #B0E0E6; padding: 5px; border: 1px solid SteelBlue; border-radius: 5px;\">\n",
    "    \n",
    "**Матрица корреляции**"
   ]
  },
  {
   "cell_type": "code",
   "execution_count": 32,
   "metadata": {},
   "outputs": [
    {
     "data": {
      "image/png": "[encoded data removed]",
      "text/plain": [
       "<Figure size 1152x720 with 2 Axes>"
      ]
     },
     "metadata": {
      "needs_background": "light"
     },
     "output_type": "display_data"
    }
   ],
   "source": [
    "df_corr = df.drop(['user_id'], axis=1)\n",
    "plt.figure(figsize=(16, 10)) \n",
    "heatmap = sns.heatmap(df_corr.corr(), vmin=-1, vmax=1, annot=True, cmap='BrBG') \n",
    "\n",
    "heatmap.set_title('Матрица корреляции', fontdict={'fontsize':12}, pad=16);"
   ]
  },
  {
   "cell_type": "markdown",
   "metadata": {},
   "source": [
    "<div style=\"background: #B0E0E6; padding: 5px; border: 1px solid SteelBlue; border-radius: 5px;\">\n",
    "\n",
    "Матрица корреляции показывает нам что присутсвуют взаимосвязи между churn и age , а также между loyalty и churn."
   ]
  },
  {
   "cell_type": "markdown",
   "metadata": {},
   "source": [
    "<div style=\"background: #B0E0E6; padding: 5px; border: 1px solid SteelBlue; border-radius: 5px;\">\n",
    "В ходе проведения исследовательского анализа данных мы выявили следующие закономерности : \n",
    "    \n",
    "* Клиентами банка чаще являются мужчины - 5232 мужчин и 4335 женщин.\n",
    "* Большинство клиентов  имеют возраст от 31 года до 40 лет.\n",
    "* Большинство клиентов находятся в городе Ярославль.\n",
    "* Кредитные карты есть у 70% клиентов.\n",
    "* Большинство клиентов имеют 1 либо 2 продукта.\n",
    "* 20% - процент оттока клиентов из банка.\n",
    "* Большинство клиентов имеют рейтинг от 600 до 700. Однако присутствует достаточно большой кластер пользователей с \n",
    "рейтингом 850.\n",
    "* Большинство клиентов имеют остаток на счету в районе 100-150 т. рублей\n",
    "    \n",
    "    "
   ]
  },
  {
   "cell_type": "markdown",
   "metadata": {},
   "source": [
    "<div style=\"background: #B0E0E6; padding: 5px; border: 1px solid SteelBlue; border-radius: 5px;\">\n",
    "    \n",
    "**Особенности ушедших клиентов**"
   ]
  },
  {
   "cell_type": "code",
   "execution_count": 33,
   "metadata": {},
   "outputs": [
    {
     "data": {
      "text/html": [
       "<div>\n",
       "<style scoped>\n",
       "    .dataframe tbody tr th:only-of-type {\n",
       "        vertical-align: middle;\n",
       "    }\n",
       "\n",
       "    .dataframe tbody tr th {\n",
       "        vertical-align: top;\n",
       "    }\n",
       "\n",
       "    .dataframe thead th {\n",
       "        text-align: right;\n",
       "    }\n",
       "</style>\n",
       "<table border=\"1\" class=\"dataframe\">\n",
       "  <thead>\n",
       "    <tr style=\"text-align: right;\">\n",
       "      <th></th>\n",
       "      <th>user_id</th>\n",
       "      <th>score</th>\n",
       "      <th>city</th>\n",
       "      <th>gender</th>\n",
       "      <th>age</th>\n",
       "      <th>objects</th>\n",
       "      <th>balance</th>\n",
       "      <th>products</th>\n",
       "      <th>credit_card</th>\n",
       "      <th>loyalty</th>\n",
       "      <th>salary</th>\n",
       "      <th>churn</th>\n",
       "    </tr>\n",
       "  </thead>\n",
       "  <tbody>\n",
       "    <tr>\n",
       "      <th>0</th>\n",
       "      <td>15677338</td>\n",
       "      <td>619</td>\n",
       "      <td>Ярославль</td>\n",
       "      <td>Ж</td>\n",
       "      <td>42</td>\n",
       "      <td>2</td>\n",
       "      <td>NaN</td>\n",
       "      <td>1</td>\n",
       "      <td>True</td>\n",
       "      <td>True</td>\n",
       "      <td>101348.88</td>\n",
       "      <td>True</td>\n",
       "    </tr>\n",
       "    <tr>\n",
       "      <th>2</th>\n",
       "      <td>15662040</td>\n",
       "      <td>502</td>\n",
       "      <td>Ярославль</td>\n",
       "      <td>Ж</td>\n",
       "      <td>42</td>\n",
       "      <td>8</td>\n",
       "      <td>159660.80</td>\n",
       "      <td>3</td>\n",
       "      <td>True</td>\n",
       "      <td>False</td>\n",
       "      <td>113931.57</td>\n",
       "      <td>True</td>\n",
       "    </tr>\n",
       "    <tr>\n",
       "      <th>5</th>\n",
       "      <td>15616748</td>\n",
       "      <td>645</td>\n",
       "      <td>Рыбинск</td>\n",
       "      <td>М</td>\n",
       "      <td>44</td>\n",
       "      <td>8</td>\n",
       "      <td>113755.78</td>\n",
       "      <td>2</td>\n",
       "      <td>True</td>\n",
       "      <td>False</td>\n",
       "      <td>149756.71</td>\n",
       "      <td>True</td>\n",
       "    </tr>\n",
       "    <tr>\n",
       "      <th>16</th>\n",
       "      <td>15780188</td>\n",
       "      <td>653</td>\n",
       "      <td>Ростов Великий</td>\n",
       "      <td>М</td>\n",
       "      <td>58</td>\n",
       "      <td>1</td>\n",
       "      <td>132602.88</td>\n",
       "      <td>1</td>\n",
       "      <td>True</td>\n",
       "      <td>False</td>\n",
       "      <td>5097.67</td>\n",
       "      <td>True</td>\n",
       "    </tr>\n",
       "    <tr>\n",
       "      <th>22</th>\n",
       "      <td>15742045</td>\n",
       "      <td>510</td>\n",
       "      <td>Рыбинск</td>\n",
       "      <td>Ж</td>\n",
       "      <td>38</td>\n",
       "      <td>4</td>\n",
       "      <td>NaN</td>\n",
       "      <td>1</td>\n",
       "      <td>True</td>\n",
       "      <td>False</td>\n",
       "      <td>118913.53</td>\n",
       "      <td>True</td>\n",
       "    </tr>\n",
       "    <tr>\n",
       "      <th>...</th>\n",
       "      <td>...</td>\n",
       "      <td>...</td>\n",
       "      <td>...</td>\n",
       "      <td>...</td>\n",
       "      <td>...</td>\n",
       "      <td>...</td>\n",
       "      <td>...</td>\n",
       "      <td>...</td>\n",
       "      <td>...</td>\n",
       "      <td>...</td>\n",
       "      <td>...</td>\n",
       "      <td>...</td>\n",
       "    </tr>\n",
       "    <tr>\n",
       "      <th>9981</th>\n",
       "      <td>15715490</td>\n",
       "      <td>498</td>\n",
       "      <td>Ростов Великий</td>\n",
       "      <td>М</td>\n",
       "      <td>42</td>\n",
       "      <td>3</td>\n",
       "      <td>152039.70</td>\n",
       "      <td>1</td>\n",
       "      <td>True</td>\n",
       "      <td>True</td>\n",
       "      <td>53445.17</td>\n",
       "      <td>True</td>\n",
       "    </tr>\n",
       "    <tr>\n",
       "      <th>9982</th>\n",
       "      <td>15810899</td>\n",
       "      <td>655</td>\n",
       "      <td>Ростов Великий</td>\n",
       "      <td>Ж</td>\n",
       "      <td>46</td>\n",
       "      <td>7</td>\n",
       "      <td>137145.12</td>\n",
       "      <td>1</td>\n",
       "      <td>True</td>\n",
       "      <td>False</td>\n",
       "      <td>115146.40</td>\n",
       "      <td>True</td>\n",
       "    </tr>\n",
       "    <tr>\n",
       "      <th>9991</th>\n",
       "      <td>15812695</td>\n",
       "      <td>597</td>\n",
       "      <td>Ярославль</td>\n",
       "      <td>Ж</td>\n",
       "      <td>53</td>\n",
       "      <td>4</td>\n",
       "      <td>88381.21</td>\n",
       "      <td>1</td>\n",
       "      <td>True</td>\n",
       "      <td>False</td>\n",
       "      <td>69384.71</td>\n",
       "      <td>True</td>\n",
       "    </tr>\n",
       "    <tr>\n",
       "      <th>9997</th>\n",
       "      <td>15627268</td>\n",
       "      <td>709</td>\n",
       "      <td>Ярославль</td>\n",
       "      <td>Ж</td>\n",
       "      <td>36</td>\n",
       "      <td>7</td>\n",
       "      <td>NaN</td>\n",
       "      <td>1</td>\n",
       "      <td>False</td>\n",
       "      <td>True</td>\n",
       "      <td>42085.58</td>\n",
       "      <td>True</td>\n",
       "    </tr>\n",
       "    <tr>\n",
       "      <th>9998</th>\n",
       "      <td>15725091</td>\n",
       "      <td>772</td>\n",
       "      <td>Ростов Великий</td>\n",
       "      <td>М</td>\n",
       "      <td>42</td>\n",
       "      <td>3</td>\n",
       "      <td>75075.31</td>\n",
       "      <td>2</td>\n",
       "      <td>True</td>\n",
       "      <td>False</td>\n",
       "      <td>92888.52</td>\n",
       "      <td>True</td>\n",
       "    </tr>\n",
       "  </tbody>\n",
       "</table>\n",
       "<p>1921 rows × 12 columns</p>\n",
       "</div>"
      ],
      "text/plain": [
       "       user_id  score            city gender  age  objects    balance  \\\n",
       "0     15677338    619       Ярославль      Ж   42        2        NaN   \n",
       "2     15662040    502       Ярославль      Ж   42        8  159660.80   \n",
       "5     15616748    645         Рыбинск      М   44        8  113755.78   \n",
       "16    15780188    653  Ростов Великий      М   58        1  132602.88   \n",
       "22    15742045    510         Рыбинск      Ж   38        4        NaN   \n",
       "...        ...    ...             ...    ...  ...      ...        ...   \n",
       "9981  15715490    498  Ростов Великий      М   42        3  152039.70   \n",
       "9982  15810899    655  Ростов Великий      Ж   46        7  137145.12   \n",
       "9991  15812695    597       Ярославль      Ж   53        4   88381.21   \n",
       "9997  15627268    709       Ярославль      Ж   36        7        NaN   \n",
       "9998  15725091    772  Ростов Великий      М   42        3   75075.31   \n",
       "\n",
       "      products  credit_card  loyalty     salary  churn  \n",
       "0            1         True     True  101348.88   True  \n",
       "2            3         True    False  113931.57   True  \n",
       "5            2         True    False  149756.71   True  \n",
       "16           1         True    False    5097.67   True  \n",
       "22           1         True    False  118913.53   True  \n",
       "...        ...          ...      ...        ...    ...  \n",
       "9981         1         True     True   53445.17   True  \n",
       "9982         1         True    False  115146.40   True  \n",
       "9991         1         True    False   69384.71   True  \n",
       "9997         1        False     True   42085.58   True  \n",
       "9998         2         True    False   92888.52   True  \n",
       "\n",
       "[1921 rows x 12 columns]"
      ]
     },
     "execution_count": 33,
     "metadata": {},
     "output_type": "execute_result"
    }
   ],
   "source": [
    "churn_df = df.query('churn == True')\n",
    "churn_df"
   ]
  },
  {
   "cell_type": "code",
   "execution_count": 34,
   "metadata": {
    "scrolled": true
   },
   "outputs": [
    {
     "data": {
      "image/png": "[encoded data removed]",
      "text/plain": [
       "<Figure size 432x288 with 1 Axes>"
      ]
     },
     "metadata": {
      "needs_background": "light"
     },
     "output_type": "display_data"
    },
    {
     "data": {
      "image/png": "[encoded data removed]",
      "text/plain": [
       "<Figure size 432x288 with 1 Axes>"
      ]
     },
     "metadata": {
      "needs_background": "light"
     },
     "output_type": "display_data"
    },
    {
     "data": {
      "image/png": "[encoded data removed]",
      "text/plain": [
       "<Figure size 432x288 with 1 Axes>"
      ]
     },
     "metadata": {
      "needs_background": "light"
     },
     "output_type": "display_data"
    },
    {
     "data": {
      "image/png": "[encoded data removed]",
      "text/plain": [
       "<Figure size 432x288 with 1 Axes>"
      ]
     },
     "metadata": {
      "needs_background": "light"
     },
     "output_type": "display_data"
    },
    {
     "data": {
      "image/png": "[encoded data removed]",
      "text/plain": [
       "<Figure size 432x288 with 1 Axes>"
      ]
     },
     "metadata": {
      "needs_background": "light"
     },
     "output_type": "display_data"
    }
   ],
   "source": [
    "for column in ['city','gender', 'credit_card','loyalty' , 'products']:\n",
    "        ax = sns.countplot(data=churn_df, x=column, hue=column);\n",
    "        plt.title(column, fontsize = 16, color = 'black')\n",
    "        plt.show()"
   ]
  },
  {
   "cell_type": "code",
   "execution_count": 35,
   "metadata": {},
   "outputs": [],
   "source": [
    "num_col = ['score', 'age', 'balance', 'salary']\n",
    "location_num = [221, 222, 223, 224]"
   ]
  },
  {
   "cell_type": "code",
   "execution_count": 36,
   "metadata": {},
   "outputs": [
    {
     "data": {
      "image/png": "[encoded data removed]",
      "text/plain": [
       "<Figure size 936x432 with 4 Axes>"
      ]
     },
     "metadata": {
      "needs_background": "light"
     },
     "output_type": "display_data"
    }
   ],
   "source": [
    "plt.figure(figsize=(13, 6))\n",
    "for col, number in zip(num_col, location_num):\n",
    "    plt.subplot(number)\n",
    "    sns.histplot(churn_df, x=col, palette='magma', legend=False)\n",
    "    plt.ylabel('Количество клиентов', fontsize=10, labelpad=12)\n",
    "    plt.tight_layout()\n",
    "plt.show();"
   ]
  },
  {
   "cell_type": "markdown",
   "metadata": {},
   "source": [
    "<div style=\"background: #B0E0E6; padding: 5px; border: 1px solid SteelBlue; border-radius: 5px;\">\n",
    "    \n",
    "Основываяся на данные по ушедшим клиентам можно выделить следующие моменты. Портрет пользователей которые ушли:\n",
    "    \n",
    "* Преимущественно из Ярославля и Ростова-Великого\n",
    "    \n",
    "* В большинстве случаев это мужчины \n",
    "    \n",
    "* Имеют в наличии кредитную карту \n",
    "    \n",
    "* В большинстве случаев это не активные клиенты \n",
    "    \n",
    "* Подвляющее больщинство имело лишь один продукт банка \n",
    "    \n",
    "* Имеют средний рейтинг 600 \n",
    "    \n",
    "* Возраст 40 -  50  лет \n",
    "    "
   ]
  },
  {
   "cell_type": "markdown",
   "metadata": {},
   "source": [
    "<div style=\"background: #B0E0E6; padding: 5px; border: 1px solid SteelBlue; border-radius: 5px;\">\n",
    "\n",
    "## Сегментация пользователей"
   ]
  },
  {
   "cell_type": "markdown",
   "metadata": {},
   "source": [
    "<div style=\"background: #B0E0E6; padding: 5px; border: 1px solid SteelBlue; border-radius: 5px;\">\n",
    "    \n",
    "**Сегментация пользователей на основе данных о количестве потребляемых продуктов**"
   ]
  },
  {
   "cell_type": "code",
   "execution_count": 37,
   "metadata": {},
   "outputs": [
    {
     "data": {
      "text/plain": [
       "1    4841\n",
       "2    4418\n",
       "3     250\n",
       "4      58\n",
       "Name: products, dtype: int64"
      ]
     },
     "execution_count": 37,
     "metadata": {},
     "output_type": "execute_result"
    }
   ],
   "source": [
    "df['products'].value_counts()"
   ]
  },
  {
   "cell_type": "code",
   "execution_count": 38,
   "metadata": {
    "scrolled": false
   },
   "outputs": [
    {
     "data": {
      "image/png": "[encoded data removed]",
      "text/plain": [
       "<Figure size 432x288 with 1 Axes>"
      ]
     },
     "metadata": {
      "needs_background": "light"
     },
     "output_type": "display_data"
    },
    {
     "data": {
      "image/png": "[encoded data removed]",
      "text/plain": [
       "<Figure size 432x288 with 1 Axes>"
      ]
     },
     "metadata": {
      "needs_background": "light"
     },
     "output_type": "display_data"
    },
    {
     "data": {
      "image/png": "[encoded data removed]",
      "text/plain": [
       "<Figure size 432x288 with 1 Axes>"
      ]
     },
     "metadata": {
      "needs_background": "light"
     },
     "output_type": "display_data"
    },
    {
     "data": {
      "image/png": "[encoded data removed]",
      "text/plain": [
       "<Figure size 432x288 with 1 Axes>"
      ]
     },
     "metadata": {
      "needs_background": "light"
     },
     "output_type": "display_data"
    },
    {
     "data": {
      "image/png": "[encoded data removed]",
      "text/plain": [
       "<Figure size 432x288 with 1 Axes>"
      ]
     },
     "metadata": {
      "needs_background": "light"
     },
     "output_type": "display_data"
    }
   ],
   "source": [
    "for column in ['city','gender','credit_card','loyalty', 'churn']:\n",
    "        ax = sns.countplot(data=df, x='products', hue=column);\n",
    "        plt.title(column, fontsize = 16, color = 'black')\n",
    "        plt.show()"
   ]
  },
  {
   "cell_type": "code",
   "execution_count": 39,
   "metadata": {},
   "outputs": [],
   "source": [
    "one_pro=df.query('products == 1')\n",
    "two_pro=df.query('products == 2')\n",
    "tree_pro=df.query('products == 3')\n",
    "four_pro=df.query('products == 4')"
   ]
  },
  {
   "cell_type": "markdown",
   "metadata": {},
   "source": [
    "<div style=\"background: #B0E0E6; padding: 5px; border: 1px solid SteelBlue; border-radius: 5px;\">\n",
    "    \n",
    "**Клиенты имеющие 1 продукт в использовании**"
   ]
  },
  {
   "cell_type": "markdown",
   "metadata": {},
   "source": [
    "<div style=\"background: #B0E0E6; padding: 5px; border: 1px solid SteelBlue; border-radius: 5px;\">\n",
    "В данном разделе я не стал обьединять все графики в один большой , дабы посмотреть на метрики для каждого сегмента в отдельности."
   ]
  },
  {
   "cell_type": "code",
   "execution_count": 40,
   "metadata": {},
   "outputs": [],
   "source": [
    "num_col = ['score', 'age', 'balance', 'salary']"
   ]
  },
  {
   "cell_type": "code",
   "execution_count": 41,
   "metadata": {
    "scrolled": false
   },
   "outputs": [
    {
     "data": {
      "image/png": "[encoded data removed]",
      "text/plain": [
       "<Figure size 936x432 with 4 Axes>"
      ]
     },
     "metadata": {
      "needs_background": "light"
     },
     "output_type": "display_data"
    }
   ],
   "source": [
    "plt.figure(figsize=(13, 6))\n",
    "for col, number in zip(num_col, location_num):\n",
    "    plt.subplot(number)\n",
    "    sns.histplot(one_pro, x=col, color='purple', legend=False)\n",
    "    plt.ylabel('Количество клиентов', fontsize=10, labelpad=12)\n",
    "    plt.tight_layout()\n",
    "plt.show();"
   ]
  },
  {
   "cell_type": "markdown",
   "metadata": {},
   "source": [
    "<div style=\"background: #B0E0E6; padding: 5px; border: 1px solid SteelBlue; border-radius: 5px;\">\n",
    "    \n",
    "**Клиенты имеющие 2 продукта в использовании**"
   ]
  },
  {
   "cell_type": "code",
   "execution_count": 42,
   "metadata": {},
   "outputs": [
    {
     "data": {
      "image/png": "[encoded data removed]",
      "text/plain": [
       "<Figure size 936x432 with 4 Axes>"
      ]
     },
     "metadata": {
      "needs_background": "light"
     },
     "output_type": "display_data"
    }
   ],
   "source": [
    "plt.figure(figsize=(13, 6))\n",
    "for col, number in zip(num_col, location_num):\n",
    "    plt.subplot(number)\n",
    "    sns.histplot(two_pro, x=col, legend=False , color='green')\n",
    "    plt.ylabel('Количество клиентов', fontsize=10, labelpad=12)\n",
    "    plt.tight_layout()\n",
    "plt.show();"
   ]
  },
  {
   "cell_type": "markdown",
   "metadata": {},
   "source": [
    "<div style=\"background: #B0E0E6; padding: 5px; border: 1px solid SteelBlue; border-radius: 5px;\">\n",
    "    \n",
    "**Клиенты имеющие 3 продукта в использовании**"
   ]
  },
  {
   "cell_type": "code",
   "execution_count": 43,
   "metadata": {},
   "outputs": [
    {
     "data": {
      "image/png": "[encoded data removed]",
      "text/plain": [
       "<Figure size 936x432 with 4 Axes>"
      ]
     },
     "metadata": {
      "needs_background": "light"
     },
     "output_type": "display_data"
    }
   ],
   "source": [
    "plt.figure(figsize=(13, 6))\n",
    "for col, number in zip(num_col, location_num):\n",
    "    plt.subplot(number)\n",
    "    sns.histplot(tree_pro, x=col, legend=False)\n",
    "    plt.ylabel('Количество клиентов', fontsize=10, labelpad=12)\n",
    "    plt.tight_layout()\n",
    "plt.show();"
   ]
  },
  {
   "cell_type": "markdown",
   "metadata": {},
   "source": [
    "<div style=\"background: #B0E0E6; padding: 5px; border: 1px solid SteelBlue; border-radius: 5px;\">\n",
    "    \n",
    "**Клиенты имеющие 4 продукта в использовании**"
   ]
  },
  {
   "cell_type": "code",
   "execution_count": 44,
   "metadata": {},
   "outputs": [
    {
     "data": {
      "image/png": "[encoded data removed]",
      "text/plain": [
       "<Figure size 936x432 with 4 Axes>"
      ]
     },
     "metadata": {
      "needs_background": "light"
     },
     "output_type": "display_data"
    }
   ],
   "source": [
    "plt.figure(figsize=(13, 6))\n",
    "for col, number in zip(num_col, location_num):\n",
    "    plt.subplot(number)\n",
    "    sns.histplot(four_pro, x=col, color='red', legend=False)\n",
    "    plt.ylabel('Количество клиентов', fontsize=10, labelpad=12)\n",
    "    plt.tight_layout()\n",
    "plt.show();"
   ]
  },
  {
   "cell_type": "markdown",
   "metadata": {},
   "source": [
    "<div style=\"background: #B0E0E6; padding: 5px; border: 1px solid SteelBlue; border-radius: 5px;\">\n",
    "\n",
    "При сегментации пользователей по признаку количества потребляемых продуктов мы выявили следующие закономерности и составили  портреты для каждого сегмента:\n",
    "    \n",
    "* **Сегмент №1** (клиенты используют один продукт) - Самый многочисленный  сегмент - 4841 пользователь. Большинство клиентов находятся в Ярославле. Преимущественно это мужчины. Подавляющее число имеют кредитные карты. Практически равное распределение активных и неактивных пользователей(неактивных чуть больше). В  основном  это клиенты которые остались в банке . однако есть достаточный процент ушедших. Средний рейтинг 600 - 700 однако присутствует большой обьем клиентов с рейтингом 800 +. Возраст 30 - 40 лет. Баланс на счету 100000 - 150000 р. \n",
    "    \n",
    "* **Сегмент №2** (клиенты используют два продукта) - всего 4418 пользователей. Большинство клиентов находятся в Ярославле. Преимущественно это мужчины. Подавляющее число имеют кредитные карты. Практически равное распределение активных и неактивных пользователей(активных чуть больше). В  основном  это клиенты которые остались в банке. Среднгий ретйинг 600-700 , также присутствует хорошее количество клиентов с максимальным рейтингом. Возраст 30 - 45 лет. Баланс на счету 110000 - 135000 р.\n",
    "      \n",
    "* **Сегмент №3** (клиенты используют три продукта) - всего 250 пользователей. Большинство клиентов находятся в Ярославле и Ростове Великом. Преимущественно это женщины. Имеют кредитные карты. Практически равное распределение активных и неактивных пользователей(неактивных чуть больше). В основном  это клиенты которые ушли из банка. Средний рейтинг 550 - 750. Средний возраст 40-45 лет. Баланс на счету в среднем 110000 р.\n",
    "    \n",
    "* **Сегмент №4** (клиенты используют чертыре продукта) - Самый малочисленный сегмент - всего 58 пользователей. Большинство клиентов находятся в Ярославле. Преимущественно это женщины. Подавляющее число имеют кредитные карты. Практически равное распределение активных и неактивных пользователей. Практически все клиенты данного сегмента ушли из банка. Средний рейтинг 550-650. Возраст 40-50 лет. Большиснтво клиентов имеют баланс на счету 120000 - 140000 р. "
   ]
  },
  {
   "cell_type": "markdown",
   "metadata": {},
   "source": [
    "<div style=\"background: #B0E0E6; padding: 5px; border: 1px solid SteelBlue; border-radius: 5px;\">\n",
    "\n",
    "## Проверка гипотез "
   ]
  },
  {
   "cell_type": "markdown",
   "metadata": {},
   "source": [
    "<div style=\"background: #B0E0E6; padding: 5px; border: 1px solid SteelBlue; border-radius: 5px;\">\n",
    "\n",
    "**ГИПОТЕЗА №1** "
   ]
  },
  {
   "cell_type": "markdown",
   "metadata": {},
   "source": [
    "<div style=\"background: #B0E0E6; padding: 5px; border: 1px solid SteelBlue; border-radius: 5px;\">\n",
    "\n",
    "Проверим гипотезу о разнице возраста между теми клиентами, которые пользуются двумя продуктами банка, и теми, которые пользуются одним.\n",
    "    \n",
    "* Н-0: Средний возраст клиентов, использующих один продукт равен среднему возрасту клиентов, использующих два продукта\n",
    "\n",
    "* Н-1: Средний возраст клиентов, использующих один продукт не равен среднему возрасту клиентов, использующих два продукта"
   ]
  },
  {
   "cell_type": "code",
   "execution_count": 45,
   "metadata": {},
   "outputs": [],
   "source": [
    "age_one = df[(df['products']==1)]['age']\n",
    "age_two = df[(df['products']==2)]['age']"
   ]
  },
  {
   "cell_type": "code",
   "execution_count": 46,
   "metadata": {},
   "outputs": [
    {
     "data": {
      "image/png": "[encoded data removed]",
      "text/plain": [
       "<Figure size 432x288 with 1 Axes>"
      ]
     },
     "metadata": {
      "needs_background": "light"
     },
     "output_type": "display_data"
    }
   ],
   "source": [
    "age_one.hist(bins = 30, alpha=0.5)\n",
    "age_two.hist(bins = 30, alpha=0.5);"
   ]
  },
  {
   "cell_type": "code",
   "execution_count": 47,
   "metadata": {},
   "outputs": [
    {
     "name": "stdout",
     "output_type": "stream",
     "text": [
      "4.227205255871811e-25\n",
      "Отвергаем нулевую гипотезу\n"
     ]
    }
   ],
   "source": [
    "results = st.ttest_ind(age_one, age_two, equal_var=False)\n",
    "\n",
    "alpha = 0.05\n",
    "\n",
    "print(results.pvalue) \n",
    "if results.pvalue < alpha:\n",
    "    print(\"Отвергаем нулевую гипотезу\")\n",
    "else:\n",
    "    print(\"Не получилось отвергнуть нулевую гипотезу\")"
   ]
  },
  {
   "cell_type": "markdown",
   "metadata": {},
   "source": [
    "<div style=\"background: #B0E0E6; padding: 5px; border: 1px solid SteelBlue; border-radius: 5px;\"> \n",
    "    \n",
    "Результат теста  гипотезы №1 показывает что средний возраст клиентов, использующих один продукт не равен среднему возрасту клиентов, использующих два продукта."
   ]
  },
  {
   "cell_type": "markdown",
   "metadata": {},
   "source": [
    "<div style=\"background: #B0E0E6; padding: 5px; border: 1px solid SteelBlue; border-radius: 5px;\">\n",
    "\n",
    "**ГИПОТЕЗА №2** "
   ]
  },
  {
   "cell_type": "markdown",
   "metadata": {},
   "source": [
    "<div style=\"background: #B0E0E6; padding: 5px; border: 1px solid SteelBlue; border-radius: 5px;\">\n",
    "\n",
    "Проверим гипотезу о разнице доходов между теми клиентами, которые пользуются тремя продуктами банка, и теми, кто использует четыре продукта.\n",
    "    \n",
    "* Н-0: Средний доход клиентов, использующих три продукта равен среднему доходу клиентов, использующих четыре продукта\n",
    "\n",
    "* Н-1: Средний доход клиентов, использующих три продукта не равен среднему доходу клиентов, использующих четыре продукта"
   ]
  },
  {
   "cell_type": "code",
   "execution_count": 48,
   "metadata": {},
   "outputs": [],
   "source": [
    "salary_one = df[(df['products']==3)]['salary']\n",
    "salary_two = df[(df['products']==4)]['salary']"
   ]
  },
  {
   "cell_type": "code",
   "execution_count": 49,
   "metadata": {},
   "outputs": [
    {
     "data": {
      "image/png": "[encoded data removed]",
      "text/plain": [
       "<Figure size 432x288 with 1 Axes>"
      ]
     },
     "metadata": {
      "needs_background": "light"
     },
     "output_type": "display_data"
    }
   ],
   "source": [
    "salary_one.hist(bins = 30, alpha=0.5)\n",
    "salary_two.hist(bins = 30, alpha=0.5);"
   ]
  },
  {
   "cell_type": "code",
   "execution_count": 50,
   "metadata": {},
   "outputs": [
    {
     "name": "stdout",
     "output_type": "stream",
     "text": [
      "0.8792795394917324\n",
      "Не получилось отвергнуть нулевую гипотезу\n"
     ]
    }
   ],
   "source": [
    "results = st.ttest_ind(salary_one, salary_two, equal_var=False)\n",
    "\n",
    "alpha = 0.05\n",
    "\n",
    "print(results.pvalue) \n",
    "if results.pvalue < alpha:\n",
    "    print(\"Отвергаем нулевую гипотезу\")\n",
    "else:\n",
    "    print(\"Не получилось отвергнуть нулевую гипотезу\")"
   ]
  },
  {
   "cell_type": "markdown",
   "metadata": {},
   "source": [
    "<div style=\"background: #B0E0E6; padding: 5px; border: 1px solid SteelBlue; border-radius: 5px;\">\n",
    "    \n",
    "Результат теста гипотезы №2 показал что средний доход клиентов, использующих три продукта равен среднему доходу клиентов, использующих четыре продукта"
   ]
  },
  {
   "cell_type": "markdown",
   "metadata": {},
   "source": [
    "<div style=\"background: #B0E0E6; padding: 5px; border: 1px solid SteelBlue; border-radius: 5px;\">\n",
    "\n",
    "## Общий вывод "
   ]
  },
  {
   "cell_type": "markdown",
   "metadata": {},
   "source": [
    "<div style=\"background: #B0E0E6; padding: 5px; border: 1px solid SteelBlue; border-radius: 5px;\"> \n",
    "\n",
    "В ходе исследования были  произведены следующие действия :\n",
    "    \n",
    "* **Изучение данных** \n",
    "\n",
    "* **Предобработка данных** - скорректированы названия столбцов , выявлены пропущены значения , выявлены и удалены выбросы , заменены типы данных. \n",
    "\n",
    "* **Исследовательский анализ данных** - просмотрена общая картина данных , произведена разбивка клиентов в разрезе разных признаков , составлена матрица корреляции. Также составлен портрет , ушедших клиентов в целом.\n",
    "    \n",
    "* **Сегментация пользователей** - произведена сегментация пользователей в разрезе количества продуктов использования.Выявлены особенности присущие для каждого сегмента. \n",
    " \n",
    "* **Проверка гипотез**  - составлены и проверены две гипотезы. Гипотеза №1 - о разнице среднего возраста между клиентами использующими один продукт и теми кто использует два продукта (нулевая гипотеза отвержена - разница присутствует). Гипотеза №2- о разнице среднего дохода между клиентами кто использует три  продукта и теми кто ипользует 4 продукта (нулевая гипотеза принята - разница отсутствует)\n",
    "    \n",
    "* **Написаны общий и промежуточные выводы**\n",
    "    \n",
    "Рекомендации для каждого из сегментов:\n",
    "    \n",
    "* **Сегмент №1** - предлагать дополнительные продукты банка так как в этот сегмент входит самая молодая и активная группа клиентов. Разработать дпоплнительные продукты для женщин. \n",
    "    \n",
    "* **Сегмент №2** - поддерживать активность и лояльность клиентов. Это один из самых усешных сегментов.\n",
    "    \n",
    "* **Сегмент №3** - провести дополнительное исследование и выяснить причину оттока. Разработать дополнительные продукты влияющие на удержвание клиента.\n",
    "   \n",
    "* **Сегмент №4** - таже как и с предадущим сегментом наблюдается большой отток. Выяснить причины и разработать продукты повышающие удержание. Также целесообразно разработать продукты для возрастных клиентов. \n",
    "    \n",
    "Ко всему вышеперечисленному рекомендуется провести рекламные компании , в таких городах как Рыбинск и Ростов-Великий , так как в\n",
    "этих регионах процент клиентов достаточно мал по сравнению с основной массой. \n",
    "\n"
   ]
  },
  {
   "cell_type": "code",
   "execution_count": null,
   "metadata": {},
   "outputs": [],
   "source": []
  }
 ],
 "metadata": {
  "ExecuteTimeLog": [
   {
    "duration": 58,
    "start_time": "2023-05-07T12:45:09.897Z"
   },
   {
    "duration": 436,
    "start_time": "2023-05-07T12:45:13.627Z"
   },
   {
    "duration": 81,
    "start_time": "2023-05-07T12:45:14.241Z"
   },
   {
    "duration": 1001,
    "start_time": "2023-05-07T12:45:39.972Z"
   },
   {
    "duration": 73,
    "start_time": "2023-05-07T12:45:44.901Z"
   },
   {
    "duration": 31,
    "start_time": "2023-05-07T12:45:47.363Z"
   },
   {
    "duration": 15,
    "start_time": "2023-05-07T12:47:41.002Z"
   },
   {
    "duration": 13,
    "start_time": "2023-05-07T12:47:48.405Z"
   },
   {
    "duration": 23,
    "start_time": "2023-05-07T12:47:54.755Z"
   },
   {
    "duration": 44,
    "start_time": "2023-05-07T12:48:29.024Z"
   },
   {
    "duration": 15,
    "start_time": "2023-05-07T12:48:59.741Z"
   },
   {
    "duration": 10,
    "start_time": "2023-05-07T12:49:41.358Z"
   },
   {
    "duration": 11,
    "start_time": "2023-05-07T12:49:46.233Z"
   },
   {
    "duration": 11,
    "start_time": "2023-05-07T12:49:51.873Z"
   },
   {
    "duration": 8,
    "start_time": "2023-05-07T12:55:01.624Z"
   },
   {
    "duration": 92,
    "start_time": "2023-05-07T12:57:17.543Z"
   },
   {
    "duration": 91,
    "start_time": "2023-05-07T13:02:04.801Z"
   },
   {
    "duration": 4,
    "start_time": "2023-05-07T13:03:04.887Z"
   },
   {
    "duration": 3,
    "start_time": "2023-05-07T13:03:17.960Z"
   },
   {
    "duration": 4,
    "start_time": "2023-05-07T13:03:20.243Z"
   },
   {
    "duration": 8,
    "start_time": "2023-05-07T13:04:11.292Z"
   },
   {
    "duration": 9,
    "start_time": "2023-05-07T13:04:53.550Z"
   },
   {
    "duration": 377,
    "start_time": "2023-05-07T13:05:01.967Z"
   },
   {
    "duration": 1338,
    "start_time": "2023-05-07T13:05:02.347Z"
   },
   {
    "duration": 27,
    "start_time": "2023-05-07T13:05:03.687Z"
   },
   {
    "duration": 13,
    "start_time": "2023-05-07T13:05:03.716Z"
   },
   {
    "duration": 50,
    "start_time": "2023-05-07T13:05:03.732Z"
   },
   {
    "duration": 11,
    "start_time": "2023-05-07T13:05:03.784Z"
   },
   {
    "duration": 23,
    "start_time": "2023-05-07T13:05:03.797Z"
   },
   {
    "duration": 17,
    "start_time": "2023-05-07T13:05:03.822Z"
   },
   {
    "duration": 7,
    "start_time": "2023-05-07T13:18:48.180Z"
   },
   {
    "duration": 1364,
    "start_time": "2023-05-07T13:24:41.608Z"
   },
   {
    "duration": 403,
    "start_time": "2023-05-07T13:24:50.539Z"
   },
   {
    "duration": 1475,
    "start_time": "2023-05-07T13:24:50.944Z"
   },
   {
    "duration": 39,
    "start_time": "2023-05-07T13:24:52.421Z"
   },
   {
    "duration": 29,
    "start_time": "2023-05-07T13:24:52.462Z"
   },
   {
    "duration": 117,
    "start_time": "2023-05-07T13:24:52.494Z"
   },
   {
    "duration": 13,
    "start_time": "2023-05-07T13:24:52.613Z"
   },
   {
    "duration": 30,
    "start_time": "2023-05-07T13:24:52.628Z"
   },
   {
    "duration": 34,
    "start_time": "2023-05-07T13:24:52.660Z"
   },
   {
    "duration": 40,
    "start_time": "2023-05-07T13:24:52.695Z"
   },
   {
    "duration": 1265,
    "start_time": "2023-05-07T13:24:52.736Z"
   },
   {
    "duration": 6,
    "start_time": "2023-05-07T13:25:05.020Z"
   },
   {
    "duration": 5,
    "start_time": "2023-05-07T13:25:09.450Z"
   },
   {
    "duration": 14,
    "start_time": "2023-05-07T13:25:27.829Z"
   },
   {
    "duration": 25,
    "start_time": "2023-05-07T13:25:53.229Z"
   },
   {
    "duration": 451,
    "start_time": "2023-05-07T13:26:07.286Z"
   },
   {
    "duration": 957,
    "start_time": "2023-05-07T13:26:07.739Z"
   },
   {
    "duration": 27,
    "start_time": "2023-05-07T13:26:08.697Z"
   },
   {
    "duration": 16,
    "start_time": "2023-05-07T13:26:08.727Z"
   },
   {
    "duration": 40,
    "start_time": "2023-05-07T13:26:08.745Z"
   },
   {
    "duration": 9,
    "start_time": "2023-05-07T13:26:08.787Z"
   },
   {
    "duration": 8,
    "start_time": "2023-05-07T13:26:08.817Z"
   },
   {
    "duration": 16,
    "start_time": "2023-05-07T13:26:08.827Z"
   },
   {
    "duration": 17,
    "start_time": "2023-05-07T13:26:08.845Z"
   },
   {
    "duration": 21,
    "start_time": "2023-05-07T13:26:08.865Z"
   },
   {
    "duration": 21,
    "start_time": "2023-05-07T13:26:08.888Z"
   },
   {
    "duration": 26,
    "start_time": "2023-05-07T13:26:08.911Z"
   },
   {
    "duration": 65,
    "start_time": "2023-05-07T13:33:35.075Z"
   },
   {
    "duration": 8,
    "start_time": "2023-05-07T13:33:48.455Z"
   },
   {
    "duration": 1065,
    "start_time": "2023-05-07T13:34:48.194Z"
   },
   {
    "duration": 1274,
    "start_time": "2023-05-07T13:34:55.911Z"
   },
   {
    "duration": 1263,
    "start_time": "2023-05-07T13:34:57.188Z"
   },
   {
    "duration": 25,
    "start_time": "2023-05-07T13:34:58.452Z"
   },
   {
    "duration": 14,
    "start_time": "2023-05-07T13:34:58.479Z"
   },
   {
    "duration": 49,
    "start_time": "2023-05-07T13:34:58.496Z"
   },
   {
    "duration": 11,
    "start_time": "2023-05-07T13:34:58.547Z"
   },
   {
    "duration": 17,
    "start_time": "2023-05-07T13:34:58.560Z"
   },
   {
    "duration": 24,
    "start_time": "2023-05-07T13:34:58.579Z"
   },
   {
    "duration": 20,
    "start_time": "2023-05-07T13:34:58.617Z"
   },
   {
    "duration": 22,
    "start_time": "2023-05-07T13:34:58.639Z"
   },
   {
    "duration": 108,
    "start_time": "2023-05-07T13:34:58.662Z"
   },
   {
    "duration": 0,
    "start_time": "2023-05-07T13:34:58.771Z"
   },
   {
    "duration": 300,
    "start_time": "2023-05-07T13:35:11.063Z"
   },
   {
    "duration": 302,
    "start_time": "2023-05-07T13:35:52.003Z"
   },
   {
    "duration": 32,
    "start_time": "2023-05-07T13:37:52.474Z"
   },
   {
    "duration": 4,
    "start_time": "2023-05-07T13:40:30.547Z"
   },
   {
    "duration": 4,
    "start_time": "2023-05-07T13:40:34.964Z"
   },
   {
    "duration": 400,
    "start_time": "2023-05-07T13:40:35.463Z"
   },
   {
    "duration": 13,
    "start_time": "2023-05-07T13:40:48.034Z"
   },
   {
    "duration": 23,
    "start_time": "2023-05-07T13:41:27.578Z"
   },
   {
    "duration": 15,
    "start_time": "2023-05-07T13:41:36.978Z"
   },
   {
    "duration": 102,
    "start_time": "2023-05-07T13:41:54.585Z"
   },
   {
    "duration": 7,
    "start_time": "2023-05-07T13:42:16.637Z"
   },
   {
    "duration": 8,
    "start_time": "2023-05-07T13:42:23.359Z"
   },
   {
    "duration": 1358,
    "start_time": "2023-05-07T13:42:31.337Z"
   },
   {
    "duration": 996,
    "start_time": "2023-05-07T13:42:32.697Z"
   },
   {
    "duration": 26,
    "start_time": "2023-05-07T13:42:33.695Z"
   },
   {
    "duration": 12,
    "start_time": "2023-05-07T13:42:33.723Z"
   },
   {
    "duration": 47,
    "start_time": "2023-05-07T13:42:33.737Z"
   },
   {
    "duration": 10,
    "start_time": "2023-05-07T13:42:33.786Z"
   },
   {
    "duration": 26,
    "start_time": "2023-05-07T13:42:33.799Z"
   },
   {
    "duration": 23,
    "start_time": "2023-05-07T13:42:33.827Z"
   },
   {
    "duration": 15,
    "start_time": "2023-05-07T13:42:33.851Z"
   },
   {
    "duration": 19,
    "start_time": "2023-05-07T13:42:33.869Z"
   },
   {
    "duration": 17,
    "start_time": "2023-05-07T13:42:33.890Z"
   },
   {
    "duration": 4,
    "start_time": "2023-05-07T13:43:12.950Z"
   },
   {
    "duration": 23,
    "start_time": "2023-05-07T13:43:20.248Z"
   },
   {
    "duration": 3,
    "start_time": "2023-05-07T13:43:43.283Z"
   },
   {
    "duration": 6,
    "start_time": "2023-05-07T13:43:44.349Z"
   },
   {
    "duration": 110,
    "start_time": "2023-05-07T13:45:11.251Z"
   },
   {
    "duration": 11,
    "start_time": "2023-05-07T13:45:39.655Z"
   },
   {
    "duration": 11,
    "start_time": "2023-05-07T13:55:04.909Z"
   },
   {
    "duration": 12,
    "start_time": "2023-05-07T13:56:32.520Z"
   },
   {
    "duration": 9,
    "start_time": "2023-05-07T13:57:00.268Z"
   },
   {
    "duration": 7,
    "start_time": "2023-05-07T13:57:13.010Z"
   },
   {
    "duration": 10,
    "start_time": "2023-05-07T13:57:13.996Z"
   },
   {
    "duration": 7,
    "start_time": "2023-05-07T13:57:32.443Z"
   },
   {
    "duration": 8,
    "start_time": "2023-05-07T13:57:45.863Z"
   },
   {
    "duration": 7,
    "start_time": "2023-05-07T13:57:54.849Z"
   },
   {
    "duration": 9,
    "start_time": "2023-05-07T13:57:58.135Z"
   },
   {
    "duration": 8,
    "start_time": "2023-05-07T13:58:07.720Z"
   },
   {
    "duration": 6,
    "start_time": "2023-05-07T13:58:22.112Z"
   },
   {
    "duration": 3,
    "start_time": "2023-05-07T13:58:38.502Z"
   },
   {
    "duration": 5,
    "start_time": "2023-05-07T13:58:42.078Z"
   },
   {
    "duration": 7,
    "start_time": "2023-05-07T13:58:57.348Z"
   },
   {
    "duration": 11,
    "start_time": "2023-05-07T13:59:10.142Z"
   },
   {
    "duration": 15,
    "start_time": "2023-05-07T14:03:55.330Z"
   },
   {
    "duration": 17,
    "start_time": "2023-05-07T14:03:59.570Z"
   },
   {
    "duration": 10,
    "start_time": "2023-05-07T14:04:10.677Z"
   },
   {
    "duration": 10,
    "start_time": "2023-05-07T14:04:22.563Z"
   },
   {
    "duration": 11,
    "start_time": "2023-05-07T14:04:46.185Z"
   },
   {
    "duration": 8,
    "start_time": "2023-05-07T14:04:47.107Z"
   },
   {
    "duration": 128,
    "start_time": "2023-05-07T14:08:03.632Z"
   },
   {
    "duration": 2608,
    "start_time": "2023-05-07T14:08:14.119Z"
   },
   {
    "duration": 269,
    "start_time": "2023-05-07T14:09:09.974Z"
   },
   {
    "duration": 265,
    "start_time": "2023-05-07T14:29:46.408Z"
   },
   {
    "duration": 166,
    "start_time": "2023-05-07T14:32:40.398Z"
   },
   {
    "duration": 241,
    "start_time": "2023-05-07T14:32:45.784Z"
   },
   {
    "duration": 6,
    "start_time": "2023-05-07T14:33:11.755Z"
   },
   {
    "duration": 10,
    "start_time": "2023-05-07T14:33:45.973Z"
   },
   {
    "duration": 10,
    "start_time": "2023-05-07T14:33:52.285Z"
   },
   {
    "duration": 10,
    "start_time": "2023-05-07T14:34:31.770Z"
   },
   {
    "duration": 21,
    "start_time": "2023-05-07T14:34:36.510Z"
   },
   {
    "duration": 29,
    "start_time": "2023-05-07T14:35:16.019Z"
   },
   {
    "duration": 818,
    "start_time": "2023-05-07T14:37:51.077Z"
   },
   {
    "duration": 1014,
    "start_time": "2023-05-07T14:38:06.197Z"
   },
   {
    "duration": 1325,
    "start_time": "2023-05-07T14:46:17.903Z"
   },
   {
    "duration": 1444,
    "start_time": "2023-05-07T14:46:30.174Z"
   },
   {
    "duration": 15,
    "start_time": "2023-05-07T14:46:37.667Z"
   },
   {
    "duration": 74,
    "start_time": "2023-05-07T14:52:58.858Z"
   },
   {
    "duration": 13,
    "start_time": "2023-05-07T14:54:48.879Z"
   },
   {
    "duration": 313,
    "start_time": "2023-05-07T14:54:52.612Z"
   },
   {
    "duration": 12,
    "start_time": "2023-05-07T14:55:34.111Z"
   },
   {
    "duration": 348,
    "start_time": "2023-05-07T14:55:52.290Z"
   },
   {
    "duration": 8,
    "start_time": "2023-05-07T14:56:08.400Z"
   },
   {
    "duration": 9,
    "start_time": "2023-05-07T14:56:22.807Z"
   },
   {
    "duration": 11,
    "start_time": "2023-05-07T14:56:39.933Z"
   },
   {
    "duration": 12,
    "start_time": "2023-05-07T14:57:39.149Z"
   },
   {
    "duration": 16,
    "start_time": "2023-05-07T14:57:53.100Z"
   },
   {
    "duration": 206,
    "start_time": "2023-05-07T14:57:57.753Z"
   },
   {
    "duration": 86,
    "start_time": "2023-05-07T14:58:12.802Z"
   },
   {
    "duration": 98,
    "start_time": "2023-05-07T14:58:17.790Z"
   },
   {
    "duration": 337,
    "start_time": "2023-05-07T14:58:35.114Z"
   },
   {
    "duration": 70,
    "start_time": "2023-05-07T14:58:51.339Z"
   },
   {
    "duration": 84,
    "start_time": "2023-05-07T14:58:56.636Z"
   },
   {
    "duration": 99,
    "start_time": "2023-05-07T14:59:04.896Z"
   },
   {
    "duration": 86,
    "start_time": "2023-05-07T14:59:34.142Z"
   },
   {
    "duration": 102,
    "start_time": "2023-05-07T14:59:39.195Z"
   },
   {
    "duration": 82,
    "start_time": "2023-05-07T15:04:28.366Z"
   },
   {
    "duration": 18,
    "start_time": "2023-05-07T15:04:39.876Z"
   },
   {
    "duration": 103,
    "start_time": "2023-05-07T15:04:44.664Z"
   },
   {
    "duration": 103,
    "start_time": "2023-05-07T15:05:11.319Z"
   },
   {
    "duration": 93,
    "start_time": "2023-05-07T15:05:23.307Z"
   },
   {
    "duration": 147,
    "start_time": "2023-05-07T15:07:58.481Z"
   },
   {
    "duration": 256,
    "start_time": "2023-05-07T15:08:10.071Z"
   },
   {
    "duration": 9,
    "start_time": "2023-05-07T15:08:46.335Z"
   },
   {
    "duration": 11,
    "start_time": "2023-05-07T15:09:03.758Z"
   },
   {
    "duration": 6,
    "start_time": "2023-05-07T15:09:33.819Z"
   },
   {
    "duration": 11,
    "start_time": "2023-05-07T15:10:34.405Z"
   },
   {
    "duration": 11,
    "start_time": "2023-05-07T15:10:39.403Z"
   },
   {
    "duration": 3,
    "start_time": "2023-05-07T15:13:31.296Z"
   },
   {
    "duration": 6,
    "start_time": "2023-05-07T15:13:39.273Z"
   },
   {
    "duration": 11,
    "start_time": "2023-05-07T15:13:48.530Z"
   },
   {
    "duration": 246,
    "start_time": "2023-05-07T15:13:56.894Z"
   },
   {
    "duration": 20,
    "start_time": "2023-05-07T15:16:07.725Z"
   },
   {
    "duration": 5,
    "start_time": "2023-05-07T15:16:39.476Z"
   },
   {
    "duration": 173,
    "start_time": "2023-05-07T15:16:59.552Z"
   },
   {
    "duration": 259,
    "start_time": "2023-05-07T15:17:07.982Z"
   },
   {
    "duration": 72,
    "start_time": "2023-05-07T15:18:45.213Z"
   },
   {
    "duration": 68,
    "start_time": "2023-05-07T15:19:09.109Z"
   },
   {
    "duration": 72,
    "start_time": "2023-05-07T15:19:35.473Z"
   },
   {
    "duration": 76,
    "start_time": "2023-05-07T15:20:20.072Z"
   },
   {
    "duration": 98,
    "start_time": "2023-05-07T15:20:30.016Z"
   },
   {
    "duration": 72,
    "start_time": "2023-05-07T15:20:35.595Z"
   },
   {
    "duration": 12,
    "start_time": "2023-05-07T15:20:49.799Z"
   },
   {
    "duration": 13,
    "start_time": "2023-05-07T15:20:57.087Z"
   },
   {
    "duration": 10,
    "start_time": "2023-05-07T15:21:04.697Z"
   },
   {
    "duration": 65,
    "start_time": "2023-05-07T15:21:12.191Z"
   },
   {
    "duration": 105,
    "start_time": "2023-05-07T15:21:25.240Z"
   },
   {
    "duration": 17,
    "start_time": "2023-05-07T15:21:40.608Z"
   },
   {
    "duration": 11,
    "start_time": "2023-05-07T15:21:48.967Z"
   },
   {
    "duration": 15,
    "start_time": "2023-05-07T15:22:04.659Z"
   },
   {
    "duration": 3,
    "start_time": "2023-05-07T15:24:31.988Z"
   },
   {
    "duration": 1701,
    "start_time": "2023-05-07T15:24:32.609Z"
   },
   {
    "duration": 30,
    "start_time": "2023-05-07T15:24:34.312Z"
   },
   {
    "duration": 1363,
    "start_time": "2023-05-07T15:24:38.048Z"
   },
   {
    "duration": 1062,
    "start_time": "2023-05-07T15:24:39.413Z"
   },
   {
    "duration": 25,
    "start_time": "2023-05-07T15:24:40.477Z"
   },
   {
    "duration": 13,
    "start_time": "2023-05-07T15:24:40.503Z"
   },
   {
    "duration": 52,
    "start_time": "2023-05-07T15:24:40.520Z"
   },
   {
    "duration": 9,
    "start_time": "2023-05-07T15:24:40.574Z"
   },
   {
    "duration": 6,
    "start_time": "2023-05-07T15:24:40.585Z"
   },
   {
    "duration": 16,
    "start_time": "2023-05-07T15:24:40.593Z"
   },
   {
    "duration": 20,
    "start_time": "2023-05-07T15:24:40.617Z"
   },
   {
    "duration": 19,
    "start_time": "2023-05-07T15:24:40.639Z"
   },
   {
    "duration": 10,
    "start_time": "2023-05-07T15:24:40.660Z"
   },
   {
    "duration": 10,
    "start_time": "2023-05-07T15:24:40.672Z"
   },
   {
    "duration": 45,
    "start_time": "2023-05-07T15:24:40.684Z"
   },
   {
    "duration": 864,
    "start_time": "2023-05-07T15:24:40.733Z"
   },
   {
    "duration": 31,
    "start_time": "2023-05-07T15:24:41.599Z"
   },
   {
    "duration": 19,
    "start_time": "2023-05-07T15:24:41.634Z"
   },
   {
    "duration": 294,
    "start_time": "2023-05-07T15:24:41.655Z"
   },
   {
    "duration": 3,
    "start_time": "2023-05-07T15:25:16.152Z"
   },
   {
    "duration": 1286,
    "start_time": "2023-05-07T15:25:24.481Z"
   },
   {
    "duration": 3,
    "start_time": "2023-05-07T15:25:25.770Z"
   },
   {
    "duration": 1121,
    "start_time": "2023-05-07T15:25:25.774Z"
   },
   {
    "duration": 26,
    "start_time": "2023-05-07T15:25:26.897Z"
   },
   {
    "duration": 13,
    "start_time": "2023-05-07T15:25:26.924Z"
   },
   {
    "duration": 40,
    "start_time": "2023-05-07T15:25:26.939Z"
   },
   {
    "duration": 37,
    "start_time": "2023-05-07T15:25:26.981Z"
   },
   {
    "duration": 10,
    "start_time": "2023-05-07T15:25:27.020Z"
   },
   {
    "duration": 13,
    "start_time": "2023-05-07T15:25:27.032Z"
   },
   {
    "duration": 18,
    "start_time": "2023-05-07T15:25:27.048Z"
   },
   {
    "duration": 24,
    "start_time": "2023-05-07T15:25:27.068Z"
   },
   {
    "duration": 11,
    "start_time": "2023-05-07T15:25:27.094Z"
   },
   {
    "duration": 11,
    "start_time": "2023-05-07T15:25:27.107Z"
   },
   {
    "duration": 33,
    "start_time": "2023-05-07T15:25:27.120Z"
   },
   {
    "duration": 783,
    "start_time": "2023-05-07T15:25:27.155Z"
   },
   {
    "duration": 15,
    "start_time": "2023-05-07T15:25:27.940Z"
   },
   {
    "duration": 4,
    "start_time": "2023-05-07T15:25:27.957Z"
   },
   {
    "duration": 319,
    "start_time": "2023-05-07T15:25:27.963Z"
   },
   {
    "duration": 4,
    "start_time": "2023-05-07T15:26:14.686Z"
   },
   {
    "duration": 116,
    "start_time": "2023-05-07T15:33:04.086Z"
   },
   {
    "duration": 5,
    "start_time": "2023-05-07T15:33:14.176Z"
   },
   {
    "duration": 5,
    "start_time": "2023-05-07T15:38:14.566Z"
   },
   {
    "duration": 13,
    "start_time": "2023-05-07T15:38:40.315Z"
   },
   {
    "duration": 9,
    "start_time": "2023-05-07T15:39:19.324Z"
   },
   {
    "duration": 1295,
    "start_time": "2023-05-07T15:39:34.171Z"
   },
   {
    "duration": 957,
    "start_time": "2023-05-07T15:39:35.469Z"
   },
   {
    "duration": 26,
    "start_time": "2023-05-07T15:39:36.428Z"
   },
   {
    "duration": 13,
    "start_time": "2023-05-07T15:39:36.458Z"
   },
   {
    "duration": 63,
    "start_time": "2023-05-07T15:39:36.474Z"
   },
   {
    "duration": 10,
    "start_time": "2023-05-07T15:39:36.539Z"
   },
   {
    "duration": 14,
    "start_time": "2023-05-07T15:39:36.551Z"
   },
   {
    "duration": 19,
    "start_time": "2023-05-07T15:39:36.567Z"
   },
   {
    "duration": 30,
    "start_time": "2023-05-07T15:39:36.588Z"
   },
   {
    "duration": 6,
    "start_time": "2023-05-07T15:39:36.620Z"
   },
   {
    "duration": 27,
    "start_time": "2023-05-07T15:39:36.627Z"
   },
   {
    "duration": 32,
    "start_time": "2023-05-07T15:39:36.656Z"
   },
   {
    "duration": 18,
    "start_time": "2023-05-07T15:39:36.690Z"
   },
   {
    "duration": 28,
    "start_time": "2023-05-07T15:39:36.711Z"
   },
   {
    "duration": 32,
    "start_time": "2023-05-07T15:39:36.741Z"
   },
   {
    "duration": 816,
    "start_time": "2023-05-07T15:39:36.775Z"
   },
   {
    "duration": 27,
    "start_time": "2023-05-07T15:39:37.593Z"
   },
   {
    "duration": 118,
    "start_time": "2023-05-07T15:40:07.291Z"
   },
   {
    "duration": 3,
    "start_time": "2023-05-07T15:40:11.462Z"
   },
   {
    "duration": 5,
    "start_time": "2023-05-07T15:40:12.256Z"
   },
   {
    "duration": 11,
    "start_time": "2023-05-07T15:40:12.881Z"
   },
   {
    "duration": 6,
    "start_time": "2023-05-07T15:40:24.631Z"
   },
   {
    "duration": 6,
    "start_time": "2023-05-07T15:40:26.006Z"
   },
   {
    "duration": 10,
    "start_time": "2023-05-07T15:40:27.405Z"
   },
   {
    "duration": 7,
    "start_time": "2023-05-07T15:40:30.764Z"
   },
   {
    "duration": 9,
    "start_time": "2023-05-07T15:40:55.966Z"
   },
   {
    "duration": 15,
    "start_time": "2023-05-07T15:40:57.064Z"
   },
   {
    "duration": 7,
    "start_time": "2023-05-07T15:42:40.374Z"
   },
   {
    "duration": 7,
    "start_time": "2023-05-07T15:42:41.205Z"
   },
   {
    "duration": 15,
    "start_time": "2023-05-07T15:45:28.129Z"
   },
   {
    "duration": 6,
    "start_time": "2023-05-07T15:45:54.165Z"
   },
   {
    "duration": 6,
    "start_time": "2023-05-07T15:46:05.518Z"
   },
   {
    "duration": 9,
    "start_time": "2023-05-07T15:46:07.141Z"
   },
   {
    "duration": 12,
    "start_time": "2023-05-07T15:46:07.740Z"
   },
   {
    "duration": 12,
    "start_time": "2023-05-07T15:46:41.363Z"
   },
   {
    "duration": 8,
    "start_time": "2023-05-07T15:46:42.162Z"
   },
   {
    "duration": 12,
    "start_time": "2023-05-07T15:46:42.662Z"
   },
   {
    "duration": 1177,
    "start_time": "2023-05-07T15:47:09.331Z"
   },
   {
    "duration": 8,
    "start_time": "2023-05-07T15:47:10.627Z"
   },
   {
    "duration": 12,
    "start_time": "2023-05-07T15:47:11.399Z"
   },
   {
    "duration": 9,
    "start_time": "2023-05-07T15:47:24.200Z"
   },
   {
    "duration": 8,
    "start_time": "2023-05-07T15:47:24.740Z"
   },
   {
    "duration": 13,
    "start_time": "2023-05-07T15:47:24.965Z"
   },
   {
    "duration": 7,
    "start_time": "2023-05-07T15:49:25.935Z"
   },
   {
    "duration": 9,
    "start_time": "2023-05-07T15:49:26.306Z"
   },
   {
    "duration": 8,
    "start_time": "2023-05-07T15:49:30.363Z"
   },
   {
    "duration": 13,
    "start_time": "2023-05-07T15:49:30.923Z"
   },
   {
    "duration": 13,
    "start_time": "2023-05-07T15:49:31.352Z"
   },
   {
    "duration": 8,
    "start_time": "2023-05-07T15:49:31.708Z"
   },
   {
    "duration": 8,
    "start_time": "2023-05-07T15:49:32.210Z"
   },
   {
    "duration": 28,
    "start_time": "2023-05-07T15:49:32.548Z"
   },
   {
    "duration": 745,
    "start_time": "2023-05-07T15:49:33.535Z"
   },
   {
    "duration": 13,
    "start_time": "2023-05-07T15:49:34.282Z"
   },
   {
    "duration": 1367,
    "start_time": "2023-05-07T15:50:38.213Z"
   },
   {
    "duration": 1117,
    "start_time": "2023-05-07T15:50:39.583Z"
   },
   {
    "duration": 27,
    "start_time": "2023-05-07T15:50:40.702Z"
   },
   {
    "duration": 19,
    "start_time": "2023-05-07T15:50:40.731Z"
   },
   {
    "duration": 41,
    "start_time": "2023-05-07T15:50:40.752Z"
   },
   {
    "duration": 23,
    "start_time": "2023-05-07T15:50:40.795Z"
   },
   {
    "duration": 8,
    "start_time": "2023-05-07T15:50:40.820Z"
   },
   {
    "duration": 20,
    "start_time": "2023-05-07T15:50:40.830Z"
   },
   {
    "duration": 20,
    "start_time": "2023-05-07T15:50:40.852Z"
   },
   {
    "duration": 122,
    "start_time": "2023-05-07T15:50:40.874Z"
   },
   {
    "duration": 0,
    "start_time": "2023-05-07T15:50:40.999Z"
   },
   {
    "duration": 0,
    "start_time": "2023-05-07T15:50:41.000Z"
   },
   {
    "duration": 0,
    "start_time": "2023-05-07T15:50:41.001Z"
   },
   {
    "duration": 0,
    "start_time": "2023-05-07T15:50:41.017Z"
   },
   {
    "duration": 0,
    "start_time": "2023-05-07T15:50:41.019Z"
   },
   {
    "duration": 0,
    "start_time": "2023-05-07T15:50:41.020Z"
   },
   {
    "duration": 0,
    "start_time": "2023-05-07T15:50:41.021Z"
   },
   {
    "duration": 0,
    "start_time": "2023-05-07T15:50:41.023Z"
   },
   {
    "duration": 1235,
    "start_time": "2023-05-07T15:51:45.150Z"
   },
   {
    "duration": 922,
    "start_time": "2023-05-07T15:51:46.387Z"
   },
   {
    "duration": 26,
    "start_time": "2023-05-07T15:51:47.311Z"
   },
   {
    "duration": 13,
    "start_time": "2023-05-07T15:51:47.340Z"
   },
   {
    "duration": 68,
    "start_time": "2023-05-07T15:51:47.356Z"
   },
   {
    "duration": 10,
    "start_time": "2023-05-07T15:51:47.426Z"
   },
   {
    "duration": 32,
    "start_time": "2023-05-07T15:51:47.438Z"
   },
   {
    "duration": 41,
    "start_time": "2023-05-07T15:51:47.472Z"
   },
   {
    "duration": 12,
    "start_time": "2023-05-07T15:51:47.515Z"
   },
   {
    "duration": 127,
    "start_time": "2023-05-07T15:51:47.528Z"
   },
   {
    "duration": 0,
    "start_time": "2023-05-07T15:51:47.657Z"
   },
   {
    "duration": 0,
    "start_time": "2023-05-07T15:51:47.658Z"
   },
   {
    "duration": 0,
    "start_time": "2023-05-07T15:51:47.659Z"
   },
   {
    "duration": 0,
    "start_time": "2023-05-07T15:51:47.660Z"
   },
   {
    "duration": 0,
    "start_time": "2023-05-07T15:51:47.661Z"
   },
   {
    "duration": 0,
    "start_time": "2023-05-07T15:51:47.662Z"
   },
   {
    "duration": 0,
    "start_time": "2023-05-07T15:51:47.663Z"
   },
   {
    "duration": 0,
    "start_time": "2023-05-07T15:51:47.665Z"
   },
   {
    "duration": 4,
    "start_time": "2023-05-07T15:52:14.325Z"
   },
   {
    "duration": 17,
    "start_time": "2023-05-07T15:52:17.071Z"
   },
   {
    "duration": 14,
    "start_time": "2023-05-07T15:53:41.842Z"
   },
   {
    "duration": 17,
    "start_time": "2023-05-07T15:53:43.011Z"
   },
   {
    "duration": 11,
    "start_time": "2023-05-07T15:54:33.651Z"
   },
   {
    "duration": 18,
    "start_time": "2023-05-07T15:57:49.165Z"
   },
   {
    "duration": 5,
    "start_time": "2023-05-07T15:57:56.165Z"
   },
   {
    "duration": 18,
    "start_time": "2023-05-07T15:57:57.601Z"
   },
   {
    "duration": 6,
    "start_time": "2023-05-07T15:58:14.766Z"
   },
   {
    "duration": 5,
    "start_time": "2023-05-07T15:58:18.576Z"
   },
   {
    "duration": 7,
    "start_time": "2023-05-07T15:58:19.039Z"
   },
   {
    "duration": 11,
    "start_time": "2023-05-07T15:58:19.452Z"
   },
   {
    "duration": 13,
    "start_time": "2023-05-07T15:58:25.121Z"
   },
   {
    "duration": 5,
    "start_time": "2023-05-07T15:58:47.424Z"
   },
   {
    "duration": 20,
    "start_time": "2023-05-07T15:58:48.539Z"
   },
   {
    "duration": 7,
    "start_time": "2023-05-07T15:59:18.737Z"
   },
   {
    "duration": 5,
    "start_time": "2023-05-07T15:59:26.226Z"
   },
   {
    "duration": 7,
    "start_time": "2023-05-07T15:59:53.522Z"
   },
   {
    "duration": 8,
    "start_time": "2023-05-07T16:02:10.917Z"
   },
   {
    "duration": 7,
    "start_time": "2023-05-07T16:02:13.930Z"
   },
   {
    "duration": 6,
    "start_time": "2023-05-07T16:02:17.462Z"
   },
   {
    "duration": 8,
    "start_time": "2023-05-07T16:02:18.034Z"
   },
   {
    "duration": 8,
    "start_time": "2023-05-07T16:02:31.297Z"
   },
   {
    "duration": 15,
    "start_time": "2023-05-07T16:02:31.869Z"
   },
   {
    "duration": 17,
    "start_time": "2023-05-07T16:02:32.831Z"
   },
   {
    "duration": 8,
    "start_time": "2023-05-07T16:02:33.341Z"
   },
   {
    "duration": 7,
    "start_time": "2023-05-07T16:02:34.458Z"
   },
   {
    "duration": 23,
    "start_time": "2023-05-07T16:02:35.070Z"
   },
   {
    "duration": 8,
    "start_time": "2023-05-07T16:02:43.955Z"
   },
   {
    "duration": 22,
    "start_time": "2023-05-07T16:02:44.808Z"
   },
   {
    "duration": 8,
    "start_time": "2023-05-07T16:03:00.850Z"
   },
   {
    "duration": 9,
    "start_time": "2023-05-07T16:03:01.571Z"
   },
   {
    "duration": 24,
    "start_time": "2023-05-07T16:03:02.157Z"
   },
   {
    "duration": 837,
    "start_time": "2023-05-07T16:03:02.483Z"
   },
   {
    "duration": 15,
    "start_time": "2023-05-07T16:03:03.322Z"
   },
   {
    "duration": 9,
    "start_time": "2023-05-07T16:03:21.131Z"
   },
   {
    "duration": 22,
    "start_time": "2023-05-07T16:03:21.572Z"
   },
   {
    "duration": 760,
    "start_time": "2023-05-07T16:03:32.795Z"
   },
   {
    "duration": 882,
    "start_time": "2023-05-07T16:03:43.609Z"
   },
   {
    "duration": 12,
    "start_time": "2023-05-07T16:04:26.500Z"
   },
   {
    "duration": 8,
    "start_time": "2023-05-07T16:04:38.038Z"
   },
   {
    "duration": 23,
    "start_time": "2023-05-07T16:04:38.687Z"
   },
   {
    "duration": 765,
    "start_time": "2023-05-07T16:04:39.496Z"
   },
   {
    "duration": 14,
    "start_time": "2023-05-07T16:04:40.263Z"
   },
   {
    "duration": 14,
    "start_time": "2023-05-07T16:04:43.999Z"
   },
   {
    "duration": 301,
    "start_time": "2023-05-07T16:06:49.967Z"
   },
   {
    "duration": 109,
    "start_time": "2023-05-07T16:07:20.399Z"
   },
   {
    "duration": 195,
    "start_time": "2023-05-07T16:07:30.412Z"
   },
   {
    "duration": 106,
    "start_time": "2023-05-07T16:07:53.224Z"
   },
   {
    "duration": 7,
    "start_time": "2023-05-07T16:08:25.690Z"
   },
   {
    "duration": 12,
    "start_time": "2023-05-07T16:08:25.930Z"
   },
   {
    "duration": 11,
    "start_time": "2023-05-07T16:08:48.330Z"
   },
   {
    "duration": 10,
    "start_time": "2023-05-07T16:08:55.773Z"
   },
   {
    "duration": 6,
    "start_time": "2023-05-07T16:09:21.952Z"
   },
   {
    "duration": 76,
    "start_time": "2023-05-07T16:09:28.141Z"
   },
   {
    "duration": 12,
    "start_time": "2023-05-07T16:09:31.756Z"
   },
   {
    "duration": 7,
    "start_time": "2023-05-07T16:09:52.182Z"
   },
   {
    "duration": 9,
    "start_time": "2023-05-07T16:11:36.874Z"
   },
   {
    "duration": 6,
    "start_time": "2023-05-07T16:14:51.778Z"
   },
   {
    "duration": 5,
    "start_time": "2023-05-07T16:14:56.087Z"
   },
   {
    "duration": 108,
    "start_time": "2023-05-07T16:15:25.779Z"
   },
   {
    "duration": 91,
    "start_time": "2023-05-07T16:22:20.018Z"
   },
   {
    "duration": 82,
    "start_time": "2023-05-07T16:22:47.816Z"
   },
   {
    "duration": 118,
    "start_time": "2023-05-07T16:26:12.437Z"
   },
   {
    "duration": 100,
    "start_time": "2023-05-07T16:26:37.835Z"
   },
   {
    "duration": 8,
    "start_time": "2023-05-07T16:27:20.614Z"
   },
   {
    "duration": 31,
    "start_time": "2023-05-07T16:41:11.259Z"
   },
   {
    "duration": 91,
    "start_time": "2023-05-07T16:41:18.550Z"
   },
   {
    "duration": 28,
    "start_time": "2023-05-07T16:42:09.602Z"
   },
   {
    "duration": 9,
    "start_time": "2023-05-07T16:45:18.783Z"
   },
   {
    "duration": 1117,
    "start_time": "2023-05-07T16:45:29.084Z"
   },
   {
    "duration": 8,
    "start_time": "2023-05-07T16:45:33.813Z"
   },
   {
    "duration": 10,
    "start_time": "2023-05-07T16:46:16.658Z"
   },
   {
    "duration": 10,
    "start_time": "2023-05-07T16:47:06.850Z"
   },
   {
    "duration": 32,
    "start_time": "2023-05-07T16:47:24.927Z"
   },
   {
    "duration": 7,
    "start_time": "2023-05-07T16:50:50.402Z"
   },
   {
    "duration": 20,
    "start_time": "2023-05-07T16:50:55.284Z"
   },
   {
    "duration": 32,
    "start_time": "2023-05-07T16:51:04.596Z"
   },
   {
    "duration": 7,
    "start_time": "2023-05-07T16:51:19.905Z"
   },
   {
    "duration": 30,
    "start_time": "2023-05-07T16:51:20.799Z"
   },
   {
    "duration": 6,
    "start_time": "2023-05-07T16:52:02.380Z"
   },
   {
    "duration": 12,
    "start_time": "2023-05-07T16:52:02.772Z"
   },
   {
    "duration": 12,
    "start_time": "2023-05-07T16:52:02.988Z"
   },
   {
    "duration": 11,
    "start_time": "2023-05-07T16:52:03.603Z"
   },
   {
    "duration": 15,
    "start_time": "2023-05-07T16:52:09.013Z"
   },
   {
    "duration": 1239,
    "start_time": "2023-05-07T16:52:14.942Z"
   },
   {
    "duration": 880,
    "start_time": "2023-05-07T16:52:16.183Z"
   },
   {
    "duration": 25,
    "start_time": "2023-05-07T16:52:17.065Z"
   },
   {
    "duration": 13,
    "start_time": "2023-05-07T16:52:17.091Z"
   },
   {
    "duration": 48,
    "start_time": "2023-05-07T16:52:17.106Z"
   },
   {
    "duration": 10,
    "start_time": "2023-05-07T16:52:17.156Z"
   },
   {
    "duration": 8,
    "start_time": "2023-05-07T16:52:17.168Z"
   },
   {
    "duration": 42,
    "start_time": "2023-05-07T16:52:17.177Z"
   },
   {
    "duration": 13,
    "start_time": "2023-05-07T16:52:17.221Z"
   },
   {
    "duration": 16,
    "start_time": "2023-05-07T16:52:17.236Z"
   },
   {
    "duration": 22,
    "start_time": "2023-05-07T16:52:17.253Z"
   },
   {
    "duration": 21,
    "start_time": "2023-05-07T16:52:17.276Z"
   },
   {
    "duration": 14,
    "start_time": "2023-05-07T16:52:17.298Z"
   },
   {
    "duration": 24,
    "start_time": "2023-05-07T16:52:17.315Z"
   },
   {
    "duration": 774,
    "start_time": "2023-05-07T16:52:17.341Z"
   },
   {
    "duration": 14,
    "start_time": "2023-05-07T16:52:18.117Z"
   },
   {
    "duration": 67,
    "start_time": "2023-05-07T16:53:10.323Z"
   },
   {
    "duration": 277,
    "start_time": "2023-05-07T16:58:23.788Z"
   },
   {
    "duration": 19,
    "start_time": "2023-05-07T16:58:25.328Z"
   },
   {
    "duration": 11,
    "start_time": "2023-05-07T16:58:28.243Z"
   },
   {
    "duration": 11,
    "start_time": "2023-05-07T16:58:36.569Z"
   },
   {
    "duration": 44,
    "start_time": "2023-05-07T16:58:37.454Z"
   },
   {
    "duration": 10,
    "start_time": "2023-05-07T16:58:37.804Z"
   },
   {
    "duration": 8,
    "start_time": "2023-05-07T16:58:38.094Z"
   },
   {
    "duration": 13,
    "start_time": "2023-05-07T16:58:40.441Z"
   },
   {
    "duration": 6,
    "start_time": "2023-05-07T16:58:40.921Z"
   },
   {
    "duration": 7,
    "start_time": "2023-05-07T16:58:41.230Z"
   },
   {
    "duration": 13,
    "start_time": "2023-05-07T16:58:41.818Z"
   },
   {
    "duration": 14,
    "start_time": "2023-05-07T16:58:42.096Z"
   },
   {
    "duration": 10,
    "start_time": "2023-05-07T16:58:42.427Z"
   },
   {
    "duration": 22,
    "start_time": "2023-05-07T16:58:42.666Z"
   },
   {
    "duration": 792,
    "start_time": "2023-05-07T16:58:42.896Z"
   },
   {
    "duration": 15,
    "start_time": "2023-05-07T16:58:43.700Z"
   },
   {
    "duration": 1847,
    "start_time": "2023-05-07T17:04:19.420Z"
   },
   {
    "duration": 0,
    "start_time": "2023-05-07T17:04:21.269Z"
   },
   {
    "duration": 1082,
    "start_time": "2023-05-07T17:05:53.468Z"
   },
   {
    "duration": 1828,
    "start_time": "2023-05-07T17:06:27.968Z"
   },
   {
    "duration": 1098,
    "start_time": "2023-05-07T17:06:34.600Z"
   },
   {
    "duration": 907,
    "start_time": "2023-05-07T17:07:38.221Z"
   },
   {
    "duration": 32,
    "start_time": "2023-05-07T17:07:39.132Z"
   },
   {
    "duration": 19,
    "start_time": "2023-05-07T17:07:39.166Z"
   },
   {
    "duration": 164,
    "start_time": "2023-05-07T17:07:47.118Z"
   },
   {
    "duration": 18,
    "start_time": "2023-05-07T17:07:48.019Z"
   },
   {
    "duration": 1348,
    "start_time": "2023-05-07T17:12:24.618Z"
   },
   {
    "duration": 1087,
    "start_time": "2023-05-07T17:12:25.969Z"
   },
   {
    "duration": 38,
    "start_time": "2023-05-07T17:12:27.058Z"
   },
   {
    "duration": 17,
    "start_time": "2023-05-07T17:12:27.098Z"
   },
   {
    "duration": 46,
    "start_time": "2023-05-07T17:12:27.117Z"
   },
   {
    "duration": 11,
    "start_time": "2023-05-07T17:12:27.165Z"
   },
   {
    "duration": 31,
    "start_time": "2023-05-07T17:12:27.177Z"
   },
   {
    "duration": 28,
    "start_time": "2023-05-07T17:12:27.209Z"
   },
   {
    "duration": 21,
    "start_time": "2023-05-07T17:12:27.239Z"
   },
   {
    "duration": 28,
    "start_time": "2023-05-07T17:12:27.262Z"
   },
   {
    "duration": 29,
    "start_time": "2023-05-07T17:12:27.292Z"
   },
   {
    "duration": 27,
    "start_time": "2023-05-07T17:12:27.323Z"
   },
   {
    "duration": 10,
    "start_time": "2023-05-07T17:12:27.352Z"
   },
   {
    "duration": 35,
    "start_time": "2023-05-07T17:12:27.365Z"
   },
   {
    "duration": 809,
    "start_time": "2023-05-07T17:12:27.402Z"
   },
   {
    "duration": 14,
    "start_time": "2023-05-07T17:12:28.217Z"
   },
   {
    "duration": 6,
    "start_time": "2023-05-07T17:15:09.634Z"
   },
   {
    "duration": 12,
    "start_time": "2023-05-07T17:15:10.243Z"
   },
   {
    "duration": 12,
    "start_time": "2023-05-07T17:15:10.902Z"
   },
   {
    "duration": 7,
    "start_time": "2023-05-07T17:15:11.351Z"
   },
   {
    "duration": 22,
    "start_time": "2023-05-07T17:15:12.859Z"
   },
   {
    "duration": 768,
    "start_time": "2023-05-07T17:15:13.338Z"
   },
   {
    "duration": 18,
    "start_time": "2023-05-07T17:15:14.108Z"
   },
   {
    "duration": 31,
    "start_time": "2023-05-07T17:16:26.364Z"
   },
   {
    "duration": 35,
    "start_time": "2023-05-07T17:23:19.969Z"
   },
   {
    "duration": 7,
    "start_time": "2023-05-07T17:24:51.628Z"
   },
   {
    "duration": 7,
    "start_time": "2023-05-07T17:24:55.879Z"
   },
   {
    "duration": 14,
    "start_time": "2023-05-07T17:24:57.784Z"
   },
   {
    "duration": 32,
    "start_time": "2023-05-07T17:24:58.482Z"
   },
   {
    "duration": 129,
    "start_time": "2023-05-07T17:25:03.056Z"
   },
   {
    "duration": 21,
    "start_time": "2023-05-07T17:25:10.418Z"
   },
   {
    "duration": 37,
    "start_time": "2023-05-07T17:25:30.622Z"
   },
   {
    "duration": 10,
    "start_time": "2023-05-07T17:25:38.319Z"
   },
   {
    "duration": 8,
    "start_time": "2023-05-07T17:25:38.740Z"
   },
   {
    "duration": 13,
    "start_time": "2023-05-07T17:25:41.225Z"
   },
   {
    "duration": 7,
    "start_time": "2023-05-07T17:25:41.868Z"
   },
   {
    "duration": 7,
    "start_time": "2023-05-07T17:25:42.328Z"
   },
   {
    "duration": 13,
    "start_time": "2023-05-07T17:25:42.645Z"
   },
   {
    "duration": 13,
    "start_time": "2023-05-07T17:25:43.322Z"
   },
   {
    "duration": 8,
    "start_time": "2023-05-07T17:25:43.770Z"
   },
   {
    "duration": 22,
    "start_time": "2023-05-07T17:25:44.332Z"
   },
   {
    "duration": 671,
    "start_time": "2023-05-07T17:25:44.706Z"
   },
   {
    "duration": 12,
    "start_time": "2023-05-07T17:25:45.380Z"
   },
   {
    "duration": 10,
    "start_time": "2023-05-07T17:26:09.847Z"
   },
   {
    "duration": 783,
    "start_time": "2023-05-07T17:26:10.839Z"
   },
   {
    "duration": 13,
    "start_time": "2023-05-07T17:26:11.648Z"
   },
   {
    "duration": 15,
    "start_time": "2023-05-07T17:26:21.572Z"
   },
   {
    "duration": 44,
    "start_time": "2023-05-08T00:08:03.919Z"
   },
   {
    "duration": 1641,
    "start_time": "2023-05-08T00:08:10.401Z"
   },
   {
    "duration": 148,
    "start_time": "2023-05-08T00:08:12.044Z"
   },
   {
    "duration": 0,
    "start_time": "2023-05-08T00:08:12.194Z"
   },
   {
    "duration": 0,
    "start_time": "2023-05-08T00:08:12.196Z"
   },
   {
    "duration": 0,
    "start_time": "2023-05-08T00:08:12.197Z"
   },
   {
    "duration": 0,
    "start_time": "2023-05-08T00:08:12.198Z"
   },
   {
    "duration": 0,
    "start_time": "2023-05-08T00:08:12.200Z"
   },
   {
    "duration": 0,
    "start_time": "2023-05-08T00:08:12.201Z"
   },
   {
    "duration": 0,
    "start_time": "2023-05-08T00:08:12.202Z"
   },
   {
    "duration": 0,
    "start_time": "2023-05-08T00:08:12.204Z"
   },
   {
    "duration": 0,
    "start_time": "2023-05-08T00:08:12.205Z"
   },
   {
    "duration": 0,
    "start_time": "2023-05-08T00:08:12.206Z"
   },
   {
    "duration": 0,
    "start_time": "2023-05-08T00:08:12.207Z"
   },
   {
    "duration": 0,
    "start_time": "2023-05-08T00:08:12.208Z"
   },
   {
    "duration": 0,
    "start_time": "2023-05-08T00:08:12.209Z"
   },
   {
    "duration": 0,
    "start_time": "2023-05-08T00:08:12.234Z"
   },
   {
    "duration": 9,
    "start_time": "2023-05-08T00:09:29.200Z"
   },
   {
    "duration": 46,
    "start_time": "2023-05-08T00:10:41.176Z"
   },
   {
    "duration": 55,
    "start_time": "2023-05-08T00:11:23.939Z"
   },
   {
    "duration": 52,
    "start_time": "2023-05-08T00:13:06.347Z"
   },
   {
    "duration": 1244,
    "start_time": "2023-05-08T00:13:15.156Z"
   },
   {
    "duration": 142,
    "start_time": "2023-05-08T00:13:16.402Z"
   },
   {
    "duration": 0,
    "start_time": "2023-05-08T00:13:16.545Z"
   },
   {
    "duration": 0,
    "start_time": "2023-05-08T00:13:16.547Z"
   },
   {
    "duration": 0,
    "start_time": "2023-05-08T00:13:16.548Z"
   },
   {
    "duration": 0,
    "start_time": "2023-05-08T00:13:16.549Z"
   },
   {
    "duration": 0,
    "start_time": "2023-05-08T00:13:16.550Z"
   },
   {
    "duration": 0,
    "start_time": "2023-05-08T00:13:16.551Z"
   },
   {
    "duration": 0,
    "start_time": "2023-05-08T00:13:16.552Z"
   },
   {
    "duration": 0,
    "start_time": "2023-05-08T00:13:16.553Z"
   },
   {
    "duration": 0,
    "start_time": "2023-05-08T00:13:16.554Z"
   },
   {
    "duration": 0,
    "start_time": "2023-05-08T00:13:16.555Z"
   },
   {
    "duration": 0,
    "start_time": "2023-05-08T00:13:16.556Z"
   },
   {
    "duration": 0,
    "start_time": "2023-05-08T00:13:16.557Z"
   },
   {
    "duration": 0,
    "start_time": "2023-05-08T00:13:16.557Z"
   },
   {
    "duration": 0,
    "start_time": "2023-05-08T00:13:16.558Z"
   },
   {
    "duration": 10,
    "start_time": "2023-05-08T00:19:50.964Z"
   },
   {
    "duration": 1203,
    "start_time": "2023-05-08T00:19:59.461Z"
   },
   {
    "duration": 288,
    "start_time": "2023-05-08T00:20:00.667Z"
   },
   {
    "duration": 111,
    "start_time": "2023-05-08T00:20:00.957Z"
   },
   {
    "duration": 0,
    "start_time": "2023-05-08T00:20:01.071Z"
   },
   {
    "duration": 0,
    "start_time": "2023-05-08T00:20:01.072Z"
   },
   {
    "duration": 0,
    "start_time": "2023-05-08T00:20:01.073Z"
   },
   {
    "duration": 0,
    "start_time": "2023-05-08T00:20:01.074Z"
   },
   {
    "duration": 0,
    "start_time": "2023-05-08T00:20:01.075Z"
   },
   {
    "duration": 0,
    "start_time": "2023-05-08T00:20:01.076Z"
   },
   {
    "duration": 0,
    "start_time": "2023-05-08T00:20:01.077Z"
   },
   {
    "duration": 0,
    "start_time": "2023-05-08T00:20:01.078Z"
   },
   {
    "duration": 0,
    "start_time": "2023-05-08T00:20:01.079Z"
   },
   {
    "duration": 0,
    "start_time": "2023-05-08T00:20:01.080Z"
   },
   {
    "duration": 0,
    "start_time": "2023-05-08T00:20:01.081Z"
   },
   {
    "duration": 0,
    "start_time": "2023-05-08T00:20:01.082Z"
   },
   {
    "duration": 0,
    "start_time": "2023-05-08T00:20:01.084Z"
   },
   {
    "duration": 98,
    "start_time": "2023-05-08T00:20:11.193Z"
   },
   {
    "duration": 19,
    "start_time": "2023-05-08T00:20:12.730Z"
   },
   {
    "duration": 1132,
    "start_time": "2023-05-08T00:20:26.297Z"
   },
   {
    "duration": 97,
    "start_time": "2023-05-08T00:20:27.431Z"
   },
   {
    "duration": 19,
    "start_time": "2023-05-08T00:20:27.529Z"
   },
   {
    "duration": 10,
    "start_time": "2023-05-08T00:20:27.549Z"
   },
   {
    "duration": 43,
    "start_time": "2023-05-08T00:20:27.561Z"
   },
   {
    "duration": 8,
    "start_time": "2023-05-08T00:20:27.605Z"
   },
   {
    "duration": 20,
    "start_time": "2023-05-08T00:20:27.615Z"
   },
   {
    "duration": 24,
    "start_time": "2023-05-08T00:20:27.636Z"
   },
   {
    "duration": 11,
    "start_time": "2023-05-08T00:20:27.661Z"
   },
   {
    "duration": 6,
    "start_time": "2023-05-08T00:20:27.673Z"
   },
   {
    "duration": 13,
    "start_time": "2023-05-08T00:20:27.681Z"
   },
   {
    "duration": 12,
    "start_time": "2023-05-08T00:20:27.696Z"
   },
   {
    "duration": 6,
    "start_time": "2023-05-08T00:20:27.710Z"
   },
   {
    "duration": 16,
    "start_time": "2023-05-08T00:20:27.718Z"
   },
   {
    "duration": 652,
    "start_time": "2023-05-08T00:20:27.736Z"
   },
   {
    "duration": 11,
    "start_time": "2023-05-08T00:20:28.390Z"
   },
   {
    "duration": 30,
    "start_time": "2023-05-08T00:21:00.329Z"
   },
   {
    "duration": 30,
    "start_time": "2023-05-08T00:21:05.155Z"
   },
   {
    "duration": 10,
    "start_time": "2023-05-08T00:21:07.951Z"
   },
   {
    "duration": 7,
    "start_time": "2023-05-08T00:21:08.556Z"
   },
   {
    "duration": 12,
    "start_time": "2023-05-08T00:21:17.487Z"
   },
   {
    "duration": 5,
    "start_time": "2023-05-08T00:21:21.165Z"
   },
   {
    "duration": 4,
    "start_time": "2023-05-08T00:21:55.944Z"
   },
   {
    "duration": 12,
    "start_time": "2023-05-08T00:21:56.430Z"
   },
   {
    "duration": 12,
    "start_time": "2023-05-08T00:22:39.046Z"
   },
   {
    "duration": 4,
    "start_time": "2023-05-08T00:22:43.162Z"
   },
   {
    "duration": 12,
    "start_time": "2023-05-08T00:22:43.745Z"
   },
   {
    "duration": 15,
    "start_time": "2023-05-08T00:22:49.545Z"
   },
   {
    "duration": 9,
    "start_time": "2023-05-08T00:22:50.295Z"
   },
   {
    "duration": 8,
    "start_time": "2023-05-08T00:22:54.089Z"
   },
   {
    "duration": 672,
    "start_time": "2023-05-08T00:23:00.053Z"
   },
   {
    "duration": 16,
    "start_time": "2023-05-08T00:34:25.361Z"
   },
   {
    "duration": 13,
    "start_time": "2023-05-08T00:34:38.647Z"
   },
   {
    "duration": 12,
    "start_time": "2023-05-08T00:34:47.055Z"
   },
   {
    "duration": 3,
    "start_time": "2023-05-08T00:37:33.735Z"
   },
   {
    "duration": 77,
    "start_time": "2023-05-08T00:37:34.206Z"
   },
   {
    "duration": 18,
    "start_time": "2023-05-08T00:37:35.418Z"
   },
   {
    "duration": 81,
    "start_time": "2023-05-08T00:39:05.929Z"
   },
   {
    "duration": 81,
    "start_time": "2023-05-08T00:39:57.279Z"
   },
   {
    "duration": 68,
    "start_time": "2023-05-08T00:40:31.593Z"
   },
   {
    "duration": 10,
    "start_time": "2023-05-08T00:40:53.258Z"
   },
   {
    "duration": 112,
    "start_time": "2023-05-08T00:41:15.900Z"
   },
   {
    "duration": 98,
    "start_time": "2023-05-08T00:41:19.593Z"
   },
   {
    "duration": 1156,
    "start_time": "2023-05-08T00:41:36.236Z"
   },
   {
    "duration": 75,
    "start_time": "2023-05-08T00:41:37.394Z"
   },
   {
    "duration": 17,
    "start_time": "2023-05-08T00:41:37.471Z"
   },
   {
    "duration": 11,
    "start_time": "2023-05-08T00:41:37.490Z"
   },
   {
    "duration": 37,
    "start_time": "2023-05-08T00:41:37.503Z"
   },
   {
    "duration": 8,
    "start_time": "2023-05-08T00:41:37.541Z"
   },
   {
    "duration": 5,
    "start_time": "2023-05-08T00:41:37.551Z"
   },
   {
    "duration": 10,
    "start_time": "2023-05-08T00:41:37.558Z"
   },
   {
    "duration": 5,
    "start_time": "2023-05-08T00:41:37.570Z"
   },
   {
    "duration": 10,
    "start_time": "2023-05-08T00:41:37.577Z"
   },
   {
    "duration": 6,
    "start_time": "2023-05-08T00:41:37.588Z"
   },
   {
    "duration": 8,
    "start_time": "2023-05-08T00:41:37.595Z"
   },
   {
    "duration": 679,
    "start_time": "2023-05-08T00:41:37.604Z"
   },
   {
    "duration": 11,
    "start_time": "2023-05-08T00:41:38.285Z"
   },
   {
    "duration": 9,
    "start_time": "2023-05-08T00:41:47.481Z"
   },
   {
    "duration": 80,
    "start_time": "2023-05-08T00:42:37.601Z"
   },
   {
    "duration": 98,
    "start_time": "2023-05-08T00:43:09.529Z"
   },
   {
    "duration": 290,
    "start_time": "2023-05-08T00:43:21.431Z"
   },
   {
    "duration": 71,
    "start_time": "2023-05-08T00:45:43.576Z"
   },
   {
    "duration": 374,
    "start_time": "2023-05-08T00:46:13.887Z"
   },
   {
    "duration": 8,
    "start_time": "2023-05-08T00:50:16.379Z"
   },
   {
    "duration": 8,
    "start_time": "2023-05-08T00:50:58.041Z"
   },
   {
    "duration": 6,
    "start_time": "2023-05-08T00:51:02.196Z"
   },
   {
    "duration": 12,
    "start_time": "2023-05-08T00:51:25.827Z"
   },
   {
    "duration": 8,
    "start_time": "2023-05-08T00:51:33.619Z"
   },
   {
    "duration": 9,
    "start_time": "2023-05-08T00:52:12.023Z"
   },
   {
    "duration": 9,
    "start_time": "2023-05-08T00:52:51.978Z"
   },
   {
    "duration": 9,
    "start_time": "2023-05-08T00:53:20.509Z"
   },
   {
    "duration": 8,
    "start_time": "2023-05-08T00:53:34.106Z"
   },
   {
    "duration": 9,
    "start_time": "2023-05-08T00:54:48.027Z"
   },
   {
    "duration": 9,
    "start_time": "2023-05-08T00:56:57.713Z"
   },
   {
    "duration": 8,
    "start_time": "2023-05-08T00:57:09.580Z"
   },
   {
    "duration": 8,
    "start_time": "2023-05-08T00:57:29.623Z"
   },
   {
    "duration": 12,
    "start_time": "2023-05-08T00:57:48.518Z"
   },
   {
    "duration": 12,
    "start_time": "2023-05-08T00:57:54.660Z"
   },
   {
    "duration": 8,
    "start_time": "2023-05-08T00:58:04.891Z"
   },
   {
    "duration": 8,
    "start_time": "2023-05-08T01:00:36.716Z"
   },
   {
    "duration": 8,
    "start_time": "2023-05-08T01:01:04.982Z"
   },
   {
    "duration": 7,
    "start_time": "2023-05-08T01:01:05.786Z"
   },
   {
    "duration": 87,
    "start_time": "2023-05-08T01:01:34.655Z"
   },
   {
    "duration": 124,
    "start_time": "2023-05-08T01:01:42.531Z"
   },
   {
    "duration": 8,
    "start_time": "2023-05-08T01:01:52.812Z"
   },
   {
    "duration": 794,
    "start_time": "2023-05-08T01:02:25.730Z"
   },
   {
    "duration": 8,
    "start_time": "2023-05-08T01:02:33.388Z"
   },
   {
    "duration": 435,
    "start_time": "2023-05-08T01:02:47.100Z"
   },
   {
    "duration": 8,
    "start_time": "2023-05-08T01:02:52.266Z"
   },
   {
    "duration": 228,
    "start_time": "2023-05-08T01:03:05.938Z"
   },
   {
    "duration": 9,
    "start_time": "2023-05-08T01:03:09.253Z"
   },
   {
    "duration": 96,
    "start_time": "2023-05-08T01:03:34.397Z"
   },
   {
    "duration": 3,
    "start_time": "2023-05-08T01:03:42.696Z"
   },
   {
    "duration": 75,
    "start_time": "2023-05-08T01:04:29.938Z"
   },
   {
    "duration": 160,
    "start_time": "2023-05-08T01:04:33.815Z"
   },
   {
    "duration": 8,
    "start_time": "2023-05-08T01:04:45.564Z"
   },
   {
    "duration": 79,
    "start_time": "2023-05-08T01:04:51.260Z"
   },
   {
    "duration": 9,
    "start_time": "2023-05-08T01:05:08.829Z"
   },
   {
    "duration": 9,
    "start_time": "2023-05-08T01:05:18.275Z"
   },
   {
    "duration": 11,
    "start_time": "2023-05-08T01:05:37.983Z"
   },
   {
    "duration": 8,
    "start_time": "2023-05-08T01:05:51.935Z"
   },
   {
    "duration": 8,
    "start_time": "2023-05-08T01:05:58.158Z"
   },
   {
    "duration": 8,
    "start_time": "2023-05-08T01:06:06.782Z"
   },
   {
    "duration": 7,
    "start_time": "2023-05-08T01:06:13.515Z"
   },
   {
    "duration": 7,
    "start_time": "2023-05-08T01:09:56.676Z"
   },
   {
    "duration": 8,
    "start_time": "2023-05-08T01:10:09.431Z"
   },
   {
    "duration": 8,
    "start_time": "2023-05-08T01:10:49.909Z"
   },
   {
    "duration": 8,
    "start_time": "2023-05-08T01:10:52.538Z"
   },
   {
    "duration": 7,
    "start_time": "2023-05-08T01:11:12.491Z"
   },
   {
    "duration": 162,
    "start_time": "2023-05-08T01:11:18.543Z"
   },
   {
    "duration": 7,
    "start_time": "2023-05-08T01:11:21.524Z"
   },
   {
    "duration": 77,
    "start_time": "2023-05-08T01:11:32.745Z"
   },
   {
    "duration": 17,
    "start_time": "2023-05-08T01:11:38.349Z"
   },
   {
    "duration": 8,
    "start_time": "2023-05-08T01:11:54.301Z"
   },
   {
    "duration": 7,
    "start_time": "2023-05-08T01:12:15.572Z"
   },
   {
    "duration": 9,
    "start_time": "2023-05-08T01:12:44.587Z"
   },
   {
    "duration": 8,
    "start_time": "2023-05-08T01:13:59.975Z"
   },
   {
    "duration": 8,
    "start_time": "2023-05-08T01:14:08.989Z"
   },
   {
    "duration": 8,
    "start_time": "2023-05-08T01:14:09.489Z"
   },
   {
    "duration": 9,
    "start_time": "2023-05-08T01:14:36.457Z"
   },
   {
    "duration": 9,
    "start_time": "2023-05-08T01:15:58.836Z"
   },
   {
    "duration": 8,
    "start_time": "2023-05-08T01:16:01.673Z"
   },
   {
    "duration": 7,
    "start_time": "2023-05-08T01:16:01.937Z"
   },
   {
    "duration": 262,
    "start_time": "2023-05-08T01:41:23.511Z"
   },
   {
    "duration": 47,
    "start_time": "2023-05-08T17:51:41.047Z"
   },
   {
    "duration": 1461,
    "start_time": "2023-05-08T17:51:51.556Z"
   },
   {
    "duration": 99,
    "start_time": "2023-05-08T17:51:53.019Z"
   },
   {
    "duration": 23,
    "start_time": "2023-05-08T17:51:53.120Z"
   },
   {
    "duration": 13,
    "start_time": "2023-05-08T17:51:53.145Z"
   },
   {
    "duration": 49,
    "start_time": "2023-05-08T17:51:53.159Z"
   },
   {
    "duration": 8,
    "start_time": "2023-05-08T17:51:53.210Z"
   },
   {
    "duration": 10,
    "start_time": "2023-05-08T17:51:53.220Z"
   },
   {
    "duration": 21,
    "start_time": "2023-05-08T17:51:53.232Z"
   },
   {
    "duration": 23,
    "start_time": "2023-05-08T17:51:53.255Z"
   },
   {
    "duration": 26,
    "start_time": "2023-05-08T17:51:53.281Z"
   },
   {
    "duration": 20,
    "start_time": "2023-05-08T17:51:53.309Z"
   },
   {
    "duration": 32,
    "start_time": "2023-05-08T17:51:53.330Z"
   },
   {
    "duration": 844,
    "start_time": "2023-05-08T17:51:53.364Z"
   },
   {
    "duration": 18,
    "start_time": "2023-05-08T17:51:54.210Z"
   },
   {
    "duration": 366,
    "start_time": "2023-05-08T17:51:54.230Z"
   },
   {
    "duration": 10,
    "start_time": "2023-05-08T17:51:54.598Z"
   },
   {
    "duration": 9,
    "start_time": "2023-05-08T17:51:54.609Z"
   },
   {
    "duration": 8,
    "start_time": "2023-05-08T17:51:54.620Z"
   },
   {
    "duration": 33,
    "start_time": "2023-05-08T17:51:54.630Z"
   },
   {
    "duration": 117,
    "start_time": "2023-05-08T18:01:31.349Z"
   },
   {
    "duration": 15,
    "start_time": "2023-05-08T18:01:37.814Z"
   },
   {
    "duration": 14,
    "start_time": "2023-05-08T18:01:55.448Z"
   },
   {
    "duration": 15,
    "start_time": "2023-05-08T18:02:12.251Z"
   },
   {
    "duration": 14,
    "start_time": "2023-05-08T18:02:35.136Z"
   },
   {
    "duration": 126,
    "start_time": "2023-05-08T18:02:44.120Z"
   },
   {
    "duration": 110,
    "start_time": "2023-05-08T18:03:11.737Z"
   },
   {
    "duration": 115,
    "start_time": "2023-05-08T18:04:26.414Z"
   },
   {
    "duration": 10,
    "start_time": "2023-05-08T18:05:43.667Z"
   },
   {
    "duration": 13,
    "start_time": "2023-05-08T18:06:11.006Z"
   },
   {
    "duration": 90,
    "start_time": "2023-05-08T18:06:23.811Z"
   },
   {
    "duration": 3,
    "start_time": "2023-05-08T18:10:37.780Z"
   },
   {
    "duration": 8,
    "start_time": "2023-05-08T18:10:44.816Z"
   },
   {
    "duration": 50,
    "start_time": "2023-05-08T18:11:03.980Z"
   },
   {
    "duration": 46,
    "start_time": "2023-05-08T18:11:08.202Z"
   },
   {
    "duration": 15,
    "start_time": "2023-05-08T18:11:35.350Z"
   },
   {
    "duration": 6,
    "start_time": "2023-05-08T18:11:52.110Z"
   },
   {
    "duration": 5,
    "start_time": "2023-05-08T18:12:03.523Z"
   },
   {
    "duration": 10,
    "start_time": "2023-05-08T18:12:19.937Z"
   },
   {
    "duration": 7,
    "start_time": "2023-05-08T18:12:32.111Z"
   },
   {
    "duration": 14,
    "start_time": "2023-05-08T18:15:14.881Z"
   },
   {
    "duration": 11,
    "start_time": "2023-05-08T18:15:23.810Z"
   },
   {
    "duration": 78,
    "start_time": "2023-05-08T18:15:26.802Z"
   },
   {
    "duration": 46,
    "start_time": "2023-05-08T18:15:28.910Z"
   },
   {
    "duration": 13,
    "start_time": "2023-05-08T18:15:30.814Z"
   },
   {
    "duration": 9,
    "start_time": "2023-05-08T18:15:43.664Z"
   },
   {
    "duration": 10,
    "start_time": "2023-05-08T18:16:40.814Z"
   },
   {
    "duration": 13,
    "start_time": "2023-05-08T18:16:46.673Z"
   },
   {
    "duration": 12,
    "start_time": "2023-05-08T18:16:53.105Z"
   },
   {
    "duration": 3,
    "start_time": "2023-05-08T18:18:50.514Z"
   },
   {
    "duration": 3,
    "start_time": "2023-05-08T18:18:52.327Z"
   },
   {
    "duration": 310,
    "start_time": "2023-05-08T18:24:12.861Z"
   },
   {
    "duration": 6,
    "start_time": "2023-05-08T18:26:13.077Z"
   },
   {
    "duration": 76,
    "start_time": "2023-05-08T22:04:06.172Z"
   },
   {
    "duration": 1536,
    "start_time": "2023-05-08T22:04:13.447Z"
   },
   {
    "duration": 256,
    "start_time": "2023-05-08T22:04:14.986Z"
   },
   {
    "duration": 34,
    "start_time": "2023-05-08T22:04:15.244Z"
   },
   {
    "duration": 46,
    "start_time": "2023-05-08T22:04:15.280Z"
   },
   {
    "duration": 84,
    "start_time": "2023-05-08T22:04:15.329Z"
   },
   {
    "duration": 14,
    "start_time": "2023-05-08T22:04:15.415Z"
   },
   {
    "duration": 20,
    "start_time": "2023-05-08T22:04:15.431Z"
   },
   {
    "duration": 29,
    "start_time": "2023-05-08T22:04:15.454Z"
   },
   {
    "duration": 29,
    "start_time": "2023-05-08T22:04:15.485Z"
   },
   {
    "duration": 32,
    "start_time": "2023-05-08T22:04:15.516Z"
   },
   {
    "duration": 18,
    "start_time": "2023-05-08T22:04:15.551Z"
   },
   {
    "duration": 36,
    "start_time": "2023-05-08T22:04:15.575Z"
   },
   {
    "duration": 907,
    "start_time": "2023-05-08T22:04:15.613Z"
   },
   {
    "duration": 17,
    "start_time": "2023-05-08T22:04:16.524Z"
   },
   {
    "duration": 414,
    "start_time": "2023-05-08T22:04:16.543Z"
   },
   {
    "duration": 14,
    "start_time": "2023-05-08T22:04:16.958Z"
   },
   {
    "duration": 16,
    "start_time": "2023-05-08T22:04:16.974Z"
   },
   {
    "duration": 35,
    "start_time": "2023-05-08T22:04:16.993Z"
   },
   {
    "duration": 40,
    "start_time": "2023-05-08T22:04:17.030Z"
   },
   {
    "duration": 33,
    "start_time": "2023-05-08T22:04:24.644Z"
   },
   {
    "duration": 6,
    "start_time": "2023-05-08T22:07:58.521Z"
   },
   {
    "duration": 140,
    "start_time": "2023-05-08T22:08:23.100Z"
   },
   {
    "duration": 14,
    "start_time": "2023-05-08T22:08:26.616Z"
   },
   {
    "duration": 79,
    "start_time": "2023-05-08T22:09:01.237Z"
   },
   {
    "duration": 15,
    "start_time": "2023-05-08T22:09:52.114Z"
   },
   {
    "duration": 31,
    "start_time": "2023-05-08T22:09:56.096Z"
   },
   {
    "duration": 15,
    "start_time": "2023-05-08T22:10:24.437Z"
   },
   {
    "duration": 28,
    "start_time": "2023-05-08T22:10:44.794Z"
   },
   {
    "duration": 14,
    "start_time": "2023-05-08T22:12:07.471Z"
   },
   {
    "duration": 12,
    "start_time": "2023-05-08T22:12:57.600Z"
   },
   {
    "duration": 11,
    "start_time": "2023-05-08T22:12:58.363Z"
   },
   {
    "duration": 7,
    "start_time": "2023-05-08T22:13:28.480Z"
   },
   {
    "duration": 12,
    "start_time": "2023-05-08T22:13:33.496Z"
   },
   {
    "duration": 7,
    "start_time": "2023-05-08T22:13:34.743Z"
   },
   {
    "duration": 8,
    "start_time": "2023-05-08T22:13:38.788Z"
   },
   {
    "duration": 8,
    "start_time": "2023-05-08T22:14:58.598Z"
   },
   {
    "duration": 9,
    "start_time": "2023-05-08T22:14:59.160Z"
   },
   {
    "duration": 1289,
    "start_time": "2023-05-08T22:15:05.532Z"
   },
   {
    "duration": 73,
    "start_time": "2023-05-08T22:15:06.823Z"
   },
   {
    "duration": 27,
    "start_time": "2023-05-08T22:15:06.898Z"
   },
   {
    "duration": 13,
    "start_time": "2023-05-08T22:15:06.927Z"
   },
   {
    "duration": 75,
    "start_time": "2023-05-08T22:15:06.942Z"
   },
   {
    "duration": 14,
    "start_time": "2023-05-08T22:15:07.019Z"
   },
   {
    "duration": 10,
    "start_time": "2023-05-08T22:15:07.035Z"
   },
   {
    "duration": 22,
    "start_time": "2023-05-08T22:15:07.047Z"
   },
   {
    "duration": 15,
    "start_time": "2023-05-08T22:15:07.072Z"
   },
   {
    "duration": 36,
    "start_time": "2023-05-08T22:15:07.091Z"
   },
   {
    "duration": 10,
    "start_time": "2023-05-08T22:15:07.129Z"
   },
   {
    "duration": 33,
    "start_time": "2023-05-08T22:15:07.141Z"
   },
   {
    "duration": 850,
    "start_time": "2023-05-08T22:15:07.176Z"
   },
   {
    "duration": 18,
    "start_time": "2023-05-08T22:15:08.028Z"
   },
   {
    "duration": 314,
    "start_time": "2023-05-08T22:15:08.049Z"
   },
   {
    "duration": 11,
    "start_time": "2023-05-08T22:15:08.364Z"
   },
   {
    "duration": 18,
    "start_time": "2023-05-08T22:15:08.377Z"
   },
   {
    "duration": 25,
    "start_time": "2023-05-08T22:15:08.397Z"
   },
   {
    "duration": 14,
    "start_time": "2023-05-08T22:15:08.424Z"
   },
   {
    "duration": 31,
    "start_time": "2023-05-08T22:15:08.440Z"
   },
   {
    "duration": 52,
    "start_time": "2023-05-08T22:15:08.474Z"
   },
   {
    "duration": 87,
    "start_time": "2023-05-08T22:15:08.528Z"
   },
   {
    "duration": 14,
    "start_time": "2023-05-08T22:15:41.130Z"
   },
   {
    "duration": 42,
    "start_time": "2023-05-08T22:15:41.873Z"
   },
   {
    "duration": 11,
    "start_time": "2023-05-08T22:15:54.716Z"
   },
   {
    "duration": 8,
    "start_time": "2023-05-08T22:16:24.653Z"
   },
   {
    "duration": 14,
    "start_time": "2023-05-08T22:16:25.445Z"
   },
   {
    "duration": 1300,
    "start_time": "2023-05-08T22:16:33.386Z"
   },
   {
    "duration": 75,
    "start_time": "2023-05-08T22:16:34.688Z"
   },
   {
    "duration": 25,
    "start_time": "2023-05-08T22:16:34.767Z"
   },
   {
    "duration": 34,
    "start_time": "2023-05-08T22:16:34.794Z"
   },
   {
    "duration": 62,
    "start_time": "2023-05-08T22:16:34.830Z"
   },
   {
    "duration": 10,
    "start_time": "2023-05-08T22:16:34.894Z"
   },
   {
    "duration": 35,
    "start_time": "2023-05-08T22:16:34.905Z"
   },
   {
    "duration": 40,
    "start_time": "2023-05-08T22:16:34.942Z"
   },
   {
    "duration": 27,
    "start_time": "2023-05-08T22:16:34.983Z"
   },
   {
    "duration": 42,
    "start_time": "2023-05-08T22:16:35.012Z"
   },
   {
    "duration": 37,
    "start_time": "2023-05-08T22:16:35.056Z"
   },
   {
    "duration": 55,
    "start_time": "2023-05-08T22:16:35.095Z"
   },
   {
    "duration": 883,
    "start_time": "2023-05-08T22:16:35.154Z"
   },
   {
    "duration": 16,
    "start_time": "2023-05-08T22:16:36.039Z"
   },
   {
    "duration": 304,
    "start_time": "2023-05-08T22:16:36.057Z"
   },
   {
    "duration": 12,
    "start_time": "2023-05-08T22:16:36.363Z"
   },
   {
    "duration": 30,
    "start_time": "2023-05-08T22:16:36.377Z"
   },
   {
    "duration": 17,
    "start_time": "2023-05-08T22:16:36.410Z"
   },
   {
    "duration": 74,
    "start_time": "2023-05-08T22:16:36.429Z"
   },
   {
    "duration": 41,
    "start_time": "2023-05-08T22:16:36.506Z"
   },
   {
    "duration": 51,
    "start_time": "2023-05-08T22:16:36.549Z"
   },
   {
    "duration": 79,
    "start_time": "2023-05-08T22:16:36.602Z"
   },
   {
    "duration": 13,
    "start_time": "2023-05-08T22:17:06.925Z"
   },
   {
    "duration": 15,
    "start_time": "2023-05-08T22:17:07.647Z"
   },
   {
    "duration": 1387,
    "start_time": "2023-05-08T22:17:18.673Z"
   },
   {
    "duration": 86,
    "start_time": "2023-05-08T22:17:20.064Z"
   },
   {
    "duration": 24,
    "start_time": "2023-05-08T22:17:20.152Z"
   },
   {
    "duration": 121,
    "start_time": "2023-05-08T22:17:20.178Z"
   },
   {
    "duration": 63,
    "start_time": "2023-05-08T22:17:20.302Z"
   },
   {
    "duration": 15,
    "start_time": "2023-05-08T22:17:20.367Z"
   },
   {
    "duration": 10,
    "start_time": "2023-05-08T22:17:20.384Z"
   },
   {
    "duration": 37,
    "start_time": "2023-05-08T22:17:20.395Z"
   },
   {
    "duration": 27,
    "start_time": "2023-05-08T22:17:20.434Z"
   },
   {
    "duration": 27,
    "start_time": "2023-05-08T22:17:20.465Z"
   },
   {
    "duration": 27,
    "start_time": "2023-05-08T22:17:20.494Z"
   },
   {
    "duration": 18,
    "start_time": "2023-05-08T22:17:20.523Z"
   },
   {
    "duration": 843,
    "start_time": "2023-05-08T22:17:20.544Z"
   },
   {
    "duration": 31,
    "start_time": "2023-05-08T22:17:21.391Z"
   },
   {
    "duration": 306,
    "start_time": "2023-05-08T22:17:21.424Z"
   },
   {
    "duration": 11,
    "start_time": "2023-05-08T22:17:21.732Z"
   },
   {
    "duration": 25,
    "start_time": "2023-05-08T22:17:21.745Z"
   },
   {
    "duration": 12,
    "start_time": "2023-05-08T22:17:21.772Z"
   },
   {
    "duration": 32,
    "start_time": "2023-05-08T22:17:21.786Z"
   },
   {
    "duration": 16,
    "start_time": "2023-05-08T22:17:21.820Z"
   },
   {
    "duration": 65,
    "start_time": "2023-05-08T22:17:21.839Z"
   },
   {
    "duration": 74,
    "start_time": "2023-05-08T22:17:21.907Z"
   },
   {
    "duration": 131,
    "start_time": "2023-05-08T22:18:26.083Z"
   },
   {
    "duration": 8,
    "start_time": "2023-05-08T22:18:30.514Z"
   },
   {
    "duration": 10,
    "start_time": "2023-05-08T22:18:31.660Z"
   },
   {
    "duration": 16,
    "start_time": "2023-05-08T22:18:32.628Z"
   },
   {
    "duration": 1332,
    "start_time": "2023-05-08T22:18:37.902Z"
   },
   {
    "duration": 462,
    "start_time": "2023-05-08T22:18:39.237Z"
   },
   {
    "duration": 22,
    "start_time": "2023-05-08T22:18:39.700Z"
   },
   {
    "duration": 265,
    "start_time": "2023-05-08T22:18:39.724Z"
   },
   {
    "duration": 44,
    "start_time": "2023-05-08T22:18:39.992Z"
   },
   {
    "duration": 12,
    "start_time": "2023-05-08T22:18:40.038Z"
   },
   {
    "duration": 9,
    "start_time": "2023-05-08T22:18:40.052Z"
   },
   {
    "duration": 36,
    "start_time": "2023-05-08T22:18:40.063Z"
   },
   {
    "duration": 15,
    "start_time": "2023-05-08T22:18:40.101Z"
   },
   {
    "duration": 17,
    "start_time": "2023-05-08T22:18:40.118Z"
   },
   {
    "duration": 15,
    "start_time": "2023-05-08T22:18:40.137Z"
   },
   {
    "duration": 34,
    "start_time": "2023-05-08T22:18:40.153Z"
   },
   {
    "duration": 844,
    "start_time": "2023-05-08T22:18:40.189Z"
   },
   {
    "duration": 19,
    "start_time": "2023-05-08T22:18:41.037Z"
   },
   {
    "duration": 348,
    "start_time": "2023-05-08T22:18:41.059Z"
   },
   {
    "duration": 18,
    "start_time": "2023-05-08T22:18:41.408Z"
   },
   {
    "duration": 30,
    "start_time": "2023-05-08T22:18:41.428Z"
   },
   {
    "duration": 14,
    "start_time": "2023-05-08T22:18:41.461Z"
   },
   {
    "duration": 14,
    "start_time": "2023-05-08T22:18:41.477Z"
   },
   {
    "duration": 18,
    "start_time": "2023-05-08T22:18:41.493Z"
   },
   {
    "duration": 19,
    "start_time": "2023-05-08T22:18:41.513Z"
   },
   {
    "duration": 57,
    "start_time": "2023-05-08T22:18:41.534Z"
   },
   {
    "duration": 74,
    "start_time": "2023-05-08T22:18:41.593Z"
   },
   {
    "duration": 150,
    "start_time": "2023-05-08T22:22:20.534Z"
   },
   {
    "duration": 40,
    "start_time": "2023-05-08T22:22:29.370Z"
   },
   {
    "duration": 494,
    "start_time": "2023-05-08T22:24:16.569Z"
   },
   {
    "duration": 325,
    "start_time": "2023-05-08T22:24:33.605Z"
   },
   {
    "duration": 544,
    "start_time": "2023-05-08T22:24:41.685Z"
   },
   {
    "duration": 585,
    "start_time": "2023-05-08T22:28:25.610Z"
   },
   {
    "duration": 337,
    "start_time": "2023-05-08T22:28:36.002Z"
   },
   {
    "duration": 12,
    "start_time": "2023-05-08T22:33:23.686Z"
   },
   {
    "duration": 26,
    "start_time": "2023-05-08T22:33:31.511Z"
   },
   {
    "duration": 19,
    "start_time": "2023-05-08T22:33:48.835Z"
   },
   {
    "duration": 3,
    "start_time": "2023-05-08T22:34:25.388Z"
   },
   {
    "duration": 6,
    "start_time": "2023-05-08T22:34:34.342Z"
   },
   {
    "duration": 15,
    "start_time": "2023-05-08T22:34:58.963Z"
   },
   {
    "duration": 19,
    "start_time": "2023-05-08T22:35:17.791Z"
   },
   {
    "duration": 22,
    "start_time": "2023-05-08T22:35:45.887Z"
   },
   {
    "duration": 18,
    "start_time": "2023-05-08T22:36:08.429Z"
   },
   {
    "duration": 23,
    "start_time": "2023-05-08T22:36:11.861Z"
   },
   {
    "duration": 27,
    "start_time": "2023-05-08T22:37:12.013Z"
   },
   {
    "duration": 10,
    "start_time": "2023-05-08T22:37:31.952Z"
   },
   {
    "duration": 10,
    "start_time": "2023-05-08T22:37:56.231Z"
   },
   {
    "duration": 8,
    "start_time": "2023-05-08T22:38:01.341Z"
   },
   {
    "duration": 12,
    "start_time": "2023-05-08T22:38:45.373Z"
   },
   {
    "duration": 174,
    "start_time": "2023-05-08T22:38:48.935Z"
   },
   {
    "duration": 154,
    "start_time": "2023-05-08T22:38:57.450Z"
   },
   {
    "duration": 167,
    "start_time": "2023-05-08T22:39:01.244Z"
   },
   {
    "duration": 140,
    "start_time": "2023-05-08T22:39:09.413Z"
   },
   {
    "duration": 126,
    "start_time": "2023-05-08T22:39:13.947Z"
   },
   {
    "duration": 171,
    "start_time": "2023-05-08T22:40:55.498Z"
   },
   {
    "duration": 101,
    "start_time": "2023-05-08T22:41:10.039Z"
   },
   {
    "duration": 100,
    "start_time": "2023-05-08T22:41:37.916Z"
   },
   {
    "duration": 219,
    "start_time": "2023-05-08T22:41:57.043Z"
   },
   {
    "duration": 90,
    "start_time": "2023-05-08T22:43:22.179Z"
   },
   {
    "duration": 18,
    "start_time": "2023-05-08T22:43:51.849Z"
   },
   {
    "duration": 146,
    "start_time": "2023-05-08T22:43:59.138Z"
   },
   {
    "duration": 5,
    "start_time": "2023-05-08T22:44:58.686Z"
   },
   {
    "duration": 7,
    "start_time": "2023-05-08T22:45:06.568Z"
   },
   {
    "duration": 624,
    "start_time": "2023-05-08T22:45:52.206Z"
   },
   {
    "duration": 534,
    "start_time": "2023-05-08T22:46:23.944Z"
   },
   {
    "duration": 73,
    "start_time": "2023-05-08T22:46:54.067Z"
   },
   {
    "duration": 6246,
    "start_time": "2023-05-08T22:47:09.689Z"
   },
   {
    "duration": 6982,
    "start_time": "2023-05-08T22:47:35.174Z"
   },
   {
    "duration": 6624,
    "start_time": "2023-05-08T22:47:48.020Z"
   },
   {
    "duration": 186,
    "start_time": "2023-05-08T22:48:30.947Z"
   },
   {
    "duration": 180,
    "start_time": "2023-05-08T22:49:13.871Z"
   },
   {
    "duration": 166,
    "start_time": "2023-05-08T22:49:20.409Z"
   },
   {
    "duration": 78,
    "start_time": "2023-05-08T22:52:12.098Z"
   },
   {
    "duration": 160,
    "start_time": "2023-05-08T22:55:27.509Z"
   },
   {
    "duration": 1459,
    "start_time": "2023-05-08T22:58:55.709Z"
   },
   {
    "duration": 112,
    "start_time": "2023-05-08T22:58:57.170Z"
   },
   {
    "duration": 23,
    "start_time": "2023-05-08T22:58:57.284Z"
   },
   {
    "duration": 77,
    "start_time": "2023-05-08T22:58:57.310Z"
   },
   {
    "duration": 76,
    "start_time": "2023-05-08T22:58:57.390Z"
   },
   {
    "duration": 10,
    "start_time": "2023-05-08T22:58:57.468Z"
   },
   {
    "duration": 27,
    "start_time": "2023-05-08T22:58:57.480Z"
   },
   {
    "duration": 42,
    "start_time": "2023-05-08T22:58:57.509Z"
   },
   {
    "duration": 36,
    "start_time": "2023-05-08T22:58:57.553Z"
   },
   {
    "duration": 25,
    "start_time": "2023-05-08T22:58:57.591Z"
   },
   {
    "duration": 20,
    "start_time": "2023-05-08T22:58:57.629Z"
   },
   {
    "duration": 28,
    "start_time": "2023-05-08T22:58:57.651Z"
   },
   {
    "duration": 862,
    "start_time": "2023-05-08T22:58:57.681Z"
   },
   {
    "duration": 16,
    "start_time": "2023-05-08T22:58:58.547Z"
   },
   {
    "duration": 320,
    "start_time": "2023-05-08T22:58:58.564Z"
   },
   {
    "duration": 11,
    "start_time": "2023-05-08T22:58:58.886Z"
   },
   {
    "duration": 47,
    "start_time": "2023-05-08T22:58:58.898Z"
   },
   {
    "duration": 20,
    "start_time": "2023-05-08T22:58:58.947Z"
   },
   {
    "duration": 26,
    "start_time": "2023-05-08T22:58:58.969Z"
   },
   {
    "duration": 50,
    "start_time": "2023-05-08T22:58:58.997Z"
   },
   {
    "duration": 23,
    "start_time": "2023-05-08T22:58:59.049Z"
   },
   {
    "duration": 41,
    "start_time": "2023-05-08T22:58:59.074Z"
   },
   {
    "duration": 161,
    "start_time": "2023-05-08T22:58:59.117Z"
   },
   {
    "duration": 670,
    "start_time": "2023-05-08T22:58:59.279Z"
   },
   {
    "duration": 168,
    "start_time": "2023-05-08T22:58:59.952Z"
   },
   {
    "duration": 103,
    "start_time": "2023-05-08T22:59:00.121Z"
   },
   {
    "duration": 90,
    "start_time": "2023-05-08T23:02:08.740Z"
   },
   {
    "duration": 121,
    "start_time": "2023-05-08T23:03:11.065Z"
   },
   {
    "duration": 88,
    "start_time": "2023-05-08T23:04:02.675Z"
   },
   {
    "duration": 99,
    "start_time": "2023-05-08T23:05:09.109Z"
   },
   {
    "duration": 85,
    "start_time": "2023-05-08T23:06:25.330Z"
   },
   {
    "duration": 100,
    "start_time": "2023-05-08T23:10:37.638Z"
   },
   {
    "duration": 103,
    "start_time": "2023-05-08T23:11:04.369Z"
   },
   {
    "duration": 11,
    "start_time": "2023-05-08T23:11:57.845Z"
   },
   {
    "duration": 11,
    "start_time": "2023-05-08T23:12:07.896Z"
   },
   {
    "duration": 1299,
    "start_time": "2023-05-08T23:12:26.843Z"
   },
   {
    "duration": 96,
    "start_time": "2023-05-08T23:12:28.144Z"
   },
   {
    "duration": 22,
    "start_time": "2023-05-08T23:12:28.242Z"
   },
   {
    "duration": 20,
    "start_time": "2023-05-08T23:12:28.265Z"
   },
   {
    "duration": 45,
    "start_time": "2023-05-08T23:12:28.287Z"
   },
   {
    "duration": 9,
    "start_time": "2023-05-08T23:12:28.334Z"
   },
   {
    "duration": 7,
    "start_time": "2023-05-08T23:12:28.345Z"
   },
   {
    "duration": 15,
    "start_time": "2023-05-08T23:12:28.353Z"
   },
   {
    "duration": 8,
    "start_time": "2023-05-08T23:12:28.370Z"
   },
   {
    "duration": 12,
    "start_time": "2023-05-08T23:12:28.379Z"
   },
   {
    "duration": 31,
    "start_time": "2023-05-08T23:12:28.392Z"
   },
   {
    "duration": 13,
    "start_time": "2023-05-08T23:12:28.425Z"
   },
   {
    "duration": 761,
    "start_time": "2023-05-08T23:12:28.439Z"
   },
   {
    "duration": 21,
    "start_time": "2023-05-08T23:12:29.203Z"
   },
   {
    "duration": 254,
    "start_time": "2023-05-08T23:12:29.225Z"
   },
   {
    "duration": 10,
    "start_time": "2023-05-08T23:12:29.480Z"
   },
   {
    "duration": 25,
    "start_time": "2023-05-08T23:12:29.492Z"
   },
   {
    "duration": 8,
    "start_time": "2023-05-08T23:12:29.519Z"
   },
   {
    "duration": 7,
    "start_time": "2023-05-08T23:12:29.528Z"
   },
   {
    "duration": 11,
    "start_time": "2023-05-08T23:12:29.536Z"
   },
   {
    "duration": 12,
    "start_time": "2023-05-08T23:12:29.548Z"
   },
   {
    "duration": 27,
    "start_time": "2023-05-08T23:12:29.561Z"
   },
   {
    "duration": 140,
    "start_time": "2023-05-08T23:12:29.589Z"
   },
   {
    "duration": 562,
    "start_time": "2023-05-08T23:12:29.731Z"
   },
   {
    "duration": 139,
    "start_time": "2023-05-08T23:12:30.295Z"
   },
   {
    "duration": 101,
    "start_time": "2023-05-08T23:12:30.436Z"
   },
   {
    "duration": 85,
    "start_time": "2023-05-08T23:20:40.436Z"
   },
   {
    "duration": 110,
    "start_time": "2023-05-08T23:22:47.261Z"
   },
   {
    "duration": 122,
    "start_time": "2023-05-08T23:24:10.316Z"
   },
   {
    "duration": 134,
    "start_time": "2023-05-08T23:24:53.830Z"
   },
   {
    "duration": 146,
    "start_time": "2023-05-08T23:25:07.144Z"
   },
   {
    "duration": 105,
    "start_time": "2023-05-08T23:25:12.696Z"
   },
   {
    "duration": 150,
    "start_time": "2023-05-08T23:25:18.414Z"
   },
   {
    "duration": 146,
    "start_time": "2023-05-08T23:25:41.268Z"
   },
   {
    "duration": 133,
    "start_time": "2023-05-08T23:25:56.030Z"
   },
   {
    "duration": 136,
    "start_time": "2023-05-08T23:26:32.666Z"
   },
   {
    "duration": 226,
    "start_time": "2023-05-08T23:26:50.769Z"
   },
   {
    "duration": 140,
    "start_time": "2023-05-08T23:27:06.065Z"
   },
   {
    "duration": 155,
    "start_time": "2023-05-08T23:27:25.590Z"
   },
   {
    "duration": 69,
    "start_time": "2023-05-08T23:28:51.188Z"
   },
   {
    "duration": 110,
    "start_time": "2023-05-08T23:33:25.138Z"
   },
   {
    "duration": 103,
    "start_time": "2023-05-08T23:34:00.974Z"
   },
   {
    "duration": 113,
    "start_time": "2023-05-08T23:34:11.192Z"
   },
   {
    "duration": 73,
    "start_time": "2023-05-08T23:36:20.210Z"
   },
   {
    "duration": 86,
    "start_time": "2023-05-08T23:36:23.704Z"
   },
   {
    "duration": 104,
    "start_time": "2023-05-08T23:36:57.151Z"
   },
   {
    "duration": 97,
    "start_time": "2023-05-08T23:37:27.556Z"
   },
   {
    "duration": 98,
    "start_time": "2023-05-08T23:37:35.092Z"
   },
   {
    "duration": 92,
    "start_time": "2023-05-08T23:37:38.994Z"
   },
   {
    "duration": 96,
    "start_time": "2023-05-08T23:37:47.595Z"
   },
   {
    "duration": 73,
    "start_time": "2023-05-08T23:38:40.334Z"
   },
   {
    "duration": 92,
    "start_time": "2023-05-08T23:40:14.387Z"
   },
   {
    "duration": 74,
    "start_time": "2023-05-08T23:51:42.705Z"
   },
   {
    "duration": 134,
    "start_time": "2023-05-08T23:55:23.038Z"
   },
   {
    "duration": 98,
    "start_time": "2023-05-08T23:55:37.940Z"
   },
   {
    "duration": 68,
    "start_time": "2023-05-08T23:57:48.469Z"
   },
   {
    "duration": 633,
    "start_time": "2023-05-09T00:01:30.306Z"
   },
   {
    "duration": 219,
    "start_time": "2023-05-09T00:01:39.428Z"
   },
   {
    "duration": 222,
    "start_time": "2023-05-09T00:02:09.729Z"
   },
   {
    "duration": 226,
    "start_time": "2023-05-09T00:02:20.204Z"
   },
   {
    "duration": 218,
    "start_time": "2023-05-09T00:02:28.538Z"
   },
   {
    "duration": 168,
    "start_time": "2023-05-09T00:02:38.766Z"
   },
   {
    "duration": 517,
    "start_time": "2023-05-09T00:02:49.470Z"
   },
   {
    "duration": 791,
    "start_time": "2023-05-09T00:04:58.552Z"
   },
   {
    "duration": 256,
    "start_time": "2023-05-09T00:05:35.281Z"
   },
   {
    "duration": 4,
    "start_time": "2023-05-09T00:06:35.159Z"
   },
   {
    "duration": 1406,
    "start_time": "2023-05-09T00:06:41.331Z"
   },
   {
    "duration": 101,
    "start_time": "2023-05-09T00:06:42.740Z"
   },
   {
    "duration": 23,
    "start_time": "2023-05-09T00:06:42.843Z"
   },
   {
    "duration": 26,
    "start_time": "2023-05-09T00:06:42.868Z"
   },
   {
    "duration": 55,
    "start_time": "2023-05-09T00:06:42.897Z"
   },
   {
    "duration": 10,
    "start_time": "2023-05-09T00:06:42.954Z"
   },
   {
    "duration": 25,
    "start_time": "2023-05-09T00:06:42.966Z"
   },
   {
    "duration": 57,
    "start_time": "2023-05-09T00:06:42.993Z"
   },
   {
    "duration": 22,
    "start_time": "2023-05-09T00:06:43.051Z"
   },
   {
    "duration": 51,
    "start_time": "2023-05-09T00:06:43.075Z"
   },
   {
    "duration": 33,
    "start_time": "2023-05-09T00:06:43.128Z"
   },
   {
    "duration": 39,
    "start_time": "2023-05-09T00:06:43.163Z"
   },
   {
    "duration": 849,
    "start_time": "2023-05-09T00:06:43.203Z"
   },
   {
    "duration": 13,
    "start_time": "2023-05-09T00:06:44.055Z"
   },
   {
    "duration": 304,
    "start_time": "2023-05-09T00:06:44.070Z"
   },
   {
    "duration": 10,
    "start_time": "2023-05-09T00:06:44.376Z"
   },
   {
    "duration": 46,
    "start_time": "2023-05-09T00:06:44.388Z"
   },
   {
    "duration": 29,
    "start_time": "2023-05-09T00:06:44.436Z"
   },
   {
    "duration": 28,
    "start_time": "2023-05-09T00:06:44.468Z"
   },
   {
    "duration": 46,
    "start_time": "2023-05-09T00:06:44.498Z"
   },
   {
    "duration": 51,
    "start_time": "2023-05-09T00:06:44.545Z"
   },
   {
    "duration": 56,
    "start_time": "2023-05-09T00:06:44.598Z"
   },
   {
    "duration": 98,
    "start_time": "2023-05-09T00:06:44.656Z"
   },
   {
    "duration": 609,
    "start_time": "2023-05-09T00:06:44.755Z"
   },
   {
    "duration": 140,
    "start_time": "2023-05-09T00:06:45.365Z"
   },
   {
    "duration": 107,
    "start_time": "2023-05-09T00:06:45.507Z"
   },
   {
    "duration": 134,
    "start_time": "2023-05-09T00:06:45.627Z"
   },
   {
    "duration": 92,
    "start_time": "2023-05-09T00:06:45.762Z"
   },
   {
    "duration": 224,
    "start_time": "2023-05-09T00:06:45.856Z"
   },
   {
    "duration": 256,
    "start_time": "2023-05-09T00:06:46.082Z"
   },
   {
    "duration": 825,
    "start_time": "2023-05-09T00:06:46.340Z"
   },
   {
    "duration": 246,
    "start_time": "2023-05-09T00:07:05.999Z"
   },
   {
    "duration": 244,
    "start_time": "2023-05-09T00:07:47.536Z"
   },
   {
    "duration": 252,
    "start_time": "2023-05-09T00:08:32.086Z"
   },
   {
    "duration": 196,
    "start_time": "2023-05-09T00:10:01.095Z"
   },
   {
    "duration": 212,
    "start_time": "2023-05-09T00:10:30.831Z"
   },
   {
    "duration": 127,
    "start_time": "2023-05-09T00:11:07.648Z"
   },
   {
    "duration": 253,
    "start_time": "2023-05-09T00:12:24.973Z"
   },
   {
    "duration": 216,
    "start_time": "2023-05-09T00:16:59.316Z"
   },
   {
    "duration": 310,
    "start_time": "2023-05-09T00:17:39.637Z"
   },
   {
    "duration": 195,
    "start_time": "2023-05-09T00:18:59.632Z"
   },
   {
    "duration": 73,
    "start_time": "2023-05-09T00:20:33.854Z"
   },
   {
    "duration": 89,
    "start_time": "2023-05-09T00:21:05.339Z"
   },
   {
    "duration": 220,
    "start_time": "2023-05-09T00:21:10.588Z"
   },
   {
    "duration": 223,
    "start_time": "2023-05-09T00:21:14.000Z"
   },
   {
    "duration": 241,
    "start_time": "2023-05-09T00:21:17.016Z"
   },
   {
    "duration": 291,
    "start_time": "2023-05-09T00:21:21.789Z"
   },
   {
    "duration": 193,
    "start_time": "2023-05-09T00:21:45.727Z"
   },
   {
    "duration": 229,
    "start_time": "2023-05-09T00:23:07.367Z"
   },
   {
    "duration": 346,
    "start_time": "2023-05-09T00:23:19.569Z"
   },
   {
    "duration": 226,
    "start_time": "2023-05-09T00:23:26.659Z"
   },
   {
    "duration": 219,
    "start_time": "2023-05-09T00:23:33.078Z"
   },
   {
    "duration": 127,
    "start_time": "2023-05-09T00:26:04.808Z"
   },
   {
    "duration": 123,
    "start_time": "2023-05-09T00:27:42.444Z"
   },
   {
    "duration": 977,
    "start_time": "2023-05-09T00:30:07.823Z"
   },
   {
    "duration": 115,
    "start_time": "2023-05-09T00:31:02.803Z"
   },
   {
    "duration": 14,
    "start_time": "2023-05-09T00:31:10.133Z"
   },
   {
    "duration": 874,
    "start_time": "2023-05-09T00:31:15.896Z"
   },
   {
    "duration": 872,
    "start_time": "2023-05-09T00:31:40.990Z"
   },
   {
    "duration": 91,
    "start_time": "2023-05-09T00:43:21.597Z"
   },
   {
    "duration": 106,
    "start_time": "2023-05-09T00:55:31.885Z"
   },
   {
    "duration": 128,
    "start_time": "2023-05-09T01:11:07.882Z"
   },
   {
    "duration": 104,
    "start_time": "2023-05-09T01:11:17.772Z"
   },
   {
    "duration": 264,
    "start_time": "2023-05-09T01:11:50.624Z"
   },
   {
    "duration": 171,
    "start_time": "2023-05-09T01:12:33.721Z"
   },
   {
    "duration": 19,
    "start_time": "2023-05-09T01:14:49.187Z"
   },
   {
    "duration": 6,
    "start_time": "2023-05-09T01:16:01.553Z"
   },
   {
    "duration": 22,
    "start_time": "2023-05-09T01:16:15.009Z"
   },
   {
    "duration": 22,
    "start_time": "2023-05-09T01:16:23.245Z"
   },
   {
    "duration": 6,
    "start_time": "2023-05-09T01:17:22.481Z"
   },
   {
    "duration": 68,
    "start_time": "2023-05-09T01:19:19.224Z"
   },
   {
    "duration": 6,
    "start_time": "2023-05-09T01:21:17.706Z"
   },
   {
    "duration": 10,
    "start_time": "2023-05-09T01:21:25.457Z"
   },
   {
    "duration": 7,
    "start_time": "2023-05-09T01:22:52.474Z"
   },
   {
    "duration": 5,
    "start_time": "2023-05-09T01:22:59.249Z"
   },
   {
    "duration": 6,
    "start_time": "2023-05-09T01:23:09.075Z"
   },
   {
    "duration": 6,
    "start_time": "2023-05-09T01:23:47.963Z"
   },
   {
    "duration": 12,
    "start_time": "2023-05-09T01:25:35.699Z"
   },
   {
    "duration": 394,
    "start_time": "2023-05-09T01:25:43.775Z"
   },
   {
    "duration": 10,
    "start_time": "2023-05-09T01:27:29.372Z"
   },
   {
    "duration": 442,
    "start_time": "2023-05-09T01:27:47.000Z"
   },
   {
    "duration": 1525,
    "start_time": "2023-05-09T01:27:59.715Z"
   },
   {
    "duration": 229,
    "start_time": "2023-05-09T01:28:24.881Z"
   },
   {
    "duration": 1144,
    "start_time": "2023-05-09T01:28:36.104Z"
   },
   {
    "duration": 224,
    "start_time": "2023-05-09T01:28:52.697Z"
   },
   {
    "duration": 1556,
    "start_time": "2023-05-09T01:29:25.648Z"
   },
   {
    "duration": 225,
    "start_time": "2023-05-09T01:32:52.661Z"
   },
   {
    "duration": 238,
    "start_time": "2023-05-09T01:34:06.671Z"
   },
   {
    "duration": 232,
    "start_time": "2023-05-09T01:34:14.421Z"
   },
   {
    "duration": 239,
    "start_time": "2023-05-09T01:35:35.809Z"
   },
   {
    "duration": 261,
    "start_time": "2023-05-09T01:35:53.067Z"
   },
   {
    "duration": 225,
    "start_time": "2023-05-09T01:36:03.928Z"
   },
   {
    "duration": 17,
    "start_time": "2023-05-09T01:37:49.015Z"
   },
   {
    "duration": 211,
    "start_time": "2023-05-09T01:37:53.785Z"
   },
   {
    "duration": 224,
    "start_time": "2023-05-09T01:38:02.217Z"
   },
   {
    "duration": 993,
    "start_time": "2023-05-09T01:38:56.845Z"
   },
   {
    "duration": 210,
    "start_time": "2023-05-09T01:40:54.245Z"
   },
   {
    "duration": 50,
    "start_time": "2023-05-09T12:12:22.146Z"
   },
   {
    "duration": 1398,
    "start_time": "2023-05-09T12:12:29.964Z"
   },
   {
    "duration": 276,
    "start_time": "2023-05-09T12:12:31.364Z"
   },
   {
    "duration": 22,
    "start_time": "2023-05-09T12:12:31.642Z"
   },
   {
    "duration": 18,
    "start_time": "2023-05-09T12:12:31.666Z"
   },
   {
    "duration": 43,
    "start_time": "2023-05-09T12:12:31.686Z"
   },
   {
    "duration": 20,
    "start_time": "2023-05-09T12:12:31.731Z"
   },
   {
    "duration": 23,
    "start_time": "2023-05-09T12:12:31.753Z"
   },
   {
    "duration": 39,
    "start_time": "2023-05-09T12:12:31.779Z"
   },
   {
    "duration": 48,
    "start_time": "2023-05-09T12:12:31.820Z"
   },
   {
    "duration": 37,
    "start_time": "2023-05-09T12:12:31.871Z"
   },
   {
    "duration": 42,
    "start_time": "2023-05-09T12:12:31.910Z"
   },
   {
    "duration": 44,
    "start_time": "2023-05-09T12:12:31.953Z"
   },
   {
    "duration": 931,
    "start_time": "2023-05-09T12:12:31.999Z"
   },
   {
    "duration": 15,
    "start_time": "2023-05-09T12:12:32.932Z"
   },
   {
    "duration": 278,
    "start_time": "2023-05-09T12:12:32.949Z"
   },
   {
    "duration": 9,
    "start_time": "2023-05-09T12:12:33.229Z"
   },
   {
    "duration": 36,
    "start_time": "2023-05-09T12:12:33.240Z"
   },
   {
    "duration": 30,
    "start_time": "2023-05-09T12:12:33.278Z"
   },
   {
    "duration": 24,
    "start_time": "2023-05-09T12:12:33.310Z"
   },
   {
    "duration": 30,
    "start_time": "2023-05-09T12:12:33.336Z"
   },
   {
    "duration": 17,
    "start_time": "2023-05-09T12:12:33.368Z"
   },
   {
    "duration": 48,
    "start_time": "2023-05-09T12:12:33.387Z"
   },
   {
    "duration": 93,
    "start_time": "2023-05-09T12:12:33.437Z"
   },
   {
    "duration": 555,
    "start_time": "2023-05-09T12:12:33.531Z"
   },
   {
    "duration": 142,
    "start_time": "2023-05-09T12:12:34.088Z"
   },
   {
    "duration": 89,
    "start_time": "2023-05-09T12:12:34.232Z"
   },
   {
    "duration": 131,
    "start_time": "2023-05-09T12:12:34.324Z"
   },
   {
    "duration": 96,
    "start_time": "2023-05-09T12:12:34.458Z"
   },
   {
    "duration": 208,
    "start_time": "2023-05-09T12:12:34.556Z"
   },
   {
    "duration": 228,
    "start_time": "2023-05-09T12:12:34.766Z"
   },
   {
    "duration": 241,
    "start_time": "2023-05-09T12:12:34.996Z"
   },
   {
    "duration": 316,
    "start_time": "2023-05-09T12:12:35.239Z"
   },
   {
    "duration": 955,
    "start_time": "2023-05-09T12:12:35.556Z"
   },
   {
    "duration": 6,
    "start_time": "2023-05-09T12:12:36.513Z"
   },
   {
    "duration": 39,
    "start_time": "2023-05-09T12:12:36.521Z"
   },
   {
    "duration": 255,
    "start_time": "2023-05-09T12:12:36.562Z"
   },
   {
    "duration": 225,
    "start_time": "2023-05-09T12:12:36.819Z"
   },
   {
    "duration": 238,
    "start_time": "2023-05-09T12:12:37.046Z"
   },
   {
    "duration": 191,
    "start_time": "2023-05-09T12:13:23.496Z"
   },
   {
    "duration": 191,
    "start_time": "2023-05-09T12:13:47.805Z"
   },
   {
    "duration": 214,
    "start_time": "2023-05-09T12:14:28.372Z"
   },
   {
    "duration": 212,
    "start_time": "2023-05-09T12:14:33.509Z"
   },
   {
    "duration": 220,
    "start_time": "2023-05-09T12:15:34.035Z"
   },
   {
    "duration": 313,
    "start_time": "2023-05-09T12:15:52.708Z"
   },
   {
    "duration": 251,
    "start_time": "2023-05-09T12:16:30.541Z"
   },
   {
    "duration": 9683,
    "start_time": "2023-05-09T12:17:14.432Z"
   },
   {
    "duration": 273,
    "start_time": "2023-05-09T12:17:41.826Z"
   },
   {
    "duration": 6,
    "start_time": "2023-05-09T12:20:07.857Z"
   },
   {
    "duration": 437,
    "start_time": "2023-05-09T12:20:16.009Z"
   },
   {
    "duration": 556,
    "start_time": "2023-05-09T12:20:48.056Z"
   },
   {
    "duration": 504,
    "start_time": "2023-05-09T12:21:23.105Z"
   },
   {
    "duration": 19,
    "start_time": "2023-05-09T12:21:50.844Z"
   },
   {
    "duration": 448,
    "start_time": "2023-05-09T12:21:58.349Z"
   },
   {
    "duration": 18,
    "start_time": "2023-05-09T12:54:10.617Z"
   },
   {
    "duration": 679,
    "start_time": "2023-05-09T12:54:16.128Z"
   },
   {
    "duration": 767,
    "start_time": "2023-05-09T12:58:52.624Z"
   },
   {
    "duration": 1219,
    "start_time": "2023-05-09T13:02:46.357Z"
   },
   {
    "duration": 913,
    "start_time": "2023-05-09T13:03:42.318Z"
   },
   {
    "duration": 866,
    "start_time": "2023-05-09T13:03:54.523Z"
   },
   {
    "duration": 949,
    "start_time": "2023-05-09T13:05:06.646Z"
   },
   {
    "duration": 196,
    "start_time": "2023-05-09T13:05:31.606Z"
   },
   {
    "duration": 905,
    "start_time": "2023-05-09T13:05:39.837Z"
   },
   {
    "duration": 199,
    "start_time": "2023-05-09T13:06:44.682Z"
   },
   {
    "duration": 961,
    "start_time": "2023-05-09T13:06:57.683Z"
   },
   {
    "duration": 33,
    "start_time": "2023-05-09T13:10:12.506Z"
   },
   {
    "duration": 15,
    "start_time": "2023-05-09T13:10:19.781Z"
   },
   {
    "duration": 1476,
    "start_time": "2023-05-09T13:10:34.116Z"
   },
   {
    "duration": 1444,
    "start_time": "2023-05-09T13:10:57.976Z"
   },
   {
    "duration": 15,
    "start_time": "2023-05-09T13:11:28.225Z"
   },
   {
    "duration": 11,
    "start_time": "2023-05-09T13:11:58.423Z"
   },
   {
    "duration": 13,
    "start_time": "2023-05-09T13:12:06.996Z"
   },
   {
    "duration": 797,
    "start_time": "2023-05-09T13:12:11.797Z"
   },
   {
    "duration": 14,
    "start_time": "2023-05-09T13:12:17.936Z"
   },
   {
    "duration": 1269,
    "start_time": "2023-05-09T13:12:25.134Z"
   },
   {
    "duration": 14,
    "start_time": "2023-05-09T13:15:30.617Z"
   },
   {
    "duration": 13,
    "start_time": "2023-05-09T13:15:42.652Z"
   },
   {
    "duration": 375,
    "start_time": "2023-05-09T13:15:49.078Z"
   },
   {
    "duration": 420,
    "start_time": "2023-05-09T13:16:02.411Z"
   },
   {
    "duration": 1852,
    "start_time": "2023-05-09T13:16:08.012Z"
   },
   {
    "duration": 2010,
    "start_time": "2023-05-09T13:17:00.695Z"
   },
   {
    "duration": 71,
    "start_time": "2023-05-09T13:17:29.740Z"
   },
   {
    "duration": 802,
    "start_time": "2023-05-09T13:17:41.609Z"
   },
   {
    "duration": 100,
    "start_time": "2023-05-09T13:18:48.664Z"
   },
   {
    "duration": 587,
    "start_time": "2023-05-09T13:19:05.200Z"
   },
   {
    "duration": 667,
    "start_time": "2023-05-09T13:20:01.345Z"
   },
   {
    "duration": 602,
    "start_time": "2023-05-09T13:20:16.502Z"
   },
   {
    "duration": 793,
    "start_time": "2023-05-09T13:21:48.700Z"
   },
   {
    "duration": 667,
    "start_time": "2023-05-09T13:22:00.551Z"
   },
   {
    "duration": 530,
    "start_time": "2023-05-09T13:22:24.603Z"
   },
   {
    "duration": 630,
    "start_time": "2023-05-09T13:22:33.453Z"
   },
   {
    "duration": 751,
    "start_time": "2023-05-09T13:23:24.969Z"
   },
   {
    "duration": 647,
    "start_time": "2023-05-09T13:23:34.649Z"
   },
   {
    "duration": 49,
    "start_time": "2023-05-09T13:23:43.704Z"
   },
   {
    "duration": 619,
    "start_time": "2023-05-09T13:23:52.728Z"
   },
   {
    "duration": 723,
    "start_time": "2023-05-09T13:24:02.439Z"
   },
   {
    "duration": 1260,
    "start_time": "2023-05-09T13:25:34.934Z"
   },
   {
    "duration": 77,
    "start_time": "2023-05-09T13:25:36.197Z"
   },
   {
    "duration": 23,
    "start_time": "2023-05-09T13:25:36.276Z"
   },
   {
    "duration": 19,
    "start_time": "2023-05-09T13:25:36.301Z"
   },
   {
    "duration": 45,
    "start_time": "2023-05-09T13:25:36.322Z"
   },
   {
    "duration": 13,
    "start_time": "2023-05-09T13:25:36.369Z"
   },
   {
    "duration": 7,
    "start_time": "2023-05-09T13:25:36.384Z"
   },
   {
    "duration": 35,
    "start_time": "2023-05-09T13:25:36.392Z"
   },
   {
    "duration": 31,
    "start_time": "2023-05-09T13:25:36.429Z"
   },
   {
    "duration": 24,
    "start_time": "2023-05-09T13:25:36.462Z"
   },
   {
    "duration": 14,
    "start_time": "2023-05-09T13:25:36.488Z"
   },
   {
    "duration": 21,
    "start_time": "2023-05-09T13:25:36.504Z"
   },
   {
    "duration": 810,
    "start_time": "2023-05-09T13:25:36.526Z"
   },
   {
    "duration": 14,
    "start_time": "2023-05-09T13:25:37.340Z"
   },
   {
    "duration": 309,
    "start_time": "2023-05-09T13:25:37.356Z"
   },
   {
    "duration": 10,
    "start_time": "2023-05-09T13:25:37.667Z"
   },
   {
    "duration": 18,
    "start_time": "2023-05-09T13:25:37.679Z"
   },
   {
    "duration": 23,
    "start_time": "2023-05-09T13:25:37.699Z"
   },
   {
    "duration": 12,
    "start_time": "2023-05-09T13:25:37.724Z"
   },
   {
    "duration": 19,
    "start_time": "2023-05-09T13:25:37.738Z"
   },
   {
    "duration": 13,
    "start_time": "2023-05-09T13:25:37.759Z"
   },
   {
    "duration": 44,
    "start_time": "2023-05-09T13:25:37.774Z"
   },
   {
    "duration": 108,
    "start_time": "2023-05-09T13:25:37.821Z"
   },
   {
    "duration": 605,
    "start_time": "2023-05-09T13:25:37.931Z"
   },
   {
    "duration": 160,
    "start_time": "2023-05-09T13:25:38.538Z"
   },
   {
    "duration": 102,
    "start_time": "2023-05-09T13:25:38.700Z"
   },
   {
    "duration": 132,
    "start_time": "2023-05-09T13:25:38.817Z"
   },
   {
    "duration": 96,
    "start_time": "2023-05-09T13:25:38.952Z"
   },
   {
    "duration": 237,
    "start_time": "2023-05-09T13:25:39.050Z"
   },
   {
    "duration": 239,
    "start_time": "2023-05-09T13:25:39.289Z"
   },
   {
    "duration": 257,
    "start_time": "2023-05-09T13:25:39.530Z"
   },
   {
    "duration": 312,
    "start_time": "2023-05-09T13:25:39.789Z"
   },
   {
    "duration": 877,
    "start_time": "2023-05-09T13:25:40.102Z"
   },
   {
    "duration": 6,
    "start_time": "2023-05-09T13:25:40.981Z"
   },
   {
    "duration": 789,
    "start_time": "2023-05-09T13:25:40.988Z"
   },
   {
    "duration": 134,
    "start_time": "2023-05-09T13:25:41.778Z"
   },
   {
    "duration": 720,
    "start_time": "2023-05-09T13:25:54.873Z"
   },
   {
    "duration": 658,
    "start_time": "2023-05-09T13:26:20.942Z"
   },
   {
    "duration": 647,
    "start_time": "2023-05-09T13:27:23.435Z"
   },
   {
    "duration": 637,
    "start_time": "2023-05-09T13:27:38.893Z"
   },
   {
    "duration": 622,
    "start_time": "2023-05-09T13:28:17.404Z"
   },
   {
    "duration": 1253,
    "start_time": "2023-05-09T13:34:13.026Z"
   },
   {
    "duration": 78,
    "start_time": "2023-05-09T13:34:14.281Z"
   },
   {
    "duration": 23,
    "start_time": "2023-05-09T13:34:14.360Z"
   },
   {
    "duration": 14,
    "start_time": "2023-05-09T13:34:14.385Z"
   },
   {
    "duration": 46,
    "start_time": "2023-05-09T13:34:14.402Z"
   },
   {
    "duration": 9,
    "start_time": "2023-05-09T13:34:14.450Z"
   },
   {
    "duration": 15,
    "start_time": "2023-05-09T13:34:14.461Z"
   },
   {
    "duration": 22,
    "start_time": "2023-05-09T13:34:14.478Z"
   },
   {
    "duration": 11,
    "start_time": "2023-05-09T13:34:14.501Z"
   },
   {
    "duration": 17,
    "start_time": "2023-05-09T13:34:14.514Z"
   },
   {
    "duration": 9,
    "start_time": "2023-05-09T13:34:14.533Z"
   },
   {
    "duration": 13,
    "start_time": "2023-05-09T13:34:14.544Z"
   },
   {
    "duration": 750,
    "start_time": "2023-05-09T13:34:14.559Z"
   },
   {
    "duration": 20,
    "start_time": "2023-05-09T13:34:15.311Z"
   },
   {
    "duration": 268,
    "start_time": "2023-05-09T13:34:15.333Z"
   },
   {
    "duration": 17,
    "start_time": "2023-05-09T13:34:15.603Z"
   },
   {
    "duration": 12,
    "start_time": "2023-05-09T13:34:15.622Z"
   },
   {
    "duration": 13,
    "start_time": "2023-05-09T13:34:15.637Z"
   },
   {
    "duration": 14,
    "start_time": "2023-05-09T13:34:15.652Z"
   },
   {
    "duration": 16,
    "start_time": "2023-05-09T13:34:15.667Z"
   },
   {
    "duration": 12,
    "start_time": "2023-05-09T13:34:15.685Z"
   },
   {
    "duration": 44,
    "start_time": "2023-05-09T13:34:15.699Z"
   },
   {
    "duration": 106,
    "start_time": "2023-05-09T13:34:15.744Z"
   },
   {
    "duration": 576,
    "start_time": "2023-05-09T13:34:15.852Z"
   },
   {
    "duration": 150,
    "start_time": "2023-05-09T13:34:16.430Z"
   },
   {
    "duration": 105,
    "start_time": "2023-05-09T13:34:16.582Z"
   },
   {
    "duration": 145,
    "start_time": "2023-05-09T13:34:16.689Z"
   },
   {
    "duration": 105,
    "start_time": "2023-05-09T13:34:16.835Z"
   },
   {
    "duration": 229,
    "start_time": "2023-05-09T13:34:16.942Z"
   },
   {
    "duration": 252,
    "start_time": "2023-05-09T13:34:17.173Z"
   },
   {
    "duration": 236,
    "start_time": "2023-05-09T13:34:17.427Z"
   },
   {
    "duration": 337,
    "start_time": "2023-05-09T13:34:17.666Z"
   },
   {
    "duration": 886,
    "start_time": "2023-05-09T13:34:18.005Z"
   },
   {
    "duration": 6,
    "start_time": "2023-05-09T13:34:18.893Z"
   },
   {
    "duration": 797,
    "start_time": "2023-05-09T13:34:18.901Z"
   },
   {
    "duration": 921,
    "start_time": "2023-05-09T13:34:19.700Z"
   },
   {
    "duration": 1361,
    "start_time": "2023-05-09T13:34:48.370Z"
   },
   {
    "duration": 89,
    "start_time": "2023-05-09T13:34:49.733Z"
   },
   {
    "duration": 23,
    "start_time": "2023-05-09T13:34:49.824Z"
   },
   {
    "duration": 14,
    "start_time": "2023-05-09T13:34:49.850Z"
   },
   {
    "duration": 69,
    "start_time": "2023-05-09T13:34:49.866Z"
   },
   {
    "duration": 9,
    "start_time": "2023-05-09T13:34:49.937Z"
   },
   {
    "duration": 41,
    "start_time": "2023-05-09T13:34:49.948Z"
   },
   {
    "duration": 67,
    "start_time": "2023-05-09T13:34:49.991Z"
   },
   {
    "duration": 51,
    "start_time": "2023-05-09T13:34:50.060Z"
   },
   {
    "duration": 49,
    "start_time": "2023-05-09T13:34:50.113Z"
   },
   {
    "duration": 27,
    "start_time": "2023-05-09T13:34:50.164Z"
   },
   {
    "duration": 35,
    "start_time": "2023-05-09T13:34:50.193Z"
   },
   {
    "duration": 884,
    "start_time": "2023-05-09T13:34:50.230Z"
   },
   {
    "duration": 17,
    "start_time": "2023-05-09T13:34:51.118Z"
   },
   {
    "duration": 306,
    "start_time": "2023-05-09T13:34:51.137Z"
   },
   {
    "duration": 10,
    "start_time": "2023-05-09T13:34:51.445Z"
   },
   {
    "duration": 20,
    "start_time": "2023-05-09T13:34:51.457Z"
   },
   {
    "duration": 11,
    "start_time": "2023-05-09T13:34:51.479Z"
   },
   {
    "duration": 32,
    "start_time": "2023-05-09T13:34:51.493Z"
   },
   {
    "duration": 14,
    "start_time": "2023-05-09T13:34:51.526Z"
   },
   {
    "duration": 15,
    "start_time": "2023-05-09T13:34:51.541Z"
   },
   {
    "duration": 29,
    "start_time": "2023-05-09T13:34:51.558Z"
   },
   {
    "duration": 112,
    "start_time": "2023-05-09T13:34:51.589Z"
   },
   {
    "duration": 744,
    "start_time": "2023-05-09T13:34:51.702Z"
   },
   {
    "duration": 213,
    "start_time": "2023-05-09T13:34:52.448Z"
   },
   {
    "duration": 154,
    "start_time": "2023-05-09T13:34:52.663Z"
   },
   {
    "duration": 164,
    "start_time": "2023-05-09T13:34:52.820Z"
   },
   {
    "duration": 114,
    "start_time": "2023-05-09T13:34:52.986Z"
   },
   {
    "duration": 277,
    "start_time": "2023-05-09T13:34:53.101Z"
   },
   {
    "duration": 274,
    "start_time": "2023-05-09T13:34:53.380Z"
   },
   {
    "duration": 259,
    "start_time": "2023-05-09T13:34:53.656Z"
   },
   {
    "duration": 346,
    "start_time": "2023-05-09T13:34:53.919Z"
   },
   {
    "duration": 933,
    "start_time": "2023-05-09T13:34:54.267Z"
   },
   {
    "duration": 8,
    "start_time": "2023-05-09T13:34:55.202Z"
   },
   {
    "duration": 773,
    "start_time": "2023-05-09T13:34:55.212Z"
   },
   {
    "duration": 1391,
    "start_time": "2023-05-09T13:37:54.601Z"
   },
   {
    "duration": 89,
    "start_time": "2023-05-09T13:37:55.994Z"
   },
   {
    "duration": 23,
    "start_time": "2023-05-09T13:37:56.085Z"
   },
   {
    "duration": 19,
    "start_time": "2023-05-09T13:37:56.109Z"
   },
   {
    "duration": 58,
    "start_time": "2023-05-09T13:37:56.132Z"
   },
   {
    "duration": 12,
    "start_time": "2023-05-09T13:37:56.192Z"
   },
   {
    "duration": 19,
    "start_time": "2023-05-09T13:37:56.206Z"
   },
   {
    "duration": 19,
    "start_time": "2023-05-09T13:37:56.228Z"
   },
   {
    "duration": 13,
    "start_time": "2023-05-09T13:37:56.249Z"
   },
   {
    "duration": 24,
    "start_time": "2023-05-09T13:37:56.264Z"
   },
   {
    "duration": 7,
    "start_time": "2023-05-09T13:37:56.290Z"
   },
   {
    "duration": 45,
    "start_time": "2023-05-09T13:37:56.299Z"
   },
   {
    "duration": 901,
    "start_time": "2023-05-09T13:37:56.346Z"
   },
   {
    "duration": 15,
    "start_time": "2023-05-09T13:37:57.250Z"
   },
   {
    "duration": 311,
    "start_time": "2023-05-09T13:37:57.267Z"
   },
   {
    "duration": 9,
    "start_time": "2023-05-09T13:37:57.580Z"
   },
   {
    "duration": 29,
    "start_time": "2023-05-09T13:37:57.591Z"
   },
   {
    "duration": 10,
    "start_time": "2023-05-09T13:37:57.628Z"
   },
   {
    "duration": 6,
    "start_time": "2023-05-09T13:37:57.640Z"
   },
   {
    "duration": 21,
    "start_time": "2023-05-09T13:37:57.647Z"
   },
   {
    "duration": 16,
    "start_time": "2023-05-09T13:37:57.670Z"
   },
   {
    "duration": 47,
    "start_time": "2023-05-09T13:37:57.687Z"
   },
   {
    "duration": 110,
    "start_time": "2023-05-09T13:37:57.736Z"
   },
   {
    "duration": 631,
    "start_time": "2023-05-09T13:37:57.848Z"
   },
   {
    "duration": 175,
    "start_time": "2023-05-09T13:37:58.481Z"
   },
   {
    "duration": 119,
    "start_time": "2023-05-09T13:37:58.657Z"
   },
   {
    "duration": 152,
    "start_time": "2023-05-09T13:37:58.778Z"
   },
   {
    "duration": 111,
    "start_time": "2023-05-09T13:37:58.934Z"
   },
   {
    "duration": 239,
    "start_time": "2023-05-09T13:37:59.047Z"
   },
   {
    "duration": 262,
    "start_time": "2023-05-09T13:37:59.288Z"
   },
   {
    "duration": 266,
    "start_time": "2023-05-09T13:37:59.552Z"
   },
   {
    "duration": 342,
    "start_time": "2023-05-09T13:37:59.821Z"
   },
   {
    "duration": 1023,
    "start_time": "2023-05-09T13:38:00.165Z"
   },
   {
    "duration": 7,
    "start_time": "2023-05-09T13:38:01.189Z"
   },
   {
    "duration": 926,
    "start_time": "2023-05-09T13:38:01.198Z"
   },
   {
    "duration": 127,
    "start_time": "2023-05-09T13:38:02.127Z"
   },
   {
    "duration": 13,
    "start_time": "2023-05-09T13:42:14.600Z"
   },
   {
    "duration": 3,
    "start_time": "2023-05-09T13:44:04.726Z"
   },
   {
    "duration": 12,
    "start_time": "2023-05-09T13:44:05.119Z"
   },
   {
    "duration": 3,
    "start_time": "2023-05-09T13:44:24.235Z"
   },
   {
    "duration": 458,
    "start_time": "2023-05-09T13:44:24.948Z"
   },
   {
    "duration": 2130,
    "start_time": "2023-05-09T13:44:50.246Z"
   },
   {
    "duration": 122,
    "start_time": "2023-05-09T13:45:30.469Z"
   },
   {
    "duration": 72,
    "start_time": "2023-05-09T13:45:40.504Z"
   },
   {
    "duration": 13,
    "start_time": "2023-05-09T13:46:00.396Z"
   },
   {
    "duration": 17,
    "start_time": "2023-05-09T13:46:06.921Z"
   },
   {
    "duration": 12,
    "start_time": "2023-05-09T13:46:25.956Z"
   },
   {
    "duration": 1751,
    "start_time": "2023-05-09T13:46:42.822Z"
   },
   {
    "duration": 3,
    "start_time": "2023-05-09T13:46:52.141Z"
   },
   {
    "duration": 343,
    "start_time": "2023-05-09T13:46:58.729Z"
   },
   {
    "duration": 481,
    "start_time": "2023-05-09T13:47:05.140Z"
   },
   {
    "duration": 2150,
    "start_time": "2023-05-09T13:47:09.194Z"
   },
   {
    "duration": 2111,
    "start_time": "2023-05-09T13:47:45.199Z"
   },
   {
    "duration": 14,
    "start_time": "2023-05-09T13:49:20.995Z"
   },
   {
    "duration": 2292,
    "start_time": "2023-05-09T13:49:28.098Z"
   },
   {
    "duration": 2386,
    "start_time": "2023-05-09T13:49:57.283Z"
   },
   {
    "duration": 19,
    "start_time": "2023-05-09T14:23:50.061Z"
   },
   {
    "duration": 6,
    "start_time": "2023-05-09T14:23:57.538Z"
   },
   {
    "duration": 20,
    "start_time": "2023-05-09T14:24:03.070Z"
   },
   {
    "duration": 25,
    "start_time": "2023-05-09T14:24:20.302Z"
   },
   {
    "duration": 20,
    "start_time": "2023-05-09T14:24:45.553Z"
   },
   {
    "duration": 133,
    "start_time": "2023-05-09T14:25:24.233Z"
   },
   {
    "duration": 498,
    "start_time": "2023-05-09T14:26:33.846Z"
   },
   {
    "duration": 769,
    "start_time": "2023-05-09T14:27:18.713Z"
   },
   {
    "duration": 750,
    "start_time": "2023-05-09T14:57:12.177Z"
   },
   {
    "duration": 103,
    "start_time": "2023-05-09T14:59:28.082Z"
   },
   {
    "duration": 180,
    "start_time": "2023-05-09T14:59:44.516Z"
   },
   {
    "duration": 129,
    "start_time": "2023-05-09T14:59:57.844Z"
   },
   {
    "duration": 97,
    "start_time": "2023-05-09T15:01:04.014Z"
   },
   {
    "duration": 646,
    "start_time": "2023-05-09T15:01:08.920Z"
   },
   {
    "duration": 563,
    "start_time": "2023-05-09T15:01:26.951Z"
   },
   {
    "duration": 74,
    "start_time": "2023-05-09T15:01:47.618Z"
   },
   {
    "duration": 520,
    "start_time": "2023-05-09T15:01:59.340Z"
   },
   {
    "duration": 108,
    "start_time": "2023-05-09T15:02:20.057Z"
   },
   {
    "duration": 671,
    "start_time": "2023-05-09T15:02:23.695Z"
   },
   {
    "duration": 2394,
    "start_time": "2023-05-09T15:03:01.675Z"
   },
   {
    "duration": 552,
    "start_time": "2023-05-09T15:03:18.617Z"
   },
   {
    "duration": 664,
    "start_time": "2023-05-09T15:03:27.124Z"
   },
   {
    "duration": 364,
    "start_time": "2023-05-09T15:03:52.528Z"
   },
   {
    "duration": 82,
    "start_time": "2023-05-09T15:04:04.896Z"
   },
   {
    "duration": 283,
    "start_time": "2023-05-09T15:04:14.144Z"
   },
   {
    "duration": 357,
    "start_time": "2023-05-09T15:04:24.803Z"
   },
   {
    "duration": 465,
    "start_time": "2023-05-09T15:04:52.013Z"
   },
   {
    "duration": 331,
    "start_time": "2023-05-09T15:05:01.190Z"
   },
   {
    "duration": 620,
    "start_time": "2023-05-09T15:05:10.467Z"
   },
   {
    "duration": 806,
    "start_time": "2023-05-09T15:06:32.477Z"
   },
   {
    "duration": 234,
    "start_time": "2023-05-09T15:08:16.431Z"
   },
   {
    "duration": 212,
    "start_time": "2023-05-09T15:08:29.283Z"
   },
   {
    "duration": 641,
    "start_time": "2023-05-09T15:09:00.605Z"
   },
   {
    "duration": 588,
    "start_time": "2023-05-09T15:09:08.791Z"
   },
   {
    "duration": 1737,
    "start_time": "2023-05-09T15:10:17.278Z"
   },
   {
    "duration": 110,
    "start_time": "2023-05-09T15:10:27.970Z"
   },
   {
    "duration": 1452,
    "start_time": "2023-05-09T15:10:31.438Z"
   },
   {
    "duration": 3,
    "start_time": "2023-05-09T15:11:11.326Z"
   },
   {
    "duration": 1362,
    "start_time": "2023-05-09T15:11:12.497Z"
   },
   {
    "duration": 1543,
    "start_time": "2023-05-09T15:12:15.202Z"
   },
   {
    "duration": 1089,
    "start_time": "2023-05-09T15:12:48.633Z"
   },
   {
    "duration": 871,
    "start_time": "2023-05-09T15:13:01.005Z"
   },
   {
    "duration": 778,
    "start_time": "2023-05-09T15:15:02.121Z"
   },
   {
    "duration": 5998,
    "start_time": "2023-05-09T15:17:02.186Z"
   },
   {
    "duration": 1021,
    "start_time": "2023-05-09T15:17:17.575Z"
   },
   {
    "duration": 1228,
    "start_time": "2023-05-09T15:33:03.650Z"
   },
   {
    "duration": 95,
    "start_time": "2023-05-09T15:33:04.879Z"
   },
   {
    "duration": 21,
    "start_time": "2023-05-09T15:33:04.976Z"
   },
   {
    "duration": 54,
    "start_time": "2023-05-09T15:33:04.999Z"
   },
   {
    "duration": 40,
    "start_time": "2023-05-09T15:33:05.054Z"
   },
   {
    "duration": 9,
    "start_time": "2023-05-09T15:33:05.096Z"
   },
   {
    "duration": 43,
    "start_time": "2023-05-09T15:33:05.106Z"
   },
   {
    "duration": 34,
    "start_time": "2023-05-09T15:33:05.151Z"
   },
   {
    "duration": 35,
    "start_time": "2023-05-09T15:33:05.186Z"
   },
   {
    "duration": 55,
    "start_time": "2023-05-09T15:33:05.226Z"
   },
   {
    "duration": 37,
    "start_time": "2023-05-09T15:33:05.282Z"
   },
   {
    "duration": 40,
    "start_time": "2023-05-09T15:33:05.321Z"
   },
   {
    "duration": 918,
    "start_time": "2023-05-09T15:33:05.363Z"
   },
   {
    "duration": 17,
    "start_time": "2023-05-09T15:33:06.283Z"
   },
   {
    "duration": 335,
    "start_time": "2023-05-09T15:33:06.302Z"
   },
   {
    "duration": 10,
    "start_time": "2023-05-09T15:33:06.639Z"
   },
   {
    "duration": 14,
    "start_time": "2023-05-09T15:33:06.651Z"
   },
   {
    "duration": 25,
    "start_time": "2023-05-09T15:33:06.667Z"
   },
   {
    "duration": 11,
    "start_time": "2023-05-09T15:33:06.694Z"
   },
   {
    "duration": 12,
    "start_time": "2023-05-09T15:33:06.707Z"
   },
   {
    "duration": 32,
    "start_time": "2023-05-09T15:33:06.721Z"
   },
   {
    "duration": 43,
    "start_time": "2023-05-09T15:33:06.755Z"
   },
   {
    "duration": 109,
    "start_time": "2023-05-09T15:33:06.800Z"
   },
   {
    "duration": 680,
    "start_time": "2023-05-09T15:33:06.911Z"
   },
   {
    "duration": 174,
    "start_time": "2023-05-09T15:33:07.593Z"
   },
   {
    "duration": 118,
    "start_time": "2023-05-09T15:33:07.769Z"
   },
   {
    "duration": 167,
    "start_time": "2023-05-09T15:33:07.888Z"
   },
   {
    "duration": 110,
    "start_time": "2023-05-09T15:33:08.058Z"
   },
   {
    "duration": 252,
    "start_time": "2023-05-09T15:33:08.170Z"
   },
   {
    "duration": 267,
    "start_time": "2023-05-09T15:33:08.425Z"
   },
   {
    "duration": 267,
    "start_time": "2023-05-09T15:33:08.694Z"
   },
   {
    "duration": 359,
    "start_time": "2023-05-09T15:33:08.963Z"
   },
   {
    "duration": 917,
    "start_time": "2023-05-09T15:33:09.326Z"
   },
   {
    "duration": 22,
    "start_time": "2023-05-09T15:33:10.245Z"
   },
   {
    "duration": 786,
    "start_time": "2023-05-09T15:33:10.269Z"
   },
   {
    "duration": 127,
    "start_time": "2023-05-09T15:33:11.057Z"
   },
   {
    "duration": 0,
    "start_time": "2023-05-09T15:33:11.186Z"
   },
   {
    "duration": 0,
    "start_time": "2023-05-09T15:33:11.188Z"
   },
   {
    "duration": 0,
    "start_time": "2023-05-09T15:33:11.189Z"
   },
   {
    "duration": 0,
    "start_time": "2023-05-09T15:33:11.190Z"
   },
   {
    "duration": 3,
    "start_time": "2023-05-09T15:34:10.704Z"
   },
   {
    "duration": 12,
    "start_time": "2023-05-09T15:34:10.950Z"
   },
   {
    "duration": 13,
    "start_time": "2023-05-09T15:34:32.620Z"
   },
   {
    "duration": 13,
    "start_time": "2023-05-09T15:34:57.596Z"
   },
   {
    "duration": 13,
    "start_time": "2023-05-09T15:35:04.809Z"
   },
   {
    "duration": 13,
    "start_time": "2023-05-09T15:35:09.243Z"
   },
   {
    "duration": 14,
    "start_time": "2023-05-09T15:35:11.736Z"
   },
   {
    "duration": 12,
    "start_time": "2023-05-09T15:35:54.988Z"
   },
   {
    "duration": 3,
    "start_time": "2023-05-09T15:35:59.079Z"
   },
   {
    "duration": 870,
    "start_time": "2023-05-09T15:36:01.949Z"
   },
   {
    "duration": 3,
    "start_time": "2023-05-09T15:36:56.158Z"
   },
   {
    "duration": 13,
    "start_time": "2023-05-09T15:36:57.252Z"
   },
   {
    "duration": 952,
    "start_time": "2023-05-09T15:37:08.620Z"
   },
   {
    "duration": 841,
    "start_time": "2023-05-09T15:37:17.585Z"
   },
   {
    "duration": 2388,
    "start_time": "2023-05-09T15:38:04.179Z"
   },
   {
    "duration": 6,
    "start_time": "2023-05-09T15:49:26.498Z"
   },
   {
    "duration": 6,
    "start_time": "2023-05-09T16:05:02.401Z"
   },
   {
    "duration": 1145,
    "start_time": "2023-05-09T16:05:13.498Z"
   },
   {
    "duration": 13,
    "start_time": "2023-05-09T16:05:51.113Z"
   },
   {
    "duration": 965,
    "start_time": "2023-05-09T16:05:58.713Z"
   },
   {
    "duration": 901,
    "start_time": "2023-05-09T16:06:13.301Z"
   },
   {
    "duration": 784,
    "start_time": "2023-05-09T16:06:24.885Z"
   },
   {
    "duration": 896,
    "start_time": "2023-05-09T16:06:38.758Z"
   },
   {
    "duration": 905,
    "start_time": "2023-05-09T16:06:54.182Z"
   },
   {
    "duration": 1005,
    "start_time": "2023-05-09T16:07:06.941Z"
   },
   {
    "duration": 11,
    "start_time": "2023-05-09T16:08:03.335Z"
   },
   {
    "duration": 1170,
    "start_time": "2023-05-09T16:13:17.875Z"
   },
   {
    "duration": 76,
    "start_time": "2023-05-09T16:13:19.049Z"
   },
   {
    "duration": 22,
    "start_time": "2023-05-09T16:13:19.127Z"
   },
   {
    "duration": 17,
    "start_time": "2023-05-09T16:13:19.150Z"
   },
   {
    "duration": 60,
    "start_time": "2023-05-09T16:13:19.169Z"
   },
   {
    "duration": 9,
    "start_time": "2023-05-09T16:13:19.231Z"
   },
   {
    "duration": 39,
    "start_time": "2023-05-09T16:13:19.242Z"
   },
   {
    "duration": 60,
    "start_time": "2023-05-09T16:13:19.283Z"
   },
   {
    "duration": 23,
    "start_time": "2023-05-09T16:13:19.345Z"
   },
   {
    "duration": 46,
    "start_time": "2023-05-09T16:13:19.370Z"
   },
   {
    "duration": 33,
    "start_time": "2023-05-09T16:13:19.417Z"
   },
   {
    "duration": 22,
    "start_time": "2023-05-09T16:13:19.451Z"
   },
   {
    "duration": 796,
    "start_time": "2023-05-09T16:13:19.475Z"
   },
   {
    "duration": 14,
    "start_time": "2023-05-09T16:13:20.274Z"
   },
   {
    "duration": 283,
    "start_time": "2023-05-09T16:13:20.289Z"
   },
   {
    "duration": 10,
    "start_time": "2023-05-09T16:13:20.574Z"
   },
   {
    "duration": 18,
    "start_time": "2023-05-09T16:13:20.585Z"
   },
   {
    "duration": 20,
    "start_time": "2023-05-09T16:13:20.604Z"
   },
   {
    "duration": 28,
    "start_time": "2023-05-09T16:13:20.626Z"
   },
   {
    "duration": 18,
    "start_time": "2023-05-09T16:13:20.656Z"
   },
   {
    "duration": 16,
    "start_time": "2023-05-09T16:13:20.675Z"
   },
   {
    "duration": 35,
    "start_time": "2023-05-09T16:13:20.693Z"
   },
   {
    "duration": 108,
    "start_time": "2023-05-09T16:13:20.730Z"
   },
   {
    "duration": 602,
    "start_time": "2023-05-09T16:13:20.840Z"
   },
   {
    "duration": 155,
    "start_time": "2023-05-09T16:13:21.444Z"
   },
   {
    "duration": 103,
    "start_time": "2023-05-09T16:13:21.602Z"
   },
   {
    "duration": 147,
    "start_time": "2023-05-09T16:13:21.718Z"
   },
   {
    "duration": 125,
    "start_time": "2023-05-09T16:13:21.867Z"
   },
   {
    "duration": 233,
    "start_time": "2023-05-09T16:13:21.995Z"
   },
   {
    "duration": 283,
    "start_time": "2023-05-09T16:13:22.229Z"
   },
   {
    "duration": 266,
    "start_time": "2023-05-09T16:13:22.514Z"
   },
   {
    "duration": 336,
    "start_time": "2023-05-09T16:13:22.782Z"
   },
   {
    "duration": 900,
    "start_time": "2023-05-09T16:13:23.120Z"
   },
   {
    "duration": 22,
    "start_time": "2023-05-09T16:13:24.022Z"
   },
   {
    "duration": 780,
    "start_time": "2023-05-09T16:13:24.047Z"
   },
   {
    "duration": 3,
    "start_time": "2023-05-09T16:13:24.830Z"
   },
   {
    "duration": 957,
    "start_time": "2023-05-09T16:13:24.835Z"
   },
   {
    "duration": 6,
    "start_time": "2023-05-09T16:13:25.794Z"
   },
   {
    "duration": 890,
    "start_time": "2023-05-09T16:13:25.802Z"
   },
   {
    "duration": 23,
    "start_time": "2023-05-09T16:13:26.695Z"
   },
   {
    "duration": 3,
    "start_time": "2023-05-09T16:13:26.723Z"
   },
   {
    "duration": 83,
    "start_time": "2023-05-09T16:13:26.728Z"
   },
   {
    "duration": 0,
    "start_time": "2023-05-09T16:13:26.813Z"
   },
   {
    "duration": 0,
    "start_time": "2023-05-09T16:13:26.814Z"
   },
   {
    "duration": 117,
    "start_time": "2023-05-09T16:13:37.070Z"
   },
   {
    "duration": 24,
    "start_time": "2023-05-09T16:13:44.010Z"
   },
   {
    "duration": 25,
    "start_time": "2023-05-09T16:13:45.842Z"
   },
   {
    "duration": 1286,
    "start_time": "2023-05-09T16:16:05.143Z"
   },
   {
    "duration": 76,
    "start_time": "2023-05-09T16:16:06.431Z"
   },
   {
    "duration": 24,
    "start_time": "2023-05-09T16:16:06.509Z"
   },
   {
    "duration": 13,
    "start_time": "2023-05-09T16:16:06.535Z"
   },
   {
    "duration": 45,
    "start_time": "2023-05-09T16:16:06.551Z"
   },
   {
    "duration": 11,
    "start_time": "2023-05-09T16:16:06.618Z"
   },
   {
    "duration": 13,
    "start_time": "2023-05-09T16:16:06.631Z"
   },
   {
    "duration": 25,
    "start_time": "2023-05-09T16:16:06.646Z"
   },
   {
    "duration": 7,
    "start_time": "2023-05-09T16:16:06.673Z"
   },
   {
    "duration": 14,
    "start_time": "2023-05-09T16:16:06.681Z"
   },
   {
    "duration": 27,
    "start_time": "2023-05-09T16:16:06.697Z"
   },
   {
    "duration": 22,
    "start_time": "2023-05-09T16:16:06.725Z"
   },
   {
    "duration": 812,
    "start_time": "2023-05-09T16:16:06.748Z"
   },
   {
    "duration": 14,
    "start_time": "2023-05-09T16:16:07.563Z"
   },
   {
    "duration": 292,
    "start_time": "2023-05-09T16:16:07.578Z"
   },
   {
    "duration": 10,
    "start_time": "2023-05-09T16:16:07.872Z"
   },
   {
    "duration": 22,
    "start_time": "2023-05-09T16:16:07.883Z"
   },
   {
    "duration": 14,
    "start_time": "2023-05-09T16:16:07.907Z"
   },
   {
    "duration": 12,
    "start_time": "2023-05-09T16:16:07.923Z"
   },
   {
    "duration": 19,
    "start_time": "2023-05-09T16:16:07.936Z"
   },
   {
    "duration": 12,
    "start_time": "2023-05-09T16:16:07.956Z"
   },
   {
    "duration": 28,
    "start_time": "2023-05-09T16:16:07.970Z"
   },
   {
    "duration": 104,
    "start_time": "2023-05-09T16:16:08.000Z"
   },
   {
    "duration": 564,
    "start_time": "2023-05-09T16:16:08.118Z"
   },
   {
    "duration": 162,
    "start_time": "2023-05-09T16:16:08.684Z"
   },
   {
    "duration": 106,
    "start_time": "2023-05-09T16:16:08.848Z"
   },
   {
    "duration": 146,
    "start_time": "2023-05-09T16:16:08.956Z"
   },
   {
    "duration": 104,
    "start_time": "2023-05-09T16:16:09.104Z"
   },
   {
    "duration": 221,
    "start_time": "2023-05-09T16:16:09.210Z"
   },
   {
    "duration": 249,
    "start_time": "2023-05-09T16:16:09.433Z"
   },
   {
    "duration": 245,
    "start_time": "2023-05-09T16:16:09.684Z"
   },
   {
    "duration": 317,
    "start_time": "2023-05-09T16:16:09.931Z"
   },
   {
    "duration": 901,
    "start_time": "2023-05-09T16:16:10.250Z"
   },
   {
    "duration": 24,
    "start_time": "2023-05-09T16:16:11.153Z"
   },
   {
    "duration": 764,
    "start_time": "2023-05-09T16:16:11.178Z"
   },
   {
    "duration": 3,
    "start_time": "2023-05-09T16:16:11.944Z"
   },
   {
    "duration": 964,
    "start_time": "2023-05-09T16:16:11.949Z"
   },
   {
    "duration": 6,
    "start_time": "2023-05-09T16:16:12.915Z"
   },
   {
    "duration": 887,
    "start_time": "2023-05-09T16:16:12.923Z"
   },
   {
    "duration": 14,
    "start_time": "2023-05-09T16:16:13.812Z"
   },
   {
    "duration": 12,
    "start_time": "2023-05-09T16:16:13.829Z"
   },
   {
    "duration": 35,
    "start_time": "2023-05-09T16:16:13.842Z"
   },
   {
    "duration": 118,
    "start_time": "2023-05-09T16:16:13.878Z"
   },
   {
    "duration": 0,
    "start_time": "2023-05-09T16:16:13.999Z"
   },
   {
    "duration": 109,
    "start_time": "2023-05-09T16:16:25.896Z"
   },
   {
    "duration": 18,
    "start_time": "2023-05-09T16:17:06.124Z"
   },
   {
    "duration": 44,
    "start_time": "2023-05-09T16:17:33.098Z"
   },
   {
    "duration": 277,
    "start_time": "2023-05-09T16:18:23.265Z"
   },
   {
    "duration": 28,
    "start_time": "2023-05-09T16:18:40.452Z"
   },
   {
    "duration": 18,
    "start_time": "2023-05-09T16:18:43.491Z"
   },
   {
    "duration": 929,
    "start_time": "2023-05-09T16:18:48.425Z"
   },
   {
    "duration": 879,
    "start_time": "2023-05-09T16:21:33.782Z"
   },
   {
    "duration": 922,
    "start_time": "2023-05-09T16:21:34.669Z"
   },
   {
    "duration": 763,
    "start_time": "2023-05-09T16:21:38.330Z"
   },
   {
    "duration": 957,
    "start_time": "2023-05-09T16:22:30.547Z"
   },
   {
    "duration": 1048,
    "start_time": "2023-05-09T16:25:00.231Z"
   },
   {
    "duration": 359,
    "start_time": "2023-05-09T16:25:25.399Z"
   },
   {
    "duration": 2,
    "start_time": "2023-05-09T16:25:48.452Z"
   },
   {
    "duration": 1306,
    "start_time": "2023-05-09T16:25:50.152Z"
   },
   {
    "duration": 937,
    "start_time": "2023-05-09T16:25:59.584Z"
   },
   {
    "duration": 1029,
    "start_time": "2023-05-09T16:26:24.393Z"
   },
   {
    "duration": 874,
    "start_time": "2023-05-09T16:27:32.803Z"
   },
   {
    "duration": 915,
    "start_time": "2023-05-09T16:27:39.853Z"
   },
   {
    "duration": 961,
    "start_time": "2023-05-09T16:27:52.352Z"
   },
   {
    "duration": 847,
    "start_time": "2023-05-09T16:28:11.103Z"
   },
   {
    "duration": 792,
    "start_time": "2023-05-09T16:28:22.621Z"
   },
   {
    "duration": 787,
    "start_time": "2023-05-09T16:28:28.712Z"
   },
   {
    "duration": 851,
    "start_time": "2023-05-09T16:28:39.884Z"
   },
   {
    "duration": 915,
    "start_time": "2023-05-09T16:28:41.299Z"
   },
   {
    "duration": 812,
    "start_time": "2023-05-09T16:28:42.217Z"
   },
   {
    "duration": 87,
    "start_time": "2023-05-09T16:28:59.910Z"
   },
   {
    "duration": 67,
    "start_time": "2023-05-09T16:29:02.584Z"
   },
   {
    "duration": 876,
    "start_time": "2023-05-09T16:29:07.393Z"
   },
   {
    "duration": 954,
    "start_time": "2023-05-09T16:29:17.304Z"
   },
   {
    "duration": 73,
    "start_time": "2023-05-09T16:36:05.938Z"
   },
   {
    "duration": 77,
    "start_time": "2023-05-09T16:43:18.057Z"
   },
   {
    "duration": 76,
    "start_time": "2023-05-09T18:59:05.048Z"
   },
   {
    "duration": 67,
    "start_time": "2023-05-09T19:01:41.713Z"
   },
   {
    "duration": 9,
    "start_time": "2023-05-09T19:04:13.026Z"
   },
   {
    "duration": 8,
    "start_time": "2023-05-09T19:04:23.183Z"
   },
   {
    "duration": 193,
    "start_time": "2023-05-09T19:04:59.908Z"
   },
   {
    "duration": 11,
    "start_time": "2023-05-09T19:05:41.109Z"
   },
   {
    "duration": 6,
    "start_time": "2023-05-09T19:05:45.406Z"
   },
   {
    "duration": 73,
    "start_time": "2023-05-09T19:10:16.658Z"
   },
   {
    "duration": 74,
    "start_time": "2023-05-09T19:24:03.004Z"
   },
   {
    "duration": 10,
    "start_time": "2023-05-09T19:25:08.078Z"
   },
   {
    "duration": 8,
    "start_time": "2023-05-09T19:25:10.955Z"
   },
   {
    "duration": 9,
    "start_time": "2023-05-09T19:25:11.434Z"
   },
   {
    "duration": 6,
    "start_time": "2023-05-09T19:25:14.635Z"
   },
   {
    "duration": 177,
    "start_time": "2023-05-09T19:25:15.063Z"
   },
   {
    "duration": 5,
    "start_time": "2023-05-09T19:25:15.418Z"
   },
   {
    "duration": 7,
    "start_time": "2023-05-09T19:25:44.329Z"
   },
   {
    "duration": 6,
    "start_time": "2023-05-09T19:27:03.780Z"
   },
   {
    "duration": 6,
    "start_time": "2023-05-09T19:27:09.804Z"
   },
   {
    "duration": 195,
    "start_time": "2023-05-09T19:27:59.452Z"
   },
   {
    "duration": 10,
    "start_time": "2023-05-09T19:28:29.777Z"
   },
   {
    "duration": 5,
    "start_time": "2023-05-09T19:28:35.037Z"
   },
   {
    "duration": 73,
    "start_time": "2023-05-09T19:35:17.701Z"
   },
   {
    "duration": 72,
    "start_time": "2023-05-09T19:35:23.773Z"
   },
   {
    "duration": 56,
    "start_time": "2023-05-10T08:32:05.338Z"
   },
   {
    "duration": 47,
    "start_time": "2023-05-10T08:35:24.312Z"
   },
   {
    "duration": 52,
    "start_time": "2023-05-10T08:36:20.178Z"
   },
   {
    "duration": 58,
    "start_time": "2023-05-10T08:37:14.590Z"
   },
   {
    "duration": 46,
    "start_time": "2023-05-10T08:37:32.788Z"
   },
   {
    "duration": 10,
    "start_time": "2023-05-10T09:31:37.915Z"
   },
   {
    "duration": 50,
    "start_time": "2023-05-10T09:33:28.225Z"
   },
   {
    "duration": 69,
    "start_time": "2023-05-10T09:46:46.539Z"
   },
   {
    "duration": 1726,
    "start_time": "2023-05-10T09:46:54.115Z"
   },
   {
    "duration": 137,
    "start_time": "2023-05-10T09:46:55.844Z"
   },
   {
    "duration": 44,
    "start_time": "2023-05-10T09:46:55.983Z"
   },
   {
    "duration": 19,
    "start_time": "2023-05-10T09:46:56.029Z"
   },
   {
    "duration": 68,
    "start_time": "2023-05-10T09:46:56.051Z"
   },
   {
    "duration": 16,
    "start_time": "2023-05-10T09:46:56.122Z"
   },
   {
    "duration": 9,
    "start_time": "2023-05-10T09:46:56.140Z"
   },
   {
    "duration": 21,
    "start_time": "2023-05-10T09:46:56.151Z"
   },
   {
    "duration": 29,
    "start_time": "2023-05-10T09:46:56.173Z"
   },
   {
    "duration": 21,
    "start_time": "2023-05-10T09:46:56.205Z"
   },
   {
    "duration": 12,
    "start_time": "2023-05-10T09:46:56.228Z"
   },
   {
    "duration": 11,
    "start_time": "2023-05-10T09:46:56.242Z"
   },
   {
    "duration": 986,
    "start_time": "2023-05-10T09:46:56.255Z"
   },
   {
    "duration": 20,
    "start_time": "2023-05-10T09:46:57.245Z"
   },
   {
    "duration": 349,
    "start_time": "2023-05-10T09:46:57.267Z"
   },
   {
    "duration": 12,
    "start_time": "2023-05-10T09:46:57.618Z"
   },
   {
    "duration": 12,
    "start_time": "2023-05-10T09:46:57.632Z"
   },
   {
    "duration": 13,
    "start_time": "2023-05-10T09:46:57.646Z"
   },
   {
    "duration": 33,
    "start_time": "2023-05-10T09:46:57.661Z"
   },
   {
    "duration": 11,
    "start_time": "2023-05-10T09:46:57.697Z"
   },
   {
    "duration": 16,
    "start_time": "2023-05-10T09:46:57.710Z"
   },
   {
    "duration": 36,
    "start_time": "2023-05-10T09:46:57.728Z"
   },
   {
    "duration": 157,
    "start_time": "2023-05-10T09:46:57.766Z"
   },
   {
    "duration": 734,
    "start_time": "2023-05-10T09:46:57.930Z"
   },
   {
    "duration": 219,
    "start_time": "2023-05-10T09:46:58.667Z"
   },
   {
    "duration": 139,
    "start_time": "2023-05-10T09:46:58.888Z"
   },
   {
    "duration": 153,
    "start_time": "2023-05-10T09:46:59.030Z"
   },
   {
    "duration": 134,
    "start_time": "2023-05-10T09:46:59.185Z"
   },
   {
    "duration": 273,
    "start_time": "2023-05-10T09:46:59.321Z"
   },
   {
    "duration": 438,
    "start_time": "2023-05-10T09:46:59.596Z"
   },
   {
    "duration": 0,
    "start_time": "2023-05-10T09:47:00.037Z"
   },
   {
    "duration": 0,
    "start_time": "2023-05-10T09:47:00.038Z"
   },
   {
    "duration": 0,
    "start_time": "2023-05-10T09:47:00.039Z"
   },
   {
    "duration": 0,
    "start_time": "2023-05-10T09:47:00.041Z"
   },
   {
    "duration": 0,
    "start_time": "2023-05-10T09:47:00.042Z"
   },
   {
    "duration": 0,
    "start_time": "2023-05-10T09:47:00.043Z"
   },
   {
    "duration": 0,
    "start_time": "2023-05-10T09:47:00.045Z"
   },
   {
    "duration": 0,
    "start_time": "2023-05-10T09:47:00.046Z"
   },
   {
    "duration": 0,
    "start_time": "2023-05-10T09:47:00.047Z"
   },
   {
    "duration": 0,
    "start_time": "2023-05-10T09:47:00.049Z"
   },
   {
    "duration": 0,
    "start_time": "2023-05-10T09:47:00.050Z"
   },
   {
    "duration": 0,
    "start_time": "2023-05-10T09:47:00.051Z"
   },
   {
    "duration": 0,
    "start_time": "2023-05-10T09:47:00.053Z"
   },
   {
    "duration": 0,
    "start_time": "2023-05-10T09:47:00.055Z"
   },
   {
    "duration": 0,
    "start_time": "2023-05-10T09:47:00.089Z"
   },
   {
    "duration": 0,
    "start_time": "2023-05-10T09:47:00.092Z"
   },
   {
    "duration": 0,
    "start_time": "2023-05-10T09:47:00.094Z"
   },
   {
    "duration": 0,
    "start_time": "2023-05-10T09:47:00.096Z"
   },
   {
    "duration": 0,
    "start_time": "2023-05-10T09:47:00.097Z"
   },
   {
    "duration": 0,
    "start_time": "2023-05-10T09:47:00.098Z"
   },
   {
    "duration": 0,
    "start_time": "2023-05-10T09:47:00.099Z"
   },
   {
    "duration": 294,
    "start_time": "2023-05-10T09:47:08.030Z"
   },
   {
    "duration": 386,
    "start_time": "2023-05-10T09:47:13.927Z"
   },
   {
    "duration": 288,
    "start_time": "2023-05-10T09:47:18.923Z"
   },
   {
    "duration": 1639,
    "start_time": "2023-05-10T09:48:45.833Z"
   },
   {
    "duration": 92,
    "start_time": "2023-05-10T09:48:47.475Z"
   },
   {
    "duration": 28,
    "start_time": "2023-05-10T09:48:47.569Z"
   },
   {
    "duration": 16,
    "start_time": "2023-05-10T09:48:47.599Z"
   },
   {
    "duration": 50,
    "start_time": "2023-05-10T09:48:47.620Z"
   },
   {
    "duration": 14,
    "start_time": "2023-05-10T09:48:47.688Z"
   },
   {
    "duration": 11,
    "start_time": "2023-05-10T09:48:47.707Z"
   },
   {
    "duration": 16,
    "start_time": "2023-05-10T09:48:47.720Z"
   },
   {
    "duration": 8,
    "start_time": "2023-05-10T09:48:47.738Z"
   },
   {
    "duration": 17,
    "start_time": "2023-05-10T09:48:47.747Z"
   },
   {
    "duration": 10,
    "start_time": "2023-05-10T09:48:47.795Z"
   },
   {
    "duration": 23,
    "start_time": "2023-05-10T09:48:47.807Z"
   },
   {
    "duration": 1035,
    "start_time": "2023-05-10T09:48:47.833Z"
   },
   {
    "duration": 28,
    "start_time": "2023-05-10T09:48:48.875Z"
   },
   {
    "duration": 395,
    "start_time": "2023-05-10T09:48:48.906Z"
   },
   {
    "duration": 13,
    "start_time": "2023-05-10T09:48:49.303Z"
   },
   {
    "duration": 34,
    "start_time": "2023-05-10T09:48:49.317Z"
   },
   {
    "duration": 10,
    "start_time": "2023-05-10T09:48:49.353Z"
   },
   {
    "duration": 13,
    "start_time": "2023-05-10T09:48:49.365Z"
   },
   {
    "duration": 14,
    "start_time": "2023-05-10T09:48:49.379Z"
   },
   {
    "duration": 25,
    "start_time": "2023-05-10T09:48:49.397Z"
   },
   {
    "duration": 44,
    "start_time": "2023-05-10T09:48:49.424Z"
   },
   {
    "duration": 129,
    "start_time": "2023-05-10T09:48:49.470Z"
   },
   {
    "duration": 869,
    "start_time": "2023-05-10T09:48:49.602Z"
   },
   {
    "duration": 244,
    "start_time": "2023-05-10T09:48:50.474Z"
   },
   {
    "duration": 173,
    "start_time": "2023-05-10T09:48:50.720Z"
   },
   {
    "duration": 183,
    "start_time": "2023-05-10T09:48:50.895Z"
   },
   {
    "duration": 136,
    "start_time": "2023-05-10T09:48:51.079Z"
   },
   {
    "duration": 287,
    "start_time": "2023-05-10T09:48:51.216Z"
   },
   {
    "duration": 365,
    "start_time": "2023-05-10T09:48:51.505Z"
   },
   {
    "duration": 335,
    "start_time": "2023-05-10T09:48:51.873Z"
   },
   {
    "duration": 354,
    "start_time": "2023-05-10T09:48:52.211Z"
   },
   {
    "duration": 995,
    "start_time": "2023-05-10T09:48:52.567Z"
   },
   {
    "duration": 24,
    "start_time": "2023-05-10T09:48:53.564Z"
   },
   {
    "duration": 916,
    "start_time": "2023-05-10T09:48:53.596Z"
   },
   {
    "duration": 6,
    "start_time": "2023-05-10T09:48:54.515Z"
   },
   {
    "duration": 1030,
    "start_time": "2023-05-10T09:48:54.524Z"
   },
   {
    "duration": 8,
    "start_time": "2023-05-10T09:48:55.556Z"
   },
   {
    "duration": 1010,
    "start_time": "2023-05-10T09:48:55.566Z"
   },
   {
    "duration": 22,
    "start_time": "2023-05-10T09:48:56.578Z"
   },
   {
    "duration": 19,
    "start_time": "2023-05-10T09:48:56.604Z"
   },
   {
    "duration": 1045,
    "start_time": "2023-05-10T09:48:56.625Z"
   },
   {
    "duration": 1060,
    "start_time": "2023-05-10T09:48:57.671Z"
   },
   {
    "duration": 1002,
    "start_time": "2023-05-10T09:48:58.733Z"
   },
   {
    "duration": 1014,
    "start_time": "2023-05-10T09:48:59.737Z"
   },
   {
    "duration": 8,
    "start_time": "2023-05-10T09:49:00.754Z"
   },
   {
    "duration": 300,
    "start_time": "2023-05-10T09:49:00.764Z"
   },
   {
    "duration": 6,
    "start_time": "2023-05-10T09:49:01.066Z"
   },
   {
    "duration": 258,
    "start_time": "2023-05-10T09:49:01.074Z"
   },
   {
    "duration": 350,
    "start_time": "2023-05-10T09:49:01.334Z"
   },
   {
    "duration": 9,
    "start_time": "2023-05-10T09:49:01.686Z"
   },
   {
    "duration": 50,
    "start_time": "2023-05-10T09:50:30.221Z"
   },
   {
    "duration": 1186,
    "start_time": "2023-05-10T09:50:36.845Z"
   },
   {
    "duration": 16,
    "start_time": "2023-05-10T09:50:49.046Z"
   },
   {
    "duration": 46,
    "start_time": "2023-05-10T09:51:19.023Z"
   },
   {
    "duration": 11,
    "start_time": "2023-05-10T09:51:43.924Z"
   },
   {
    "duration": 37,
    "start_time": "2023-05-10T09:51:54.313Z"
   },
   {
    "duration": 20,
    "start_time": "2023-05-10T10:05:28.892Z"
   },
   {
    "duration": 16,
    "start_time": "2023-05-10T10:05:40.441Z"
   },
   {
    "duration": 265,
    "start_time": "2023-05-10T10:15:21.909Z"
   },
   {
    "duration": 392,
    "start_time": "2023-05-10T10:15:26.064Z"
   },
   {
    "duration": 536,
    "start_time": "2023-05-10T10:15:48.286Z"
   },
   {
    "duration": 799,
    "start_time": "2023-05-10T10:16:16.361Z"
   },
   {
    "duration": 818,
    "start_time": "2023-05-10T10:16:19.024Z"
   },
   {
    "duration": 976,
    "start_time": "2023-05-10T10:16:24.953Z"
   },
   {
    "duration": 783,
    "start_time": "2023-05-10T10:16:31.931Z"
   },
   {
    "duration": 578,
    "start_time": "2023-05-10T10:16:37.513Z"
   },
   {
    "duration": 762,
    "start_time": "2023-05-10T10:16:43.608Z"
   },
   {
    "duration": 315,
    "start_time": "2023-05-10T10:16:51.422Z"
   },
   {
    "duration": 1143,
    "start_time": "2023-05-10T10:17:00.008Z"
   },
   {
    "duration": 943,
    "start_time": "2023-05-10T10:17:09.926Z"
   },
   {
    "duration": 893,
    "start_time": "2023-05-10T10:17:20.662Z"
   },
   {
    "duration": 983,
    "start_time": "2023-05-10T10:18:28.762Z"
   },
   {
    "duration": 879,
    "start_time": "2023-05-10T10:18:32.215Z"
   },
   {
    "duration": 993,
    "start_time": "2023-05-10T10:18:37.927Z"
   },
   {
    "duration": 830,
    "start_time": "2023-05-10T10:18:42.631Z"
   },
   {
    "duration": 867,
    "start_time": "2023-05-10T10:18:47.293Z"
   },
   {
    "duration": 801,
    "start_time": "2023-05-10T10:18:51.742Z"
   },
   {
    "duration": 1009,
    "start_time": "2023-05-10T10:19:09.138Z"
   },
   {
    "duration": 824,
    "start_time": "2023-05-10T10:19:14.022Z"
   },
   {
    "duration": 142,
    "start_time": "2023-05-10T10:19:50.157Z"
   },
   {
    "duration": 1011,
    "start_time": "2023-05-10T10:20:13.336Z"
   },
   {
    "duration": 12,
    "start_time": "2023-05-10T10:25:45.932Z"
   },
   {
    "duration": 11,
    "start_time": "2023-05-10T10:25:52.550Z"
   },
   {
    "duration": 34,
    "start_time": "2023-05-10T10:27:00.580Z"
   },
   {
    "duration": 16,
    "start_time": "2023-05-10T10:27:38.825Z"
   },
   {
    "duration": 173,
    "start_time": "2023-05-10T10:27:47.003Z"
   },
   {
    "duration": 129,
    "start_time": "2023-05-10T10:28:20.652Z"
   },
   {
    "duration": 141,
    "start_time": "2023-05-10T10:29:43.258Z"
   },
   {
    "duration": 260,
    "start_time": "2023-05-10T10:29:49.705Z"
   },
   {
    "duration": 266,
    "start_time": "2023-05-10T10:30:09.184Z"
   },
   {
    "duration": 1058,
    "start_time": "2023-05-10T10:30:19.124Z"
   },
   {
    "duration": 1168,
    "start_time": "2023-05-10T10:30:57.489Z"
   },
   {
    "duration": 913,
    "start_time": "2023-05-10T10:31:43.306Z"
   },
   {
    "duration": 1398,
    "start_time": "2023-05-10T10:33:18.555Z"
   },
   {
    "duration": 67,
    "start_time": "2023-05-10T10:33:19.955Z"
   },
   {
    "duration": 26,
    "start_time": "2023-05-10T10:33:20.024Z"
   },
   {
    "duration": 25,
    "start_time": "2023-05-10T10:33:20.052Z"
   },
   {
    "duration": 54,
    "start_time": "2023-05-10T10:33:20.080Z"
   },
   {
    "duration": 157,
    "start_time": "2023-05-10T10:33:20.136Z"
   },
   {
    "duration": 0,
    "start_time": "2023-05-10T10:33:20.296Z"
   },
   {
    "duration": 0,
    "start_time": "2023-05-10T10:33:20.298Z"
   },
   {
    "duration": 1,
    "start_time": "2023-05-10T10:33:20.299Z"
   },
   {
    "duration": 0,
    "start_time": "2023-05-10T10:33:20.300Z"
   },
   {
    "duration": 0,
    "start_time": "2023-05-10T10:33:20.301Z"
   },
   {
    "duration": 0,
    "start_time": "2023-05-10T10:33:20.302Z"
   },
   {
    "duration": 0,
    "start_time": "2023-05-10T10:33:20.308Z"
   },
   {
    "duration": 0,
    "start_time": "2023-05-10T10:33:20.309Z"
   },
   {
    "duration": 0,
    "start_time": "2023-05-10T10:33:20.311Z"
   },
   {
    "duration": 0,
    "start_time": "2023-05-10T10:33:20.313Z"
   },
   {
    "duration": 0,
    "start_time": "2023-05-10T10:33:20.315Z"
   },
   {
    "duration": 0,
    "start_time": "2023-05-10T10:33:20.318Z"
   },
   {
    "duration": 0,
    "start_time": "2023-05-10T10:33:20.319Z"
   },
   {
    "duration": 0,
    "start_time": "2023-05-10T10:33:20.320Z"
   },
   {
    "duration": 0,
    "start_time": "2023-05-10T10:33:20.323Z"
   },
   {
    "duration": 0,
    "start_time": "2023-05-10T10:33:20.325Z"
   },
   {
    "duration": 0,
    "start_time": "2023-05-10T10:33:20.326Z"
   },
   {
    "duration": 1,
    "start_time": "2023-05-10T10:33:20.327Z"
   },
   {
    "duration": 0,
    "start_time": "2023-05-10T10:33:20.329Z"
   },
   {
    "duration": 0,
    "start_time": "2023-05-10T10:33:20.330Z"
   },
   {
    "duration": 0,
    "start_time": "2023-05-10T10:33:20.332Z"
   },
   {
    "duration": 0,
    "start_time": "2023-05-10T10:33:20.334Z"
   },
   {
    "duration": 0,
    "start_time": "2023-05-10T10:33:20.336Z"
   },
   {
    "duration": 0,
    "start_time": "2023-05-10T10:33:20.337Z"
   },
   {
    "duration": 0,
    "start_time": "2023-05-10T10:33:20.338Z"
   },
   {
    "duration": 0,
    "start_time": "2023-05-10T10:33:20.341Z"
   },
   {
    "duration": 0,
    "start_time": "2023-05-10T10:33:20.394Z"
   },
   {
    "duration": 0,
    "start_time": "2023-05-10T10:33:20.395Z"
   },
   {
    "duration": 0,
    "start_time": "2023-05-10T10:33:20.397Z"
   },
   {
    "duration": 0,
    "start_time": "2023-05-10T10:33:20.398Z"
   },
   {
    "duration": 0,
    "start_time": "2023-05-10T10:33:20.399Z"
   },
   {
    "duration": 0,
    "start_time": "2023-05-10T10:33:20.400Z"
   },
   {
    "duration": 0,
    "start_time": "2023-05-10T10:33:20.401Z"
   },
   {
    "duration": 0,
    "start_time": "2023-05-10T10:33:20.402Z"
   },
   {
    "duration": 0,
    "start_time": "2023-05-10T10:33:20.404Z"
   },
   {
    "duration": 0,
    "start_time": "2023-05-10T10:33:20.405Z"
   },
   {
    "duration": 0,
    "start_time": "2023-05-10T10:33:20.405Z"
   },
   {
    "duration": 0,
    "start_time": "2023-05-10T10:33:20.406Z"
   },
   {
    "duration": 0,
    "start_time": "2023-05-10T10:33:20.407Z"
   },
   {
    "duration": 0,
    "start_time": "2023-05-10T10:33:20.409Z"
   },
   {
    "duration": 0,
    "start_time": "2023-05-10T10:33:20.410Z"
   },
   {
    "duration": 0,
    "start_time": "2023-05-10T10:33:20.411Z"
   },
   {
    "duration": 0,
    "start_time": "2023-05-10T10:33:20.412Z"
   },
   {
    "duration": 11,
    "start_time": "2023-05-10T10:33:37.723Z"
   },
   {
    "duration": 1338,
    "start_time": "2023-05-10T10:33:43.824Z"
   },
   {
    "duration": 64,
    "start_time": "2023-05-10T10:33:45.165Z"
   },
   {
    "duration": 25,
    "start_time": "2023-05-10T10:33:45.231Z"
   },
   {
    "duration": 13,
    "start_time": "2023-05-10T10:33:45.258Z"
   },
   {
    "duration": 54,
    "start_time": "2023-05-10T10:33:45.273Z"
   },
   {
    "duration": 10,
    "start_time": "2023-05-10T10:33:45.330Z"
   },
   {
    "duration": 19,
    "start_time": "2023-05-10T10:33:45.342Z"
   },
   {
    "duration": 26,
    "start_time": "2023-05-10T10:33:45.363Z"
   },
   {
    "duration": 18,
    "start_time": "2023-05-10T10:33:45.391Z"
   },
   {
    "duration": 13,
    "start_time": "2023-05-10T10:33:45.413Z"
   },
   {
    "duration": 8,
    "start_time": "2023-05-10T10:33:45.428Z"
   },
   {
    "duration": 12,
    "start_time": "2023-05-10T10:33:45.438Z"
   },
   {
    "duration": 906,
    "start_time": "2023-05-10T10:33:45.452Z"
   },
   {
    "duration": 16,
    "start_time": "2023-05-10T10:33:46.360Z"
   },
   {
    "duration": 313,
    "start_time": "2023-05-10T10:33:46.393Z"
   },
   {
    "duration": 10,
    "start_time": "2023-05-10T10:33:46.708Z"
   },
   {
    "duration": 24,
    "start_time": "2023-05-10T10:33:46.720Z"
   },
   {
    "duration": 85,
    "start_time": "2023-05-10T10:33:46.746Z"
   },
   {
    "duration": 19,
    "start_time": "2023-05-10T10:33:46.832Z"
   },
   {
    "duration": 60,
    "start_time": "2023-05-10T10:33:46.853Z"
   },
   {
    "duration": 23,
    "start_time": "2023-05-10T10:33:46.915Z"
   },
   {
    "duration": 38,
    "start_time": "2023-05-10T10:33:46.940Z"
   },
   {
    "duration": 105,
    "start_time": "2023-05-10T10:33:46.980Z"
   },
   {
    "duration": 676,
    "start_time": "2023-05-10T10:33:47.089Z"
   },
   {
    "duration": 178,
    "start_time": "2023-05-10T10:33:47.767Z"
   },
   {
    "duration": 117,
    "start_time": "2023-05-10T10:33:47.947Z"
   },
   {
    "duration": 196,
    "start_time": "2023-05-10T10:33:48.066Z"
   },
   {
    "duration": 126,
    "start_time": "2023-05-10T10:33:48.266Z"
   },
   {
    "duration": 255,
    "start_time": "2023-05-10T10:33:48.394Z"
   },
   {
    "duration": 132,
    "start_time": "2023-05-10T10:33:48.651Z"
   },
   {
    "duration": 0,
    "start_time": "2023-05-10T10:33:48.790Z"
   },
   {
    "duration": 0,
    "start_time": "2023-05-10T10:33:48.791Z"
   },
   {
    "duration": 0,
    "start_time": "2023-05-10T10:33:48.792Z"
   },
   {
    "duration": 0,
    "start_time": "2023-05-10T10:33:48.792Z"
   },
   {
    "duration": 0,
    "start_time": "2023-05-10T10:33:48.796Z"
   },
   {
    "duration": 0,
    "start_time": "2023-05-10T10:33:48.796Z"
   },
   {
    "duration": 0,
    "start_time": "2023-05-10T10:33:48.797Z"
   },
   {
    "duration": 0,
    "start_time": "2023-05-10T10:33:48.798Z"
   },
   {
    "duration": 0,
    "start_time": "2023-05-10T10:33:48.799Z"
   },
   {
    "duration": 0,
    "start_time": "2023-05-10T10:33:48.800Z"
   },
   {
    "duration": 0,
    "start_time": "2023-05-10T10:33:48.801Z"
   },
   {
    "duration": 0,
    "start_time": "2023-05-10T10:33:48.802Z"
   },
   {
    "duration": 0,
    "start_time": "2023-05-10T10:33:48.803Z"
   },
   {
    "duration": 0,
    "start_time": "2023-05-10T10:33:48.803Z"
   },
   {
    "duration": 0,
    "start_time": "2023-05-10T10:33:48.804Z"
   },
   {
    "duration": 0,
    "start_time": "2023-05-10T10:33:48.805Z"
   },
   {
    "duration": 0,
    "start_time": "2023-05-10T10:33:48.805Z"
   },
   {
    "duration": 0,
    "start_time": "2023-05-10T10:33:48.806Z"
   },
   {
    "duration": 0,
    "start_time": "2023-05-10T10:33:48.811Z"
   },
   {
    "duration": 3,
    "start_time": "2023-05-10T10:34:27.170Z"
   },
   {
    "duration": 16,
    "start_time": "2023-05-10T10:34:27.771Z"
   },
   {
    "duration": 3,
    "start_time": "2023-05-10T10:34:45.982Z"
   },
   {
    "duration": 1010,
    "start_time": "2023-05-10T10:34:46.576Z"
   },
   {
    "duration": 209,
    "start_time": "2023-05-10T10:35:30.789Z"
   },
   {
    "duration": 1643,
    "start_time": "2023-05-10T10:35:44.365Z"
   },
   {
    "duration": 66,
    "start_time": "2023-05-10T10:35:46.014Z"
   },
   {
    "duration": 33,
    "start_time": "2023-05-10T10:35:46.082Z"
   },
   {
    "duration": 18,
    "start_time": "2023-05-10T10:35:46.118Z"
   },
   {
    "duration": 88,
    "start_time": "2023-05-10T10:35:46.139Z"
   },
   {
    "duration": 14,
    "start_time": "2023-05-10T10:35:46.230Z"
   },
   {
    "duration": 9,
    "start_time": "2023-05-10T10:35:46.246Z"
   },
   {
    "duration": 55,
    "start_time": "2023-05-10T10:35:46.257Z"
   },
   {
    "duration": 7,
    "start_time": "2023-05-10T10:35:46.316Z"
   },
   {
    "duration": 16,
    "start_time": "2023-05-10T10:35:46.326Z"
   },
   {
    "duration": 11,
    "start_time": "2023-05-10T10:35:46.345Z"
   },
   {
    "duration": 34,
    "start_time": "2023-05-10T10:35:46.358Z"
   },
   {
    "duration": 935,
    "start_time": "2023-05-10T10:35:46.400Z"
   },
   {
    "duration": 19,
    "start_time": "2023-05-10T10:35:47.338Z"
   },
   {
    "duration": 352,
    "start_time": "2023-05-10T10:35:47.359Z"
   },
   {
    "duration": 15,
    "start_time": "2023-05-10T10:35:47.714Z"
   },
   {
    "duration": 14,
    "start_time": "2023-05-10T10:35:47.731Z"
   },
   {
    "duration": 10,
    "start_time": "2023-05-10T10:35:47.747Z"
   },
   {
    "duration": 53,
    "start_time": "2023-05-10T10:35:47.759Z"
   },
   {
    "duration": 13,
    "start_time": "2023-05-10T10:35:47.815Z"
   },
   {
    "duration": 19,
    "start_time": "2023-05-10T10:35:47.831Z"
   },
   {
    "duration": 58,
    "start_time": "2023-05-10T10:35:47.851Z"
   },
   {
    "duration": 135,
    "start_time": "2023-05-10T10:35:47.911Z"
   },
   {
    "duration": 725,
    "start_time": "2023-05-10T10:35:48.048Z"
   },
   {
    "duration": 165,
    "start_time": "2023-05-10T10:35:48.775Z"
   },
   {
    "duration": 160,
    "start_time": "2023-05-10T10:35:48.942Z"
   },
   {
    "duration": 169,
    "start_time": "2023-05-10T10:35:49.104Z"
   },
   {
    "duration": 132,
    "start_time": "2023-05-10T10:35:49.275Z"
   },
   {
    "duration": 238,
    "start_time": "2023-05-10T10:35:49.409Z"
   },
   {
    "duration": 3,
    "start_time": "2023-05-10T10:35:49.649Z"
   },
   {
    "duration": 1060,
    "start_time": "2023-05-10T10:35:49.654Z"
   },
   {
    "duration": 1179,
    "start_time": "2023-05-10T10:35:50.719Z"
   },
   {
    "duration": 37,
    "start_time": "2023-05-10T10:35:51.899Z"
   },
   {
    "duration": 956,
    "start_time": "2023-05-10T10:35:51.939Z"
   },
   {
    "duration": 6,
    "start_time": "2023-05-10T10:35:52.897Z"
   },
   {
    "duration": 1063,
    "start_time": "2023-05-10T10:35:52.910Z"
   },
   {
    "duration": 18,
    "start_time": "2023-05-10T10:35:53.975Z"
   },
   {
    "duration": 1030,
    "start_time": "2023-05-10T10:35:53.997Z"
   },
   {
    "duration": 18,
    "start_time": "2023-05-10T10:35:55.030Z"
   },
   {
    "duration": 3,
    "start_time": "2023-05-10T10:35:55.051Z"
   },
   {
    "duration": 1081,
    "start_time": "2023-05-10T10:35:55.060Z"
   },
   {
    "duration": 1059,
    "start_time": "2023-05-10T10:35:56.143Z"
   },
   {
    "duration": 873,
    "start_time": "2023-05-10T10:35:57.204Z"
   },
   {
    "duration": 1016,
    "start_time": "2023-05-10T10:35:58.079Z"
   },
   {
    "duration": 16,
    "start_time": "2023-05-10T10:35:59.099Z"
   },
   {
    "duration": 250,
    "start_time": "2023-05-10T10:35:59.118Z"
   },
   {
    "duration": 7,
    "start_time": "2023-05-10T10:35:59.369Z"
   },
   {
    "duration": 22,
    "start_time": "2023-05-10T10:35:59.378Z"
   },
   {
    "duration": 252,
    "start_time": "2023-05-10T10:35:59.406Z"
   },
   {
    "duration": 6,
    "start_time": "2023-05-10T10:35:59.660Z"
   },
   {
    "duration": 43,
    "start_time": "2023-05-10T10:38:36.220Z"
   },
   {
    "duration": 47,
    "start_time": "2023-05-10T10:38:41.017Z"
   },
   {
    "duration": 53,
    "start_time": "2023-05-10T10:38:44.215Z"
   },
   {
    "duration": 53,
    "start_time": "2023-05-10T10:50:24.658Z"
   },
   {
    "duration": 973,
    "start_time": "2023-05-10T10:59:28.647Z"
   },
   {
    "duration": 57,
    "start_time": "2023-05-10T11:01:06.722Z"
   },
   {
    "duration": 92,
    "start_time": "2023-05-10T11:03:59.476Z"
   },
   {
    "duration": 7,
    "start_time": "2023-05-11T01:33:27.378Z"
   },
   {
    "duration": 45,
    "start_time": "2023-05-11T01:33:27.873Z"
   },
   {
    "duration": 1531,
    "start_time": "2023-05-11T01:33:36.673Z"
   },
   {
    "duration": 183,
    "start_time": "2023-05-11T01:33:38.207Z"
   },
   {
    "duration": 36,
    "start_time": "2023-05-11T01:33:38.392Z"
   },
   {
    "duration": 22,
    "start_time": "2023-05-11T01:33:38.431Z"
   },
   {
    "duration": 59,
    "start_time": "2023-05-11T01:33:38.456Z"
   },
   {
    "duration": 11,
    "start_time": "2023-05-11T01:33:38.517Z"
   },
   {
    "duration": 10,
    "start_time": "2023-05-11T01:33:38.530Z"
   },
   {
    "duration": 13,
    "start_time": "2023-05-11T01:33:38.542Z"
   },
   {
    "duration": 6,
    "start_time": "2023-05-11T01:33:38.556Z"
   },
   {
    "duration": 18,
    "start_time": "2023-05-11T01:33:38.597Z"
   },
   {
    "duration": 10,
    "start_time": "2023-05-11T01:33:38.616Z"
   },
   {
    "duration": 14,
    "start_time": "2023-05-11T01:33:38.628Z"
   },
   {
    "duration": 782,
    "start_time": "2023-05-11T01:33:38.644Z"
   },
   {
    "duration": 15,
    "start_time": "2023-05-11T01:33:39.429Z"
   },
   {
    "duration": 299,
    "start_time": "2023-05-11T01:33:39.445Z"
   },
   {
    "duration": 8,
    "start_time": "2023-05-11T01:33:39.745Z"
   },
   {
    "duration": 17,
    "start_time": "2023-05-11T01:33:39.755Z"
   },
   {
    "duration": 29,
    "start_time": "2023-05-11T01:33:39.773Z"
   },
   {
    "duration": 21,
    "start_time": "2023-05-11T01:33:39.805Z"
   },
   {
    "duration": 12,
    "start_time": "2023-05-11T01:33:39.827Z"
   },
   {
    "duration": 14,
    "start_time": "2023-05-11T01:33:39.840Z"
   },
   {
    "duration": 26,
    "start_time": "2023-05-11T01:33:39.856Z"
   },
   {
    "duration": 93,
    "start_time": "2023-05-11T01:33:39.883Z"
   },
   {
    "duration": 577,
    "start_time": "2023-05-11T01:33:39.978Z"
   },
   {
    "duration": 142,
    "start_time": "2023-05-11T01:33:40.557Z"
   },
   {
    "duration": 83,
    "start_time": "2023-05-11T01:33:40.701Z"
   },
   {
    "duration": 134,
    "start_time": "2023-05-11T01:33:40.786Z"
   },
   {
    "duration": 99,
    "start_time": "2023-05-11T01:33:40.922Z"
   },
   {
    "duration": 207,
    "start_time": "2023-05-11T01:33:41.023Z"
   },
   {
    "duration": 3,
    "start_time": "2023-05-11T01:33:41.232Z"
   },
   {
    "duration": 671,
    "start_time": "2023-05-11T01:33:41.236Z"
   },
   {
    "duration": 984,
    "start_time": "2023-05-11T01:33:41.908Z"
   },
   {
    "duration": 24,
    "start_time": "2023-05-11T01:33:42.893Z"
   },
   {
    "duration": 770,
    "start_time": "2023-05-11T01:33:42.918Z"
   },
   {
    "duration": 8,
    "start_time": "2023-05-11T01:33:43.691Z"
   },
   {
    "duration": 876,
    "start_time": "2023-05-11T01:33:43.701Z"
   },
   {
    "duration": 8,
    "start_time": "2023-05-11T01:33:44.579Z"
   },
   {
    "duration": 912,
    "start_time": "2023-05-11T01:33:44.606Z"
   },
   {
    "duration": 10,
    "start_time": "2023-05-11T01:33:45.520Z"
   },
   {
    "duration": 4,
    "start_time": "2023-05-11T01:33:45.532Z"
   },
   {
    "duration": 951,
    "start_time": "2023-05-11T01:33:45.539Z"
   },
   {
    "duration": 851,
    "start_time": "2023-05-11T01:33:46.494Z"
   },
   {
    "duration": 741,
    "start_time": "2023-05-11T01:33:47.346Z"
   },
   {
    "duration": 819,
    "start_time": "2023-05-11T01:33:48.089Z"
   },
   {
    "duration": 7,
    "start_time": "2023-05-11T01:33:48.911Z"
   },
   {
    "duration": 179,
    "start_time": "2023-05-11T01:33:48.919Z"
   },
   {
    "duration": 9,
    "start_time": "2023-05-11T01:33:49.099Z"
   },
   {
    "duration": 21,
    "start_time": "2023-05-11T01:33:49.110Z"
   },
   {
    "duration": 185,
    "start_time": "2023-05-11T01:33:49.133Z"
   },
   {
    "duration": 5,
    "start_time": "2023-05-11T01:33:49.319Z"
   },
   {
    "duration": 3,
    "start_time": "2023-05-11T01:34:06.769Z"
   },
   {
    "duration": 748,
    "start_time": "2023-05-11T01:34:06.977Z"
   },
   {
    "duration": 48,
    "start_time": "2023-05-11T20:52:41.110Z"
   },
   {
    "duration": 69,
    "start_time": "2023-05-11T20:53:22.308Z"
   }
  ],
  "kernelspec": {
   "display_name": "Python 3 (ipykernel)",
   "language": "python",
   "name": "python3"
  },
  "language_info": {
   "codemirror_mode": {
    "name": "ipython",
    "version": 3
   },
   "file_extension": ".py",
   "mimetype": "text/x-python",
   "name": "python",
   "nbconvert_exporter": "python",
   "pygments_lexer": "ipython3",
   "version": "3.9.5"
  },
  "toc": {
   "base_numbering": 1,
   "nav_menu": {},
   "number_sections": true,
   "sideBar": true,
   "skip_h1_title": true,
   "title_cell": "Table of Contents",
   "title_sidebar": "Contents",
   "toc_cell": false,
   "toc_position": {},
   "toc_section_display": true,
   "toc_window_display": false
  }
 },
 "nbformat": 4,
 "nbformat_minor": 2
}
